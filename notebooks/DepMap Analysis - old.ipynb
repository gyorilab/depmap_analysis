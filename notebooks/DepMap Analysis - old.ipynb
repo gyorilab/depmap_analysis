{
 "cells": [
  {
   "cell_type": "markdown",
   "metadata": {},
   "source": [
    "# Dependency Map Data Analysis"
   ]
  },
  {
   "cell_type": "markdown",
   "metadata": {},
   "source": [
    "First we load the CERES scores for the CRISPR Avana data; the CERES scores account for the effects of gene copy number on viability effects in CRISPR. The data can be downloaded at: https://depmap.org/portal/dataset/Avana.\n",
    "\n",
    "For information on the CERES algorithm, see: Robin M. Meyers, Jordan G. Bryan, James M. McFarland, Barbara A. Weir, ... David E. Root, William C. Hahn, Aviad Tsherniak. Computational correction of copy number effect improves specificity of CRISPR-Cas9 essentiality screens in cancer cells. Nature Genetics 2017 October 49:1779–1784. doi:10.1038/ng.3984\n"
   ]
  },
  {
   "cell_type": "code",
   "execution_count": 143,
   "metadata": {},
   "outputs": [],
   "source": [
    "import pandas as pd\n",
    "from indra.databases import hgnc_client\n",
    "data = pd.read_csv('portal-Avana-2018-06-08.csv', index_col=0, header=0)\n",
    "data = data.transpose()"
   ]
  },
  {
   "cell_type": "code",
   "execution_count": 3,
   "metadata": {},
   "outputs": [],
   "source": [
    "# The correlations take a long time (> 1 hr) to calculate, so cache them\n",
    "# and don't recalculate unless desired\n",
    "recalculate = False\n",
    "if recalculate:\n",
    "    corr = data.corr()\n",
    "    corr.to_hdf('correlations.h5', 'correlations')\n",
    "else:\n",
    "    corr = pd.read_hdf('correlations.h5', 'correlations')"
   ]
  },
  {
   "cell_type": "code",
   "execution_count": 89,
   "metadata": {},
   "outputs": [],
   "source": [
    "#labels_to_drop = get_redundant_pairs(corr)\n",
    "#au_corr = corr_list.drop(labels=labels_to_drop).sort_values(ascending=False)\n",
    "corr_list = corr.unstack()\n",
    "large_corr = corr_list[corr_list != 1.0]\n",
    "large_corr = large_corr[large_corr.abs() > 0.5]\n",
    "sort_corrs = large_corr.abs().sort_values(ascending=False)"
   ]
  },
  {
   "cell_type": "code",
   "execution_count": 154,
   "metadata": {},
   "outputs": [],
   "source": [
    "with open('prior_genes.txt', 'rt') as f:\n",
    "    prior_genes = [line.strip() for line in f.readlines()]\n",
    "metab_genes = []\n",
    "with open('metabolic_genes.txt', 'rt') as f:\n",
    "    for line in f.readlines():\n",
    "        gene_name = line.strip().upper()\n",
    "        if gene_name in data:\n",
    "            metab_genes.append(gene_name)"
   ]
  },
  {
   "cell_type": "code",
   "execution_count": 145,
   "metadata": {},
   "outputs": [],
   "source": [
    "prior_corrs = large_corr[metab_genes]"
   ]
  },
  {
   "cell_type": "code",
   "execution_count": 157,
   "metadata": {},
   "outputs": [],
   "source": [
    "metab_data = data[metab_genes]"
   ]
  },
  {
   "cell_type": "code",
   "execution_count": 166,
   "metadata": {},
   "outputs": [],
   "source": [
    "metab_corr = metab_data.corr()"
   ]
  },
  {
   "cell_type": "code",
   "execution_count": 168,
   "metadata": {},
   "outputs": [],
   "source": [
    "mcorr_list = metab_corr.unstack()\n",
    "mlarge_corr = mcorr_list[mcorr_list != 1.0]\n",
    "mlarge_corr = mlarge_corr[mlarge_corr.abs() > 0.5]\n",
    "msort_corrs = mlarge_corr.abs().sort_values(ascending=False)"
   ]
  },
  {
   "cell_type": "code",
   "execution_count": 176,
   "metadata": {},
   "outputs": [
    {
     "data": {
      "text/plain": [
       "GSTT2       0.348826\n",
       "ATAD1       0.341677\n",
       "MGST1       0.314010\n",
       "AKR1B1      0.264788\n",
       "ARSG        0.254816\n",
       "STEAP1      0.250087\n",
       "POLI        0.248122\n",
       "HSD17B7     0.237662\n",
       "CASP2       0.212710\n",
       "B3GALT5     0.211714\n",
       "RDH12       0.207986\n",
       "ACSS2       0.200598\n",
       "UGT2A1      0.196365\n",
       "PTS         0.189176\n",
       "LPIN1       0.188622\n",
       "ADH6        0.183579\n",
       "ATP6V1G3    0.180598\n",
       "AKR1C2      0.180061\n",
       "ACAT2       0.179501\n",
       "IDI1        0.178993\n",
       "ACAD8       0.178447\n",
       "PUSL1       0.174587\n",
       "FKBP14      0.170670\n",
       "GLB1L2      0.170357\n",
       "BBOX1       0.167658\n",
       "STEAP4      0.166218\n",
       "COX7A1      0.164698\n",
       "HSD17B2     0.162923\n",
       "OBSCN       0.161878\n",
       "GAD2        0.160797\n",
       "              ...   \n",
       "POLR2C     -1.139142\n",
       "NFS1       -1.142792\n",
       "ATP6V0B    -1.154462\n",
       "TRNT1      -1.155042\n",
       "POLR2D     -1.156831\n",
       "ATP6V1A    -1.169582\n",
       "DUT        -1.178837\n",
       "POLR3B     -1.186540\n",
       "GUK1       -1.187185\n",
       "RPA1       -1.191544\n",
       "DTYMK      -1.208647\n",
       "SOD1       -1.215013\n",
       "KARS       -1.222383\n",
       "POLD3      -1.228439\n",
       "POLR2A     -1.231820\n",
       "POLR2B     -1.257460\n",
       "TARS       -1.266204\n",
       "POLE2      -1.277647\n",
       "POLR2E     -1.280054\n",
       "POLR3H     -1.282231\n",
       "ATP6V1F    -1.291327\n",
       "RRM1       -1.347674\n",
       "ATP6V1B2   -1.365915\n",
       "ATP6V0C    -1.394155\n",
       "POLR2I     -1.398204\n",
       "POLR1C     -1.413165\n",
       "POLR3A     -1.415032\n",
       "POLR2J     -1.448469\n",
       "RRM2       -1.487807\n",
       "POLR2L     -1.653359\n",
       "Length: 1401, dtype: float64"
      ]
     },
     "execution_count": 176,
     "metadata": {},
     "output_type": "execute_result"
    }
   ],
   "source": [
    "metab_data.mean().sort_values(ascending=False)"
   ]
  },
  {
   "cell_type": "code",
   "execution_count": 97,
   "metadata": {},
   "outputs": [
    {
     "data": {
      "text/plain": [
       "-0.023686431352091052"
      ]
     },
     "execution_count": 97,
     "metadata": {},
     "output_type": "execute_result"
    }
   ],
   "source": [
    "kras.PTPN11\n"
   ]
  },
  {
   "cell_type": "code",
   "execution_count": null,
   "metadata": {},
   "outputs": [],
   "source": [
    "kras."
   ]
  }
 ],
 "metadata": {
  "kernelspec": {
   "display_name": "Python 3",
   "language": "python",
   "name": "python3"
  },
  "language_info": {
   "codemirror_mode": {
    "name": "ipython",
    "version": 3
   },
   "file_extension": ".py",
   "mimetype": "text/x-python",
   "name": "python",
   "nbconvert_exporter": "python",
   "pygments_lexer": "ipython3",
   "version": "3.7.4"
  }
 },
 "nbformat": 4,
 "nbformat_minor": 2
}
