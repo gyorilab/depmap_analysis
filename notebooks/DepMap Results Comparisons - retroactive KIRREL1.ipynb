{
 "cells": [
  {
   "cell_type": "code",
   "execution_count": 1,
   "metadata": {},
   "outputs": [],
   "source": [
    "import pickle\n",
    "from os.path import join"
   ]
  },
  {
   "cell_type": "code",
   "execution_count": 2,
   "metadata": {},
   "outputs": [],
   "source": [
    "basepath = '../../datasets/depmap_analysis/output_data/20Q4v2_D2v6_20210126/'"
   ]
  },
  {
   "cell_type": "code",
   "execution_count": 5,
   "metadata": {},
   "outputs": [],
   "source": [
    "sd5_uns_file = join(basepath, 'unsigned_expl_5_sd.pkl')\n",
    "sd5_pb_file = join(basepath, 'pb_expl_5_sd.pkl')"
   ]
  },
  {
   "cell_type": "code",
   "execution_count": 6,
   "metadata": {},
   "outputs": [],
   "source": [
    "with open(sd5_uns_file, 'rb') as f:\n",
    "    sd5_uns = pickle.load(f)\n",
    "with open(sd5_pb_file, 'rb') as f:\n",
    "    sd5_pb = pickle.load(f)\n"
   ]
  },
  {
   "cell_type": "code",
   "execution_count": 7,
   "metadata": {},
   "outputs": [
    {
     "data": {
      "text/plain": [
       "{}"
      ]
     },
     "execution_count": 7,
     "metadata": {},
     "output_type": "execute_result"
    }
   ],
   "source": [
    "sd5_pb.corr_stats_axb"
   ]
  },
  {
   "cell_type": "code",
   "execution_count": 8,
   "metadata": {},
   "outputs": [
    {
     "name": "stdout",
     "output_type": "stream",
     "text": [
      "total checked:        6436\n",
      "not in graph:         89\n",
      "explained:            5527\n",
      "explained (excl sr):  5469\n",
      "unexplained:          820\n",
      "explained set:        0\n",
      "common parent:        1690\n",
      "complex or direct:    1589\n",
      "x intermediate:       5380\n",
      "shared regulator:     5403\n",
      "shared target:        5331\n",
      "sr only:              58\n",
      "\n"
     ]
    }
   ],
   "source": [
    "sd5_uns.summarize()"
   ]
  },
  {
   "cell_type": "code",
   "execution_count": 9,
   "metadata": {},
   "outputs": [
    {
     "name": "stdout",
     "output_type": "stream",
     "text": [
      "total checked:        5976\n",
      "not in graph:         109\n",
      "explained:            2724\n",
      "explained (excl sr):  2724\n",
      "unexplained:          3143\n",
      "explained set:        0\n",
      "common parent:        1488\n",
      "complex or direct:    0\n",
      "x intermediate:       1379\n",
      "shared regulator:     723\n",
      "shared target:        775\n",
      "sr only:              0\n",
      "\n"
     ]
    }
   ],
   "source": [
    "sd5_pb.summarize()"
   ]
  },
  {
   "cell_type": "code",
   "execution_count": 10,
   "metadata": {},
   "outputs": [
    {
     "data": {
      "text/html": [
       "<div>\n",
       "<style scoped>\n",
       "    .dataframe tbody tr th:only-of-type {\n",
       "        vertical-align: middle;\n",
       "    }\n",
       "\n",
       "    .dataframe tbody tr th {\n",
       "        vertical-align: top;\n",
       "    }\n",
       "\n",
       "    .dataframe thead th {\n",
       "        text-align: right;\n",
       "    }\n",
       "</style>\n",
       "<table border=\"1\" class=\"dataframe\">\n",
       "  <thead>\n",
       "    <tr style=\"text-align: right;\">\n",
       "      <th></th>\n",
       "      <th>agA</th>\n",
       "      <th>agB</th>\n",
       "      <th>z-score</th>\n",
       "      <th>agA_ns</th>\n",
       "      <th>agA_id</th>\n",
       "      <th>agB_ns</th>\n",
       "      <th>agB_id</th>\n",
       "      <th>not in graph</th>\n",
       "      <th>explained</th>\n",
       "      <th>a-b</th>\n",
       "      <th>b-a</th>\n",
       "      <th>common parent</th>\n",
       "      <th>explained set</th>\n",
       "      <th>a-x-b</th>\n",
       "      <th>b-x-a</th>\n",
       "      <th>shared regulator</th>\n",
       "      <th>shared target</th>\n",
       "    </tr>\n",
       "  </thead>\n",
       "  <tbody>\n",
       "    <tr>\n",
       "      <th>0</th>\n",
       "      <td>ARHGAP35</td>\n",
       "      <td>PTPN14</td>\n",
       "      <td>5.545160</td>\n",
       "      <td>HGNC</td>\n",
       "      <td>4591</td>\n",
       "      <td>HGNC</td>\n",
       "      <td>9647</td>\n",
       "      <td>False</td>\n",
       "      <td>False</td>\n",
       "      <td>False</td>\n",
       "      <td>False</td>\n",
       "      <td>False</td>\n",
       "      <td>False</td>\n",
       "      <td>False</td>\n",
       "      <td>False</td>\n",
       "      <td>False</td>\n",
       "      <td>False</td>\n",
       "    </tr>\n",
       "    <tr>\n",
       "      <th>1</th>\n",
       "      <td>ARHGAP35</td>\n",
       "      <td>KIRREL1</td>\n",
       "      <td>5.275428</td>\n",
       "      <td>HGNC</td>\n",
       "      <td>4591</td>\n",
       "      <td>HGNC</td>\n",
       "      <td>15734</td>\n",
       "      <td>False</td>\n",
       "      <td>True</td>\n",
       "      <td>False</td>\n",
       "      <td>False</td>\n",
       "      <td>False</td>\n",
       "      <td>False</td>\n",
       "      <td>True</td>\n",
       "      <td>True</td>\n",
       "      <td>True</td>\n",
       "      <td>False</td>\n",
       "    </tr>\n",
       "    <tr>\n",
       "      <th>2</th>\n",
       "      <td>ARHGAP35</td>\n",
       "      <td>NRP1</td>\n",
       "      <td>5.275882</td>\n",
       "      <td>HGNC</td>\n",
       "      <td>4591</td>\n",
       "      <td>HGNC</td>\n",
       "      <td>8004</td>\n",
       "      <td>False</td>\n",
       "      <td>True</td>\n",
       "      <td>False</td>\n",
       "      <td>False</td>\n",
       "      <td>False</td>\n",
       "      <td>False</td>\n",
       "      <td>True</td>\n",
       "      <td>True</td>\n",
       "      <td>True</td>\n",
       "      <td>True</td>\n",
       "    </tr>\n",
       "    <tr>\n",
       "      <th>3</th>\n",
       "      <td>ARHGAP35</td>\n",
       "      <td>TAOK1</td>\n",
       "      <td>5.600125</td>\n",
       "      <td>HGNC</td>\n",
       "      <td>4591</td>\n",
       "      <td>HGNC</td>\n",
       "      <td>29259</td>\n",
       "      <td>False</td>\n",
       "      <td>True</td>\n",
       "      <td>False</td>\n",
       "      <td>False</td>\n",
       "      <td>False</td>\n",
       "      <td>False</td>\n",
       "      <td>False</td>\n",
       "      <td>True</td>\n",
       "      <td>False</td>\n",
       "      <td>False</td>\n",
       "    </tr>\n",
       "    <tr>\n",
       "      <th>4</th>\n",
       "      <td>RAN</td>\n",
       "      <td>SF3B1</td>\n",
       "      <td>5.152932</td>\n",
       "      <td>HGNC</td>\n",
       "      <td>9846</td>\n",
       "      <td>HGNC</td>\n",
       "      <td>10768</td>\n",
       "      <td>False</td>\n",
       "      <td>True</td>\n",
       "      <td>False</td>\n",
       "      <td>False</td>\n",
       "      <td>False</td>\n",
       "      <td>False</td>\n",
       "      <td>True</td>\n",
       "      <td>True</td>\n",
       "      <td>True</td>\n",
       "      <td>False</td>\n",
       "    </tr>\n",
       "  </tbody>\n",
       "</table>\n",
       "</div>"
      ],
      "text/plain": [
       "        agA      agB   z-score agA_ns agA_id agB_ns agB_id not in graph  \\\n",
       "0  ARHGAP35   PTPN14  5.545160   HGNC   4591   HGNC   9647        False   \n",
       "1  ARHGAP35  KIRREL1  5.275428   HGNC   4591   HGNC  15734        False   \n",
       "2  ARHGAP35     NRP1  5.275882   HGNC   4591   HGNC   8004        False   \n",
       "3  ARHGAP35    TAOK1  5.600125   HGNC   4591   HGNC  29259        False   \n",
       "4       RAN    SF3B1  5.152932   HGNC   9846   HGNC  10768        False   \n",
       "\n",
       "  explained    a-b    b-a common parent explained set  a-x-b  b-x-a  \\\n",
       "0     False  False  False         False         False  False  False   \n",
       "1      True  False  False         False         False   True   True   \n",
       "2      True  False  False         False         False   True   True   \n",
       "3      True  False  False         False         False  False   True   \n",
       "4      True  False  False         False         False   True   True   \n",
       "\n",
       "  shared regulator shared target  \n",
       "0            False         False  \n",
       "1             True         False  \n",
       "2             True          True  \n",
       "3            False         False  \n",
       "4             True         False  "
      ]
     },
     "execution_count": 10,
     "metadata": {},
     "output_type": "execute_result"
    }
   ],
   "source": [
    "sd5_pb.stats_df.head()"
   ]
  },
  {
   "cell_type": "code",
   "execution_count": 11,
   "metadata": {},
   "outputs": [],
   "source": [
    "pbe = sd5_pb.expl_df\n",
    "unse = sd5_uns.expl_df"
   ]
  },
  {
   "cell_type": "code",
   "execution_count": 31,
   "metadata": {},
   "outputs": [
    {
     "data": {
      "text/html": [
       "<div>\n",
       "<style scoped>\n",
       "    .dataframe tbody tr th:only-of-type {\n",
       "        vertical-align: middle;\n",
       "    }\n",
       "\n",
       "    .dataframe tbody tr th {\n",
       "        vertical-align: top;\n",
       "    }\n",
       "\n",
       "    .dataframe thead th {\n",
       "        text-align: right;\n",
       "    }\n",
       "</style>\n",
       "<table border=\"1\" class=\"dataframe\">\n",
       "  <thead>\n",
       "    <tr style=\"text-align: right;\">\n",
       "      <th></th>\n",
       "      <th>agA</th>\n",
       "      <th>agB</th>\n",
       "      <th>z-score</th>\n",
       "      <th>expl type</th>\n",
       "      <th>expl data</th>\n",
       "    </tr>\n",
       "  </thead>\n",
       "  <tbody>\n",
       "    <tr>\n",
       "      <th>0</th>\n",
       "      <td>ARHGAP35</td>\n",
       "      <td>KIRREL1</td>\n",
       "      <td>5.275428</td>\n",
       "      <td>a-x-b</td>\n",
       "      <td>[{'function': 'Protein', 'concept': {'namespac...</td>\n",
       "    </tr>\n",
       "    <tr>\n",
       "      <th>1</th>\n",
       "      <td>KIRREL1</td>\n",
       "      <td>ARHGAP35</td>\n",
       "      <td>5.275428</td>\n",
       "      <td>b-x-a</td>\n",
       "      <td>[{'function': 'Protein', 'concept': {'namespac...</td>\n",
       "    </tr>\n",
       "    <tr>\n",
       "      <th>2</th>\n",
       "      <td>ARHGAP35</td>\n",
       "      <td>KIRREL1</td>\n",
       "      <td>5.275428</td>\n",
       "      <td>shared regulator</td>\n",
       "      <td>[{'function': 'Protein', 'concept': {'namespac...</td>\n",
       "    </tr>\n",
       "    <tr>\n",
       "      <th>3</th>\n",
       "      <td>ARHGAP35</td>\n",
       "      <td>KIRREL1</td>\n",
       "      <td>5.275428</td>\n",
       "      <td>a-x-b</td>\n",
       "      <td>[{'function': 'Protein', 'concept': {'namespac...</td>\n",
       "    </tr>\n",
       "    <tr>\n",
       "      <th>4</th>\n",
       "      <td>ARHGAP35</td>\n",
       "      <td>KIRREL1</td>\n",
       "      <td>5.275428</td>\n",
       "      <td>shared regulator</td>\n",
       "      <td>[{'function': 'Protein', 'concept': {'namespac...</td>\n",
       "    </tr>\n",
       "  </tbody>\n",
       "</table>\n",
       "</div>"
      ],
      "text/plain": [
       "        agA       agB   z-score         expl type  \\\n",
       "0  ARHGAP35   KIRREL1  5.275428             a-x-b   \n",
       "1   KIRREL1  ARHGAP35  5.275428             b-x-a   \n",
       "2  ARHGAP35   KIRREL1  5.275428  shared regulator   \n",
       "3  ARHGAP35   KIRREL1  5.275428             a-x-b   \n",
       "4  ARHGAP35   KIRREL1  5.275428  shared regulator   \n",
       "\n",
       "                                           expl data  \n",
       "0  [{'function': 'Protein', 'concept': {'namespac...  \n",
       "1  [{'function': 'Protein', 'concept': {'namespac...  \n",
       "2  [{'function': 'Protein', 'concept': {'namespac...  \n",
       "3  [{'function': 'Protein', 'concept': {'namespac...  \n",
       "4  [{'function': 'Protein', 'concept': {'namespac...  "
      ]
     },
     "execution_count": 31,
     "metadata": {},
     "output_type": "execute_result"
    }
   ],
   "source": []
  },
  {
   "cell_type": "code",
   "execution_count": 40,
   "metadata": {},
   "outputs": [],
   "source": [
    "f = pbe[(pbe.agA == 'ARHGAP35') & (pbe.agB == 'KIRREL1')].iloc[0]"
   ]
  },
  {
   "cell_type": "code",
   "execution_count": 43,
   "metadata": {},
   "outputs": [
    {
     "data": {
      "text/plain": [
       "<BEL p(HGNC:11283 ! SRC)>"
      ]
     },
     "execution_count": 43,
     "metadata": {},
     "output_type": "execute_result"
    }
   ],
   "source": [
    "f['expl data'][0]"
   ]
  },
  {
   "cell_type": "code",
   "execution_count": 34,
   "metadata": {},
   "outputs": [
    {
     "data": {
      "text/html": [
       "<div>\n",
       "<style scoped>\n",
       "    .dataframe tbody tr th:only-of-type {\n",
       "        vertical-align: middle;\n",
       "    }\n",
       "\n",
       "    .dataframe tbody tr th {\n",
       "        vertical-align: top;\n",
       "    }\n",
       "\n",
       "    .dataframe thead th {\n",
       "        text-align: right;\n",
       "    }\n",
       "</style>\n",
       "<table border=\"1\" class=\"dataframe\">\n",
       "  <thead>\n",
       "    <tr style=\"text-align: right;\">\n",
       "      <th></th>\n",
       "      <th>agA</th>\n",
       "      <th>agB</th>\n",
       "      <th>z-score</th>\n",
       "      <th>expl type</th>\n",
       "      <th>expl data</th>\n",
       "    </tr>\n",
       "  </thead>\n",
       "  <tbody>\n",
       "    <tr>\n",
       "      <th>6</th>\n",
       "      <td>ARHGAP35</td>\n",
       "      <td>KIRREL1</td>\n",
       "      <td>5.275428</td>\n",
       "      <td>a-x-b</td>\n",
       "      <td>[FYN, SRC, PARD6A, GRB2]</td>\n",
       "    </tr>\n",
       "    <tr>\n",
       "      <th>8</th>\n",
       "      <td>ARHGAP35</td>\n",
       "      <td>KIRREL1</td>\n",
       "      <td>5.275428</td>\n",
       "      <td>shared regulator</td>\n",
       "      <td>[SRC, PARD6A, CSK, FYN, GRB2]</td>\n",
       "    </tr>\n",
       "    <tr>\n",
       "      <th>9</th>\n",
       "      <td>ARHGAP35</td>\n",
       "      <td>KIRREL1</td>\n",
       "      <td>5.275428</td>\n",
       "      <td>shared target</td>\n",
       "      <td>[FYN, PARD6A, GRB2]</td>\n",
       "    </tr>\n",
       "  </tbody>\n",
       "</table>\n",
       "</div>"
      ],
      "text/plain": [
       "        agA      agB   z-score         expl type  \\\n",
       "6  ARHGAP35  KIRREL1  5.275428             a-x-b   \n",
       "8  ARHGAP35  KIRREL1  5.275428  shared regulator   \n",
       "9  ARHGAP35  KIRREL1  5.275428     shared target   \n",
       "\n",
       "                       expl data  \n",
       "6       [FYN, SRC, PARD6A, GRB2]  \n",
       "8  [SRC, PARD6A, CSK, FYN, GRB2]  \n",
       "9            [FYN, PARD6A, GRB2]  "
      ]
     },
     "execution_count": 34,
     "metadata": {},
     "output_type": "execute_result"
    }
   ],
   "source": [
    "unse[(unse.agA == 'ARHGAP35') & (unse.agB == 'KIRREL1')]"
   ]
  },
  {
   "cell_type": "code",
   "execution_count": null,
   "metadata": {},
   "outputs": [],
   "source": []
  }
 ],
 "metadata": {
  "hide_input": false,
  "kernelspec": {
   "display_name": "Python 3",
   "language": "python",
   "name": "python3"
  },
  "language_info": {
   "codemirror_mode": {
    "name": "ipython",
    "version": 3
   },
   "file_extension": ".py",
   "mimetype": "text/x-python",
   "name": "python",
   "nbconvert_exporter": "python",
   "pygments_lexer": "ipython3",
   "version": "3.7.4"
  }
 },
 "nbformat": 4,
 "nbformat_minor": 2
}
