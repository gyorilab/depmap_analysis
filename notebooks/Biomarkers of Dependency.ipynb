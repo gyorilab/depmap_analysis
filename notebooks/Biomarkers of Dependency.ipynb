{
 "cells": [
  {
   "cell_type": "markdown",
   "metadata": {},
   "source": [
    "# Overview and Notes"
   ]
  },
  {
   "cell_type": "markdown",
   "metadata": {},
   "source": [
    "What are interesting scenarios for exploring correlations?\n",
    "* Expression-dependency correlations for dependency genes that are druggable. For these, the expression correlates are informative for selection of sensitive cell lines/patients. In addition, causally related expression correlates are suggestive of possible resistance mechanisms or secondary targets for a drug combination.\n",
    "* Dependency-dependency correlations for undruggable genes. For these, the correlates are suggestive of substitute targets, or combinations of targets. However, as combinations are considered the causal interpretation becomes more important.\n",
    "* Expression-expression correlations. In this case one idea would be to explore the strength and sign of relationships from the data vs. assertions from curated databases/literature, particularly from perturbational experiments.\n",
    "* Co-expression patterns. Another possibility is to discover patterns of relationships between genes, e.g. that expression of ubiquitin ligases is correlated with the expression of their targets.\n",
    "\n",
    "Another interesting direction would be to use the information in the INDRA database to discover patterns of mechanistic relationships that predict correlations between dependencies of two genes, or between expression of a gene and dependency of another gene. The simplest possible application of this would be to look at pairwise relationships between two genes (could even extract from SIF), and test to see which types of relationships, and signs of relationships predicted, and amount of evidence predicted a) the sign of a correlation and b) the strength of the correlation.\n",
    "\n",
    "If the matrix is made complete, i.e., if entries are included for having no known relationship, we may find that having no relationship is not predictive of a lack of a correlation.\n",
    "\n",
    "Similarly, there will be many mechanistic relationships that yield detectable correlations.\n",
    "\n",
    "One hypothesis that could be tested is whether downstream siblings were more likely to have large correlations to each other than with their ancestors, highlighting that correlations rarely pick up causal relations in this type of data.\n",
    "\n",
    "Could do this with graph convolutional nets?\n",
    "\n",
    "Another application would be to use the data to refine vague relationships extracted from text, or to address issues with assembly, a la distant supervision.\n",
    "\n",
    "Another direction would be to cluster the correlation graph to find likely intermediates.\n",
    "\n",
    "Or, to use the redundancy of certain gene families to explain why certain correlations do *not* show up, i.e., the gene knockout has no effect because it has a redundant copy."
   ]
  },
  {
   "cell_type": "markdown",
   "metadata": {},
   "source": [
    "# Preliminaries"
   ]
  },
  {
   "cell_type": "code",
   "execution_count": 1,
   "metadata": {},
   "outputs": [],
   "source": [
    "import pickle\n",
    "from os.path import join, expanduser\n",
    "from collections import defaultdict, Counter\n",
    "import numpy as np\n",
    "import pandas as pd\n",
    "from scipy import stats\n",
    "from matplotlib import pyplot as plt\n",
    "from indra.databases import hgnc_client\n",
    "from indra.tools import assemble_corpus as ac\n",
    "%matplotlib notebook"
   ]
  },
  {
   "cell_type": "markdown",
   "metadata": {},
   "source": [
    "## Load transcript and dependency data and compute correlations\n",
    "\n",
    "\n",
    "Key variables/functions:\n",
    "* `ccle_df`. CCLE expression data, DataFrame.\n",
    "* `crispr_df`. DepMap CRISPR gene effect (dependency) data, DataFrame.\n",
    "* `crispr_corr`\n",
    "* `crispr_z`\n",
    "* `rnai_df`. DepMap combined RNAi data, DataFrame.\n",
    "* `rna_corr`\n",
    "* `rnai_z`\n",
    "* `dep_z`\n",
    "* `dep_df`. CRISPR and RNAi data combined as averaged z-scores, DataFrame.\n",
    "* `dep_corr`. Correlation matrix between dep-dep, dep-expr, and expr-expr (though expr-expr correlations are only defined in this matrix for the genes also included in the dependency data)."
   ]
  },
  {
   "cell_type": "markdown",
   "metadata": {},
   "source": [
    "### Working directory"
   ]
  },
  {
   "cell_type": "code",
   "execution_count": 2,
   "metadata": {},
   "outputs": [],
   "source": [
    "basedir = 'data/20q4'\n",
    "figdir = join(expanduser('~'), 'Dropbox/DARPA projects/papers/INDRA paper 2/figures/figure_panels')"
   ]
  },
  {
   "cell_type": "markdown",
   "metadata": {},
   "source": [
    "### Cell line metadata\n",
    "\n",
    "Load the cell line metadata which includes mappings between cell line identifiers used by different datasets."
   ]
  },
  {
   "cell_type": "code",
   "execution_count": 3,
   "metadata": {},
   "outputs": [],
   "source": [
    "cell_line_df = pd.read_csv(join(basedir, 'sample_info.csv'))\n",
    "#cell_line_df = pd.read_csv('data/DepMap-2019q1-celllines_v2.csv')"
   ]
  },
  {
   "cell_type": "code",
   "execution_count": 4,
   "metadata": {},
   "outputs": [
    {
     "data": {
      "text/html": [
       "<div>\n",
       "<style scoped>\n",
       "    .dataframe tbody tr th:only-of-type {\n",
       "        vertical-align: middle;\n",
       "    }\n",
       "\n",
       "    .dataframe tbody tr th {\n",
       "        vertical-align: top;\n",
       "    }\n",
       "\n",
       "    .dataframe thead th {\n",
       "        text-align: right;\n",
       "    }\n",
       "</style>\n",
       "<table border=\"1\" class=\"dataframe\">\n",
       "  <thead>\n",
       "    <tr style=\"text-align: right;\">\n",
       "      <th></th>\n",
       "      <th>DepMap_ID</th>\n",
       "    </tr>\n",
       "    <tr>\n",
       "      <th>CCLE_Name</th>\n",
       "      <th></th>\n",
       "    </tr>\n",
       "  </thead>\n",
       "  <tbody>\n",
       "    <tr>\n",
       "      <th>NIHOVCAR3_OVARY</th>\n",
       "      <td>ACH-000001</td>\n",
       "    </tr>\n",
       "    <tr>\n",
       "      <th>HL60_HAEMATOPOIETIC_AND_LYMPHOID_TISSUE</th>\n",
       "      <td>ACH-000002</td>\n",
       "    </tr>\n",
       "    <tr>\n",
       "      <th>CACO2_LARGE_INTESTINE</th>\n",
       "      <td>ACH-000003</td>\n",
       "    </tr>\n",
       "    <tr>\n",
       "      <th>HEL_HAEMATOPOIETIC_AND_LYMPHOID_TISSUE</th>\n",
       "      <td>ACH-000004</td>\n",
       "    </tr>\n",
       "    <tr>\n",
       "      <th>HEL9217_HAEMATOPOIETIC_AND_LYMPHOID_TISSUE</th>\n",
       "      <td>ACH-000005</td>\n",
       "    </tr>\n",
       "  </tbody>\n",
       "</table>\n",
       "</div>"
      ],
      "text/plain": [
       "                                             DepMap_ID\n",
       "CCLE_Name                                             \n",
       "NIHOVCAR3_OVARY                             ACH-000001\n",
       "HL60_HAEMATOPOIETIC_AND_LYMPHOID_TISSUE     ACH-000002\n",
       "CACO2_LARGE_INTESTINE                       ACH-000003\n",
       "HEL_HAEMATOPOIETIC_AND_LYMPHOID_TISSUE      ACH-000004\n",
       "HEL9217_HAEMATOPOIETIC_AND_LYMPHOID_TISSUE  ACH-000005"
      ]
     },
     "execution_count": 4,
     "metadata": {},
     "output_type": "execute_result"
    }
   ],
   "source": [
    "cell_line_map = cell_line_df[['DepMap_ID', 'CCLE_Name']]\n",
    "cell_line_map.set_index('CCLE_Name', inplace=True)\n",
    "cell_line_map.head()"
   ]
  },
  {
   "cell_type": "markdown",
   "metadata": {},
   "source": [
    "### RNAi data\n",
    "\n",
    "Load combined RNAi data, normalize column names, map to DepMap cell line IDs, and drop duplicate columns."
   ]
  },
  {
   "cell_type": "code",
   "execution_count": 5,
   "metadata": {},
   "outputs": [
    {
     "name": "stdout",
     "output_type": "stream",
     "text": [
      "CPU times: user 1.79 s, sys: 152 ms, total: 1.94 s\n",
      "Wall time: 1.95 s\n"
     ]
    }
   ],
   "source": [
    "%time rnai_df = pd.read_csv(join(basedir, 'D2_combined_gene_dep_scores.csv'), index_col=0)\n",
    "rnai_df = rnai_df.transpose()\n",
    "gene_cols = ['%s' % col.split(' ')[0] for col in rnai_df.columns]\n",
    "rnai_df.columns = gene_cols\n",
    "rnai_df = rnai_df.join(cell_line_map)\n",
    "rnai_df = rnai_df.set_index('DepMap_ID')\n",
    "# Drop duplicate columns\n",
    "rnai_df = rnai_df.loc[:,~rnai_df.columns.duplicated()]"
   ]
  },
  {
   "cell_type": "code",
   "execution_count": 6,
   "metadata": {
    "scrolled": true
   },
   "outputs": [
    {
     "data": {
      "text/html": [
       "<div>\n",
       "<style scoped>\n",
       "    .dataframe tbody tr th:only-of-type {\n",
       "        vertical-align: middle;\n",
       "    }\n",
       "\n",
       "    .dataframe tbody tr th {\n",
       "        vertical-align: top;\n",
       "    }\n",
       "\n",
       "    .dataframe thead th {\n",
       "        text-align: right;\n",
       "    }\n",
       "</style>\n",
       "<table border=\"1\" class=\"dataframe\">\n",
       "  <thead>\n",
       "    <tr style=\"text-align: right;\">\n",
       "      <th></th>\n",
       "      <th>A1BG</th>\n",
       "      <th>NAT2</th>\n",
       "      <th>ADA</th>\n",
       "      <th>CDH2</th>\n",
       "      <th>AKT3</th>\n",
       "      <th>MED6</th>\n",
       "      <th>NR2E3</th>\n",
       "      <th>NAALAD2</th>\n",
       "      <th>DUXB</th>\n",
       "      <th>PDZK1P1</th>\n",
       "      <th>...</th>\n",
       "      <th>RCE1</th>\n",
       "      <th>HNRNPDL</th>\n",
       "      <th>DMTF1</th>\n",
       "      <th>PPP4R1</th>\n",
       "      <th>CDH1</th>\n",
       "      <th>SLC12A6</th>\n",
       "      <th>KCNE2</th>\n",
       "      <th>DGCR2</th>\n",
       "      <th>CASP8AP2</th>\n",
       "      <th>SCO2</th>\n",
       "    </tr>\n",
       "    <tr>\n",
       "      <th>DepMap_ID</th>\n",
       "      <th></th>\n",
       "      <th></th>\n",
       "      <th></th>\n",
       "      <th></th>\n",
       "      <th></th>\n",
       "      <th></th>\n",
       "      <th></th>\n",
       "      <th></th>\n",
       "      <th></th>\n",
       "      <th></th>\n",
       "      <th></th>\n",
       "      <th></th>\n",
       "      <th></th>\n",
       "      <th></th>\n",
       "      <th></th>\n",
       "      <th></th>\n",
       "      <th></th>\n",
       "      <th></th>\n",
       "      <th></th>\n",
       "      <th></th>\n",
       "      <th></th>\n",
       "    </tr>\n",
       "  </thead>\n",
       "  <tbody>\n",
       "    <tr>\n",
       "      <th>ACH-001270</th>\n",
       "      <td>NaN</td>\n",
       "      <td>NaN</td>\n",
       "      <td>NaN</td>\n",
       "      <td>-0.194962</td>\n",
       "      <td>-0.256108</td>\n",
       "      <td>-0.174220</td>\n",
       "      <td>-0.140052</td>\n",
       "      <td>NaN</td>\n",
       "      <td>NaN</td>\n",
       "      <td>NaN</td>\n",
       "      <td>...</td>\n",
       "      <td>-0.201644</td>\n",
       "      <td>-0.363670</td>\n",
       "      <td>0.184260</td>\n",
       "      <td>-0.115616</td>\n",
       "      <td>-0.125958</td>\n",
       "      <td>NaN</td>\n",
       "      <td>0.088853</td>\n",
       "      <td>NaN</td>\n",
       "      <td>-0.843295</td>\n",
       "      <td>NaN</td>\n",
       "    </tr>\n",
       "    <tr>\n",
       "      <th>ACH-001000</th>\n",
       "      <td>NaN</td>\n",
       "      <td>NaN</td>\n",
       "      <td>NaN</td>\n",
       "      <td>-0.028171</td>\n",
       "      <td>0.100751</td>\n",
       "      <td>-0.456124</td>\n",
       "      <td>-0.174618</td>\n",
       "      <td>NaN</td>\n",
       "      <td>NaN</td>\n",
       "      <td>NaN</td>\n",
       "      <td>...</td>\n",
       "      <td>0.074889</td>\n",
       "      <td>0.152158</td>\n",
       "      <td>0.036011</td>\n",
       "      <td>0.117300</td>\n",
       "      <td>0.101725</td>\n",
       "      <td>NaN</td>\n",
       "      <td>-0.110628</td>\n",
       "      <td>NaN</td>\n",
       "      <td>-0.307031</td>\n",
       "      <td>NaN</td>\n",
       "    </tr>\n",
       "    <tr>\n",
       "      <th>ACH-001001</th>\n",
       "      <td>0.146042</td>\n",
       "      <td>0.102854</td>\n",
       "      <td>0.168839</td>\n",
       "      <td>0.063047</td>\n",
       "      <td>-0.008077</td>\n",
       "      <td>-0.214376</td>\n",
       "      <td>-0.153619</td>\n",
       "      <td>0.133830</td>\n",
       "      <td>0.138673</td>\n",
       "      <td>0.030345</td>\n",
       "      <td>...</td>\n",
       "      <td>0.006735</td>\n",
       "      <td>-0.033385</td>\n",
       "      <td>0.197651</td>\n",
       "      <td>-0.016372</td>\n",
       "      <td>0.077486</td>\n",
       "      <td>0.106165</td>\n",
       "      <td>0.057286</td>\n",
       "      <td>0.025596</td>\n",
       "      <td>-0.413669</td>\n",
       "      <td>0.122669</td>\n",
       "    </tr>\n",
       "    <tr>\n",
       "      <th>ACH-002319</th>\n",
       "      <td>-0.190388</td>\n",
       "      <td>0.384106</td>\n",
       "      <td>-0.120700</td>\n",
       "      <td>-0.237251</td>\n",
       "      <td>0.060267</td>\n",
       "      <td>-0.338946</td>\n",
       "      <td>-0.057551</td>\n",
       "      <td>0.134511</td>\n",
       "      <td>NaN</td>\n",
       "      <td>0.144463</td>\n",
       "      <td>...</td>\n",
       "      <td>0.209009</td>\n",
       "      <td>-0.156839</td>\n",
       "      <td>-0.155837</td>\n",
       "      <td>-0.001141</td>\n",
       "      <td>NaN</td>\n",
       "      <td>0.227968</td>\n",
       "      <td>0.028095</td>\n",
       "      <td>-0.080611</td>\n",
       "      <td>-1.849696</td>\n",
       "      <td>-0.078856</td>\n",
       "    </tr>\n",
       "    <tr>\n",
       "      <th>ACH-001827</th>\n",
       "      <td>0.907063</td>\n",
       "      <td>0.403192</td>\n",
       "      <td>0.004394</td>\n",
       "      <td>-0.017059</td>\n",
       "      <td>-0.094749</td>\n",
       "      <td>-0.328074</td>\n",
       "      <td>-0.089573</td>\n",
       "      <td>0.362029</td>\n",
       "      <td>NaN</td>\n",
       "      <td>-0.098161</td>\n",
       "      <td>...</td>\n",
       "      <td>-0.137465</td>\n",
       "      <td>-1.037848</td>\n",
       "      <td>-0.261262</td>\n",
       "      <td>-0.228016</td>\n",
       "      <td>NaN</td>\n",
       "      <td>0.088744</td>\n",
       "      <td>0.159467</td>\n",
       "      <td>0.014071</td>\n",
       "      <td>-0.414154</td>\n",
       "      <td>0.032661</td>\n",
       "    </tr>\n",
       "  </tbody>\n",
       "</table>\n",
       "<p>5 rows × 17309 columns</p>\n",
       "</div>"
      ],
      "text/plain": [
       "                A1BG      NAT2       ADA      CDH2      AKT3      MED6  \\\n",
       "DepMap_ID                                                                \n",
       "ACH-001270       NaN       NaN       NaN -0.194962 -0.256108 -0.174220   \n",
       "ACH-001000       NaN       NaN       NaN -0.028171  0.100751 -0.456124   \n",
       "ACH-001001  0.146042  0.102854  0.168839  0.063047 -0.008077 -0.214376   \n",
       "ACH-002319 -0.190388  0.384106 -0.120700 -0.237251  0.060267 -0.338946   \n",
       "ACH-001827  0.907063  0.403192  0.004394 -0.017059 -0.094749 -0.328074   \n",
       "\n",
       "               NR2E3   NAALAD2      DUXB   PDZK1P1  ...      RCE1   HNRNPDL  \\\n",
       "DepMap_ID                                           ...                       \n",
       "ACH-001270 -0.140052       NaN       NaN       NaN  ... -0.201644 -0.363670   \n",
       "ACH-001000 -0.174618       NaN       NaN       NaN  ...  0.074889  0.152158   \n",
       "ACH-001001 -0.153619  0.133830  0.138673  0.030345  ...  0.006735 -0.033385   \n",
       "ACH-002319 -0.057551  0.134511       NaN  0.144463  ...  0.209009 -0.156839   \n",
       "ACH-001827 -0.089573  0.362029       NaN -0.098161  ... -0.137465 -1.037848   \n",
       "\n",
       "               DMTF1    PPP4R1      CDH1   SLC12A6     KCNE2     DGCR2  \\\n",
       "DepMap_ID                                                                \n",
       "ACH-001270  0.184260 -0.115616 -0.125958       NaN  0.088853       NaN   \n",
       "ACH-001000  0.036011  0.117300  0.101725       NaN -0.110628       NaN   \n",
       "ACH-001001  0.197651 -0.016372  0.077486  0.106165  0.057286  0.025596   \n",
       "ACH-002319 -0.155837 -0.001141       NaN  0.227968  0.028095 -0.080611   \n",
       "ACH-001827 -0.261262 -0.228016       NaN  0.088744  0.159467  0.014071   \n",
       "\n",
       "            CASP8AP2      SCO2  \n",
       "DepMap_ID                       \n",
       "ACH-001270 -0.843295       NaN  \n",
       "ACH-001000 -0.307031       NaN  \n",
       "ACH-001001 -0.413669  0.122669  \n",
       "ACH-002319 -1.849696 -0.078856  \n",
       "ACH-001827 -0.414154  0.032661  \n",
       "\n",
       "[5 rows x 17309 columns]"
      ]
     },
     "execution_count": 6,
     "metadata": {},
     "output_type": "execute_result"
    }
   ],
   "source": [
    "rnai_df.head()"
   ]
  },
  {
   "cell_type": "code",
   "execution_count": 7,
   "metadata": {},
   "outputs": [
    {
     "name": "stderr",
     "output_type": "stream",
     "text": [
      "INFO: [2021-01-19 17:58:13] numexpr.utils - Note: NumExpr detected 12 cores but \"NUMEXPR_MAX_THREADS\" not set, so enforcing safe limit of 8.\n",
      "INFO: [2021-01-19 17:58:13] numexpr.utils - NumExpr defaulting to 8 threads.\n"
     ]
    }
   ],
   "source": [
    "recalculate = False\n",
    "filename = 'rnai_correlations'\n",
    "filepath = join(basedir, filename)\n",
    "if recalculate:\n",
    "    %time rnai_corr = rnai_df.corr()\n",
    "    rnai_corr.to_hdf('%s.h5' % filepath, filename)\n",
    "else:\n",
    "    rnai_corr = pd.read_hdf('%s.h5' % filepath)"
   ]
  },
  {
   "cell_type": "code",
   "execution_count": 8,
   "metadata": {},
   "outputs": [],
   "source": [
    "rnai_mean = rnai_corr.values.mean()\n",
    "rnai_sd = rnai_corr.values.std()\n",
    "rnai_z = (rnai_corr - rnai_mean) / rnai_sd"
   ]
  },
  {
   "cell_type": "code",
   "execution_count": 9,
   "metadata": {},
   "outputs": [
    {
     "data": {
      "text/html": [
       "<div>\n",
       "<style scoped>\n",
       "    .dataframe tbody tr th:only-of-type {\n",
       "        vertical-align: middle;\n",
       "    }\n",
       "\n",
       "    .dataframe tbody tr th {\n",
       "        vertical-align: top;\n",
       "    }\n",
       "\n",
       "    .dataframe thead th {\n",
       "        text-align: right;\n",
       "    }\n",
       "</style>\n",
       "<table border=\"1\" class=\"dataframe\">\n",
       "  <thead>\n",
       "    <tr style=\"text-align: right;\">\n",
       "      <th></th>\n",
       "      <th>A1BG</th>\n",
       "      <th>NAT2</th>\n",
       "      <th>ADA</th>\n",
       "      <th>CDH2</th>\n",
       "      <th>AKT3</th>\n",
       "      <th>MED6</th>\n",
       "      <th>NR2E3</th>\n",
       "      <th>NAALAD2</th>\n",
       "      <th>DUXB</th>\n",
       "      <th>PDZK1P1</th>\n",
       "      <th>...</th>\n",
       "      <th>RCE1</th>\n",
       "      <th>HNRNPDL</th>\n",
       "      <th>DMTF1</th>\n",
       "      <th>PPP4R1</th>\n",
       "      <th>CDH1</th>\n",
       "      <th>SLC12A6</th>\n",
       "      <th>KCNE2</th>\n",
       "      <th>DGCR2</th>\n",
       "      <th>CASP8AP2</th>\n",
       "      <th>SCO2</th>\n",
       "    </tr>\n",
       "  </thead>\n",
       "  <tbody>\n",
       "    <tr>\n",
       "      <th>A1BG</th>\n",
       "      <td>12.735562</td>\n",
       "      <td>-0.770498</td>\n",
       "      <td>-0.828444</td>\n",
       "      <td>0.593730</td>\n",
       "      <td>-0.334519</td>\n",
       "      <td>-0.076705</td>\n",
       "      <td>1.054949</td>\n",
       "      <td>0.591804</td>\n",
       "      <td>0.385034</td>\n",
       "      <td>-0.120219</td>\n",
       "      <td>...</td>\n",
       "      <td>1.446480</td>\n",
       "      <td>-1.964996</td>\n",
       "      <td>-0.403560</td>\n",
       "      <td>0.402625</td>\n",
       "      <td>-0.396057</td>\n",
       "      <td>0.131028</td>\n",
       "      <td>0.227373</td>\n",
       "      <td>-0.701314</td>\n",
       "      <td>0.218191</td>\n",
       "      <td>1.198913</td>\n",
       "    </tr>\n",
       "    <tr>\n",
       "      <th>NAT2</th>\n",
       "      <td>-0.770498</td>\n",
       "      <td>12.735562</td>\n",
       "      <td>0.572062</td>\n",
       "      <td>-0.052426</td>\n",
       "      <td>-0.528069</td>\n",
       "      <td>0.307443</td>\n",
       "      <td>-0.021474</td>\n",
       "      <td>-0.590996</td>\n",
       "      <td>-0.318764</td>\n",
       "      <td>-1.449979</td>\n",
       "      <td>...</td>\n",
       "      <td>0.371740</td>\n",
       "      <td>-0.754718</td>\n",
       "      <td>0.017751</td>\n",
       "      <td>0.024919</td>\n",
       "      <td>-2.128375</td>\n",
       "      <td>-0.190518</td>\n",
       "      <td>0.608389</td>\n",
       "      <td>-0.842078</td>\n",
       "      <td>-1.303389</td>\n",
       "      <td>-0.503340</td>\n",
       "    </tr>\n",
       "    <tr>\n",
       "      <th>ADA</th>\n",
       "      <td>-0.828444</td>\n",
       "      <td>0.572062</td>\n",
       "      <td>12.735562</td>\n",
       "      <td>-0.451619</td>\n",
       "      <td>-0.577117</td>\n",
       "      <td>0.422290</td>\n",
       "      <td>-0.188984</td>\n",
       "      <td>-0.570248</td>\n",
       "      <td>-0.078767</td>\n",
       "      <td>0.119471</td>\n",
       "      <td>...</td>\n",
       "      <td>0.475397</td>\n",
       "      <td>0.045575</td>\n",
       "      <td>0.639884</td>\n",
       "      <td>0.858577</td>\n",
       "      <td>-0.315503</td>\n",
       "      <td>-0.353140</td>\n",
       "      <td>-0.704099</td>\n",
       "      <td>1.271989</td>\n",
       "      <td>0.150168</td>\n",
       "      <td>-0.217580</td>\n",
       "    </tr>\n",
       "    <tr>\n",
       "      <th>CDH2</th>\n",
       "      <td>0.593730</td>\n",
       "      <td>-0.052426</td>\n",
       "      <td>-0.451619</td>\n",
       "      <td>12.735562</td>\n",
       "      <td>0.565031</td>\n",
       "      <td>-0.946426</td>\n",
       "      <td>-0.135411</td>\n",
       "      <td>0.118138</td>\n",
       "      <td>0.201983</td>\n",
       "      <td>-0.383189</td>\n",
       "      <td>...</td>\n",
       "      <td>-0.570892</td>\n",
       "      <td>-1.780034</td>\n",
       "      <td>1.163082</td>\n",
       "      <td>-1.070628</td>\n",
       "      <td>-0.127555</td>\n",
       "      <td>-0.228329</td>\n",
       "      <td>0.010906</td>\n",
       "      <td>-1.423871</td>\n",
       "      <td>-1.132664</td>\n",
       "      <td>-0.382607</td>\n",
       "    </tr>\n",
       "    <tr>\n",
       "      <th>AKT3</th>\n",
       "      <td>-0.334519</td>\n",
       "      <td>-0.528069</td>\n",
       "      <td>-0.577117</td>\n",
       "      <td>0.565031</td>\n",
       "      <td>12.735562</td>\n",
       "      <td>-0.378659</td>\n",
       "      <td>-1.136175</td>\n",
       "      <td>0.590426</td>\n",
       "      <td>0.837794</td>\n",
       "      <td>-0.574912</td>\n",
       "      <td>...</td>\n",
       "      <td>-1.262663</td>\n",
       "      <td>0.259384</td>\n",
       "      <td>0.443690</td>\n",
       "      <td>-0.919940</td>\n",
       "      <td>0.283450</td>\n",
       "      <td>-1.192266</td>\n",
       "      <td>-0.581840</td>\n",
       "      <td>-1.243842</td>\n",
       "      <td>-0.184748</td>\n",
       "      <td>-0.345918</td>\n",
       "    </tr>\n",
       "  </tbody>\n",
       "</table>\n",
       "<p>5 rows × 17309 columns</p>\n",
       "</div>"
      ],
      "text/plain": [
       "           A1BG       NAT2        ADA       CDH2       AKT3      MED6  \\\n",
       "A1BG  12.735562  -0.770498  -0.828444   0.593730  -0.334519 -0.076705   \n",
       "NAT2  -0.770498  12.735562   0.572062  -0.052426  -0.528069  0.307443   \n",
       "ADA   -0.828444   0.572062  12.735562  -0.451619  -0.577117  0.422290   \n",
       "CDH2   0.593730  -0.052426  -0.451619  12.735562   0.565031 -0.946426   \n",
       "AKT3  -0.334519  -0.528069  -0.577117   0.565031  12.735562 -0.378659   \n",
       "\n",
       "         NR2E3   NAALAD2      DUXB   PDZK1P1  ...      RCE1   HNRNPDL  \\\n",
       "A1BG  1.054949  0.591804  0.385034 -0.120219  ...  1.446480 -1.964996   \n",
       "NAT2 -0.021474 -0.590996 -0.318764 -1.449979  ...  0.371740 -0.754718   \n",
       "ADA  -0.188984 -0.570248 -0.078767  0.119471  ...  0.475397  0.045575   \n",
       "CDH2 -0.135411  0.118138  0.201983 -0.383189  ... -0.570892 -1.780034   \n",
       "AKT3 -1.136175  0.590426  0.837794 -0.574912  ... -1.262663  0.259384   \n",
       "\n",
       "         DMTF1    PPP4R1      CDH1   SLC12A6     KCNE2     DGCR2  CASP8AP2  \\\n",
       "A1BG -0.403560  0.402625 -0.396057  0.131028  0.227373 -0.701314  0.218191   \n",
       "NAT2  0.017751  0.024919 -2.128375 -0.190518  0.608389 -0.842078 -1.303389   \n",
       "ADA   0.639884  0.858577 -0.315503 -0.353140 -0.704099  1.271989  0.150168   \n",
       "CDH2  1.163082 -1.070628 -0.127555 -0.228329  0.010906 -1.423871 -1.132664   \n",
       "AKT3  0.443690 -0.919940  0.283450 -1.192266 -0.581840 -1.243842 -0.184748   \n",
       "\n",
       "          SCO2  \n",
       "A1BG  1.198913  \n",
       "NAT2 -0.503340  \n",
       "ADA  -0.217580  \n",
       "CDH2 -0.382607  \n",
       "AKT3 -0.345918  \n",
       "\n",
       "[5 rows x 17309 columns]"
      ]
     },
     "execution_count": 9,
     "metadata": {},
     "output_type": "execute_result"
    }
   ],
   "source": [
    "rnai_z.head()"
   ]
  },
  {
   "cell_type": "markdown",
   "metadata": {},
   "source": [
    "### CRISPR Data\n",
    "\n",
    "Load CRISPR dependency data and normalize column names to gene names."
   ]
  },
  {
   "cell_type": "code",
   "execution_count": 10,
   "metadata": {},
   "outputs": [
    {
     "name": "stdout",
     "output_type": "stream",
     "text": [
      "CPU times: user 10.5 s, sys: 388 ms, total: 10.8 s\n",
      "Wall time: 10.9 s\n"
     ]
    }
   ],
   "source": [
    "%time crispr_df = pd.read_csv(join(basedir, 'Achilles_gene_effect.csv'), index_col=0)\n",
    "gene_cols = ['%s' % col.split(' ')[0] for col in crispr_df.columns]\n",
    "crispr_df.columns = gene_cols\n",
    "# Drop any duplicate columns (shouldn't be any for CRISPR, but just in case)\n",
    "crispr_df = crispr_df.loc[:,~crispr_df.columns.duplicated()]"
   ]
  },
  {
   "cell_type": "code",
   "execution_count": 11,
   "metadata": {},
   "outputs": [
    {
     "data": {
      "text/html": [
       "<div>\n",
       "<style scoped>\n",
       "    .dataframe tbody tr th:only-of-type {\n",
       "        vertical-align: middle;\n",
       "    }\n",
       "\n",
       "    .dataframe tbody tr th {\n",
       "        vertical-align: top;\n",
       "    }\n",
       "\n",
       "    .dataframe thead th {\n",
       "        text-align: right;\n",
       "    }\n",
       "</style>\n",
       "<table border=\"1\" class=\"dataframe\">\n",
       "  <thead>\n",
       "    <tr style=\"text-align: right;\">\n",
       "      <th></th>\n",
       "      <th>A1BG</th>\n",
       "      <th>A1CF</th>\n",
       "      <th>A2M</th>\n",
       "      <th>A2ML1</th>\n",
       "      <th>A3GALT2</th>\n",
       "      <th>A4GALT</th>\n",
       "      <th>A4GNT</th>\n",
       "      <th>AAAS</th>\n",
       "      <th>AACS</th>\n",
       "      <th>AADAC</th>\n",
       "      <th>...</th>\n",
       "      <th>ZWILCH</th>\n",
       "      <th>ZWINT</th>\n",
       "      <th>ZXDA</th>\n",
       "      <th>ZXDB</th>\n",
       "      <th>ZXDC</th>\n",
       "      <th>ZYG11A</th>\n",
       "      <th>ZYG11B</th>\n",
       "      <th>ZYX</th>\n",
       "      <th>ZZEF1</th>\n",
       "      <th>ZZZ3</th>\n",
       "    </tr>\n",
       "    <tr>\n",
       "      <th>DepMap_ID</th>\n",
       "      <th></th>\n",
       "      <th></th>\n",
       "      <th></th>\n",
       "      <th></th>\n",
       "      <th></th>\n",
       "      <th></th>\n",
       "      <th></th>\n",
       "      <th></th>\n",
       "      <th></th>\n",
       "      <th></th>\n",
       "      <th></th>\n",
       "      <th></th>\n",
       "      <th></th>\n",
       "      <th></th>\n",
       "      <th></th>\n",
       "      <th></th>\n",
       "      <th></th>\n",
       "      <th></th>\n",
       "      <th></th>\n",
       "      <th></th>\n",
       "      <th></th>\n",
       "    </tr>\n",
       "  </thead>\n",
       "  <tbody>\n",
       "    <tr>\n",
       "      <th>ACH-000004</th>\n",
       "      <td>0.181332</td>\n",
       "      <td>0.089101</td>\n",
       "      <td>-0.193867</td>\n",
       "      <td>-0.024587</td>\n",
       "      <td>0.038458</td>\n",
       "      <td>-0.181824</td>\n",
       "      <td>0.351672</td>\n",
       "      <td>-0.440073</td>\n",
       "      <td>0.292582</td>\n",
       "      <td>0.167482</td>\n",
       "      <td>...</td>\n",
       "      <td>-0.124218</td>\n",
       "      <td>-0.469306</td>\n",
       "      <td>NaN</td>\n",
       "      <td>NaN</td>\n",
       "      <td>0.257361</td>\n",
       "      <td>0.244834</td>\n",
       "      <td>-0.408512</td>\n",
       "      <td>0.284734</td>\n",
       "      <td>0.226412</td>\n",
       "      <td>-0.149566</td>\n",
       "    </tr>\n",
       "    <tr>\n",
       "      <th>ACH-000005</th>\n",
       "      <td>-0.076383</td>\n",
       "      <td>0.245190</td>\n",
       "      <td>0.191238</td>\n",
       "      <td>0.153008</td>\n",
       "      <td>-0.197035</td>\n",
       "      <td>-0.323295</td>\n",
       "      <td>0.252522</td>\n",
       "      <td>-0.571498</td>\n",
       "      <td>-0.068945</td>\n",
       "      <td>0.011962</td>\n",
       "      <td>...</td>\n",
       "      <td>-0.212442</td>\n",
       "      <td>-0.426151</td>\n",
       "      <td>-0.068295</td>\n",
       "      <td>0.031635</td>\n",
       "      <td>0.205469</td>\n",
       "      <td>-0.068536</td>\n",
       "      <td>-0.092858</td>\n",
       "      <td>0.074640</td>\n",
       "      <td>0.028779</td>\n",
       "      <td>-0.264840</td>\n",
       "    </tr>\n",
       "    <tr>\n",
       "      <th>ACH-000007</th>\n",
       "      <td>0.102195</td>\n",
       "      <td>0.092449</td>\n",
       "      <td>-0.045926</td>\n",
       "      <td>0.171892</td>\n",
       "      <td>0.140561</td>\n",
       "      <td>0.170971</td>\n",
       "      <td>0.086060</td>\n",
       "      <td>-0.432320</td>\n",
       "      <td>0.010664</td>\n",
       "      <td>0.305225</td>\n",
       "      <td>...</td>\n",
       "      <td>-0.083183</td>\n",
       "      <td>-0.269196</td>\n",
       "      <td>0.101146</td>\n",
       "      <td>0.277820</td>\n",
       "      <td>0.208814</td>\n",
       "      <td>0.001393</td>\n",
       "      <td>-0.327514</td>\n",
       "      <td>0.048714</td>\n",
       "      <td>-0.372854</td>\n",
       "      <td>-0.433157</td>\n",
       "    </tr>\n",
       "    <tr>\n",
       "      <th>ACH-000009</th>\n",
       "      <td>0.142342</td>\n",
       "      <td>-0.033126</td>\n",
       "      <td>-0.051224</td>\n",
       "      <td>0.060560</td>\n",
       "      <td>0.116002</td>\n",
       "      <td>-0.010044</td>\n",
       "      <td>0.104725</td>\n",
       "      <td>-0.610481</td>\n",
       "      <td>0.181508</td>\n",
       "      <td>0.096782</td>\n",
       "      <td>...</td>\n",
       "      <td>-0.277264</td>\n",
       "      <td>-0.307018</td>\n",
       "      <td>0.044741</td>\n",
       "      <td>0.201551</td>\n",
       "      <td>0.083866</td>\n",
       "      <td>0.052208</td>\n",
       "      <td>-0.574719</td>\n",
       "      <td>0.218682</td>\n",
       "      <td>-0.074750</td>\n",
       "      <td>-0.551760</td>\n",
       "    </tr>\n",
       "    <tr>\n",
       "      <th>ACH-000011</th>\n",
       "      <td>0.280082</td>\n",
       "      <td>0.088898</td>\n",
       "      <td>0.032321</td>\n",
       "      <td>0.446598</td>\n",
       "      <td>-0.037188</td>\n",
       "      <td>-0.228207</td>\n",
       "      <td>0.110942</td>\n",
       "      <td>-0.406541</td>\n",
       "      <td>0.153979</td>\n",
       "      <td>0.109069</td>\n",
       "      <td>...</td>\n",
       "      <td>-0.385241</td>\n",
       "      <td>-0.476314</td>\n",
       "      <td>-0.000984</td>\n",
       "      <td>0.013225</td>\n",
       "      <td>0.294002</td>\n",
       "      <td>0.137939</td>\n",
       "      <td>-0.245951</td>\n",
       "      <td>0.111173</td>\n",
       "      <td>-0.227417</td>\n",
       "      <td>-0.349564</td>\n",
       "    </tr>\n",
       "  </tbody>\n",
       "</table>\n",
       "<p>5 rows × 18119 columns</p>\n",
       "</div>"
      ],
      "text/plain": [
       "                A1BG      A1CF       A2M     A2ML1   A3GALT2    A4GALT  \\\n",
       "DepMap_ID                                                                \n",
       "ACH-000004  0.181332  0.089101 -0.193867 -0.024587  0.038458 -0.181824   \n",
       "ACH-000005 -0.076383  0.245190  0.191238  0.153008 -0.197035 -0.323295   \n",
       "ACH-000007  0.102195  0.092449 -0.045926  0.171892  0.140561  0.170971   \n",
       "ACH-000009  0.142342 -0.033126 -0.051224  0.060560  0.116002 -0.010044   \n",
       "ACH-000011  0.280082  0.088898  0.032321  0.446598 -0.037188 -0.228207   \n",
       "\n",
       "               A4GNT      AAAS      AACS     AADAC  ...    ZWILCH     ZWINT  \\\n",
       "DepMap_ID                                           ...                       \n",
       "ACH-000004  0.351672 -0.440073  0.292582  0.167482  ... -0.124218 -0.469306   \n",
       "ACH-000005  0.252522 -0.571498 -0.068945  0.011962  ... -0.212442 -0.426151   \n",
       "ACH-000007  0.086060 -0.432320  0.010664  0.305225  ... -0.083183 -0.269196   \n",
       "ACH-000009  0.104725 -0.610481  0.181508  0.096782  ... -0.277264 -0.307018   \n",
       "ACH-000011  0.110942 -0.406541  0.153979  0.109069  ... -0.385241 -0.476314   \n",
       "\n",
       "                ZXDA      ZXDB      ZXDC    ZYG11A    ZYG11B       ZYX  \\\n",
       "DepMap_ID                                                                \n",
       "ACH-000004       NaN       NaN  0.257361  0.244834 -0.408512  0.284734   \n",
       "ACH-000005 -0.068295  0.031635  0.205469 -0.068536 -0.092858  0.074640   \n",
       "ACH-000007  0.101146  0.277820  0.208814  0.001393 -0.327514  0.048714   \n",
       "ACH-000009  0.044741  0.201551  0.083866  0.052208 -0.574719  0.218682   \n",
       "ACH-000011 -0.000984  0.013225  0.294002  0.137939 -0.245951  0.111173   \n",
       "\n",
       "               ZZEF1      ZZZ3  \n",
       "DepMap_ID                       \n",
       "ACH-000004  0.226412 -0.149566  \n",
       "ACH-000005  0.028779 -0.264840  \n",
       "ACH-000007 -0.372854 -0.433157  \n",
       "ACH-000009 -0.074750 -0.551760  \n",
       "ACH-000011 -0.227417 -0.349564  \n",
       "\n",
       "[5 rows x 18119 columns]"
      ]
     },
     "execution_count": 11,
     "metadata": {},
     "output_type": "execute_result"
    }
   ],
   "source": [
    "crispr_df.head()"
   ]
  },
  {
   "cell_type": "code",
   "execution_count": 12,
   "metadata": {},
   "outputs": [],
   "source": [
    "# Filter out this problematic outlier stomach cell line\n",
    "crispr_df = crispr_df[crispr_df.index != 'ACH-000167']"
   ]
  },
  {
   "cell_type": "code",
   "execution_count": 13,
   "metadata": {},
   "outputs": [],
   "source": [
    "recalculate = False\n",
    "filename = 'crispr_correlations'\n",
    "filepath = join(basedir, filename)\n",
    "if recalculate:\n",
    "    %time crispr_corr = crispr_df.corr()\n",
    "    crispr_corr.to_hdf('%s.h5' % filepath, filename)\n",
    "else:\n",
    "    crispr_corr = pd.read_hdf('%s.h5' % filepath)    "
   ]
  },
  {
   "cell_type": "code",
   "execution_count": 14,
   "metadata": {},
   "outputs": [],
   "source": [
    "crispr_mean = crispr_corr.values.mean()\n",
    "crispr_sd = crispr_corr.values.std()\n",
    "crispr_z = (crispr_corr - crispr_mean) / crispr_sd"
   ]
  },
  {
   "cell_type": "code",
   "execution_count": 15,
   "metadata": {},
   "outputs": [
    {
     "data": {
      "text/html": [
       "<div>\n",
       "<style scoped>\n",
       "    .dataframe tbody tr th:only-of-type {\n",
       "        vertical-align: middle;\n",
       "    }\n",
       "\n",
       "    .dataframe tbody tr th {\n",
       "        vertical-align: top;\n",
       "    }\n",
       "\n",
       "    .dataframe thead th {\n",
       "        text-align: right;\n",
       "    }\n",
       "</style>\n",
       "<table border=\"1\" class=\"dataframe\">\n",
       "  <thead>\n",
       "    <tr style=\"text-align: right;\">\n",
       "      <th></th>\n",
       "      <th>A1BG</th>\n",
       "      <th>A1CF</th>\n",
       "      <th>A2M</th>\n",
       "      <th>A2ML1</th>\n",
       "      <th>A3GALT2</th>\n",
       "      <th>A4GALT</th>\n",
       "      <th>A4GNT</th>\n",
       "      <th>AAAS</th>\n",
       "      <th>AACS</th>\n",
       "      <th>AADAC</th>\n",
       "      <th>...</th>\n",
       "      <th>ZWILCH</th>\n",
       "      <th>ZWINT</th>\n",
       "      <th>ZXDA</th>\n",
       "      <th>ZXDB</th>\n",
       "      <th>ZXDC</th>\n",
       "      <th>ZYG11A</th>\n",
       "      <th>ZYG11B</th>\n",
       "      <th>ZYX</th>\n",
       "      <th>ZZEF1</th>\n",
       "      <th>ZZZ3</th>\n",
       "    </tr>\n",
       "  </thead>\n",
       "  <tbody>\n",
       "    <tr>\n",
       "      <th>A1BG</th>\n",
       "      <td>17.790551</td>\n",
       "      <td>-1.460924</td>\n",
       "      <td>1.381128</td>\n",
       "      <td>-0.867163</td>\n",
       "      <td>0.101968</td>\n",
       "      <td>0.840239</td>\n",
       "      <td>-0.108814</td>\n",
       "      <td>0.231706</td>\n",
       "      <td>0.185470</td>\n",
       "      <td>0.914809</td>\n",
       "      <td>...</td>\n",
       "      <td>0.288268</td>\n",
       "      <td>-0.176396</td>\n",
       "      <td>-0.564414</td>\n",
       "      <td>-0.021604</td>\n",
       "      <td>-1.048304</td>\n",
       "      <td>0.887732</td>\n",
       "      <td>0.844240</td>\n",
       "      <td>0.964749</td>\n",
       "      <td>0.875427</td>\n",
       "      <td>0.833541</td>\n",
       "    </tr>\n",
       "    <tr>\n",
       "      <th>A1CF</th>\n",
       "      <td>-1.460924</td>\n",
       "      <td>17.790551</td>\n",
       "      <td>0.407797</td>\n",
       "      <td>-0.460598</td>\n",
       "      <td>-0.055613</td>\n",
       "      <td>-1.855523</td>\n",
       "      <td>-0.179890</td>\n",
       "      <td>0.939242</td>\n",
       "      <td>-1.607865</td>\n",
       "      <td>0.373871</td>\n",
       "      <td>...</td>\n",
       "      <td>-1.587964</td>\n",
       "      <td>-0.203756</td>\n",
       "      <td>1.400763</td>\n",
       "      <td>1.398450</td>\n",
       "      <td>-1.003388</td>\n",
       "      <td>0.074674</td>\n",
       "      <td>0.537661</td>\n",
       "      <td>-1.500601</td>\n",
       "      <td>-0.276357</td>\n",
       "      <td>0.633367</td>\n",
       "    </tr>\n",
       "    <tr>\n",
       "      <th>A2M</th>\n",
       "      <td>1.381128</td>\n",
       "      <td>0.407797</td>\n",
       "      <td>17.790551</td>\n",
       "      <td>1.513014</td>\n",
       "      <td>-0.415977</td>\n",
       "      <td>-1.010338</td>\n",
       "      <td>0.074174</td>\n",
       "      <td>-0.565811</td>\n",
       "      <td>0.137246</td>\n",
       "      <td>1.198069</td>\n",
       "      <td>...</td>\n",
       "      <td>-0.224018</td>\n",
       "      <td>-0.999469</td>\n",
       "      <td>0.163973</td>\n",
       "      <td>-1.112817</td>\n",
       "      <td>0.175362</td>\n",
       "      <td>-0.156709</td>\n",
       "      <td>-0.008022</td>\n",
       "      <td>-0.558830</td>\n",
       "      <td>1.126031</td>\n",
       "      <td>0.621443</td>\n",
       "    </tr>\n",
       "    <tr>\n",
       "      <th>A2ML1</th>\n",
       "      <td>-0.867163</td>\n",
       "      <td>-0.460598</td>\n",
       "      <td>1.513014</td>\n",
       "      <td>17.790551</td>\n",
       "      <td>-0.995858</td>\n",
       "      <td>-0.282555</td>\n",
       "      <td>-0.409369</td>\n",
       "      <td>-0.877348</td>\n",
       "      <td>-0.100418</td>\n",
       "      <td>-0.442561</td>\n",
       "      <td>...</td>\n",
       "      <td>-2.406318</td>\n",
       "      <td>-1.761055</td>\n",
       "      <td>-1.596600</td>\n",
       "      <td>-1.390775</td>\n",
       "      <td>0.342835</td>\n",
       "      <td>0.325294</td>\n",
       "      <td>0.163617</td>\n",
       "      <td>-0.433523</td>\n",
       "      <td>-0.960750</td>\n",
       "      <td>-0.634575</td>\n",
       "    </tr>\n",
       "    <tr>\n",
       "      <th>A3GALT2</th>\n",
       "      <td>0.101968</td>\n",
       "      <td>-0.055613</td>\n",
       "      <td>-0.415977</td>\n",
       "      <td>-0.995858</td>\n",
       "      <td>17.790551</td>\n",
       "      <td>-0.217573</td>\n",
       "      <td>-0.696140</td>\n",
       "      <td>-1.081870</td>\n",
       "      <td>-0.159695</td>\n",
       "      <td>0.060849</td>\n",
       "      <td>...</td>\n",
       "      <td>-0.629034</td>\n",
       "      <td>-0.502602</td>\n",
       "      <td>0.548197</td>\n",
       "      <td>0.509321</td>\n",
       "      <td>-2.756316</td>\n",
       "      <td>0.756882</td>\n",
       "      <td>0.787951</td>\n",
       "      <td>0.131759</td>\n",
       "      <td>-0.510725</td>\n",
       "      <td>0.966386</td>\n",
       "    </tr>\n",
       "  </tbody>\n",
       "</table>\n",
       "<p>5 rows × 18119 columns</p>\n",
       "</div>"
      ],
      "text/plain": [
       "              A1BG       A1CF        A2M      A2ML1    A3GALT2    A4GALT  \\\n",
       "A1BG     17.790551  -1.460924   1.381128  -0.867163   0.101968  0.840239   \n",
       "A1CF     -1.460924  17.790551   0.407797  -0.460598  -0.055613 -1.855523   \n",
       "A2M       1.381128   0.407797  17.790551   1.513014  -0.415977 -1.010338   \n",
       "A2ML1    -0.867163  -0.460598   1.513014  17.790551  -0.995858 -0.282555   \n",
       "A3GALT2   0.101968  -0.055613  -0.415977  -0.995858  17.790551 -0.217573   \n",
       "\n",
       "            A4GNT      AAAS      AACS     AADAC  ...    ZWILCH     ZWINT  \\\n",
       "A1BG    -0.108814  0.231706  0.185470  0.914809  ...  0.288268 -0.176396   \n",
       "A1CF    -0.179890  0.939242 -1.607865  0.373871  ... -1.587964 -0.203756   \n",
       "A2M      0.074174 -0.565811  0.137246  1.198069  ... -0.224018 -0.999469   \n",
       "A2ML1   -0.409369 -0.877348 -0.100418 -0.442561  ... -2.406318 -1.761055   \n",
       "A3GALT2 -0.696140 -1.081870 -0.159695  0.060849  ... -0.629034 -0.502602   \n",
       "\n",
       "             ZXDA      ZXDB      ZXDC    ZYG11A    ZYG11B       ZYX     ZZEF1  \\\n",
       "A1BG    -0.564414 -0.021604 -1.048304  0.887732  0.844240  0.964749  0.875427   \n",
       "A1CF     1.400763  1.398450 -1.003388  0.074674  0.537661 -1.500601 -0.276357   \n",
       "A2M      0.163973 -1.112817  0.175362 -0.156709 -0.008022 -0.558830  1.126031   \n",
       "A2ML1   -1.596600 -1.390775  0.342835  0.325294  0.163617 -0.433523 -0.960750   \n",
       "A3GALT2  0.548197  0.509321 -2.756316  0.756882  0.787951  0.131759 -0.510725   \n",
       "\n",
       "             ZZZ3  \n",
       "A1BG     0.833541  \n",
       "A1CF     0.633367  \n",
       "A2M      0.621443  \n",
       "A2ML1   -0.634575  \n",
       "A3GALT2  0.966386  \n",
       "\n",
       "[5 rows x 18119 columns]"
      ]
     },
     "execution_count": 15,
     "metadata": {},
     "output_type": "execute_result"
    }
   ],
   "source": [
    "crispr_z.head()"
   ]
  },
  {
   "cell_type": "markdown",
   "metadata": {},
   "source": [
    "### Combine CRISPR and RNAi Z-scores\n",
    "\n",
    "Take the average of CRISPR and RNAi z-scores and drop missing values (that arise from a gene being knocked down/out in one dataset but not the other)."
   ]
  },
  {
   "cell_type": "code",
   "execution_count": 16,
   "metadata": {},
   "outputs": [],
   "source": [
    "dep_z = (crispr_z + rnai_z) / 2\n",
    "dep_z = dep_z.dropna(axis=0, how='all').dropna(axis=1, how='all')"
   ]
  },
  {
   "cell_type": "code",
   "execution_count": 17,
   "metadata": {},
   "outputs": [
    {
     "data": {
      "text/html": [
       "<div>\n",
       "<style scoped>\n",
       "    .dataframe tbody tr th:only-of-type {\n",
       "        vertical-align: middle;\n",
       "    }\n",
       "\n",
       "    .dataframe tbody tr th {\n",
       "        vertical-align: top;\n",
       "    }\n",
       "\n",
       "    .dataframe thead th {\n",
       "        text-align: right;\n",
       "    }\n",
       "</style>\n",
       "<table border=\"1\" class=\"dataframe\">\n",
       "  <thead>\n",
       "    <tr style=\"text-align: right;\">\n",
       "      <th></th>\n",
       "      <th>A1BG</th>\n",
       "      <th>A1CF</th>\n",
       "      <th>A2M</th>\n",
       "      <th>A2ML1</th>\n",
       "      <th>A4GALT</th>\n",
       "      <th>A4GNT</th>\n",
       "      <th>AAAS</th>\n",
       "      <th>AACS</th>\n",
       "      <th>AADAC</th>\n",
       "      <th>AADACL2</th>\n",
       "      <th>...</th>\n",
       "      <th>ZW10</th>\n",
       "      <th>ZWILCH</th>\n",
       "      <th>ZWINT</th>\n",
       "      <th>ZXDA</th>\n",
       "      <th>ZXDB</th>\n",
       "      <th>ZXDC</th>\n",
       "      <th>ZYG11A</th>\n",
       "      <th>ZYX</th>\n",
       "      <th>ZZEF1</th>\n",
       "      <th>ZZZ3</th>\n",
       "    </tr>\n",
       "  </thead>\n",
       "  <tbody>\n",
       "    <tr>\n",
       "      <th>A1BG</th>\n",
       "      <td>15.263056</td>\n",
       "      <td>-1.178912</td>\n",
       "      <td>0.511413</td>\n",
       "      <td>-0.677268</td>\n",
       "      <td>0.333707</td>\n",
       "      <td>0.018071</td>\n",
       "      <td>0.369136</td>\n",
       "      <td>-0.530706</td>\n",
       "      <td>0.606913</td>\n",
       "      <td>0.552072</td>\n",
       "      <td>...</td>\n",
       "      <td>0.615529</td>\n",
       "      <td>0.914563</td>\n",
       "      <td>-0.515749</td>\n",
       "      <td>-0.220257</td>\n",
       "      <td>-0.250788</td>\n",
       "      <td>-0.668646</td>\n",
       "      <td>0.619618</td>\n",
       "      <td>0.351561</td>\n",
       "      <td>0.323204</td>\n",
       "      <td>0.162383</td>\n",
       "    </tr>\n",
       "    <tr>\n",
       "      <th>A1CF</th>\n",
       "      <td>-1.178912</td>\n",
       "      <td>15.263056</td>\n",
       "      <td>0.041663</td>\n",
       "      <td>0.376220</td>\n",
       "      <td>-1.253175</td>\n",
       "      <td>0.146278</td>\n",
       "      <td>1.000167</td>\n",
       "      <td>-0.501875</td>\n",
       "      <td>0.729594</td>\n",
       "      <td>0.114695</td>\n",
       "      <td>...</td>\n",
       "      <td>0.283365</td>\n",
       "      <td>-1.452810</td>\n",
       "      <td>-0.359802</td>\n",
       "      <td>0.386378</td>\n",
       "      <td>0.864347</td>\n",
       "      <td>-0.232878</td>\n",
       "      <td>0.813920</td>\n",
       "      <td>-0.163020</td>\n",
       "      <td>-0.579556</td>\n",
       "      <td>-0.203547</td>\n",
       "    </tr>\n",
       "    <tr>\n",
       "      <th>A2M</th>\n",
       "      <td>0.511413</td>\n",
       "      <td>0.041663</td>\n",
       "      <td>15.263056</td>\n",
       "      <td>-0.023931</td>\n",
       "      <td>-0.898685</td>\n",
       "      <td>0.538510</td>\n",
       "      <td>-0.480159</td>\n",
       "      <td>-0.669354</td>\n",
       "      <td>-0.080838</td>\n",
       "      <td>0.561819</td>\n",
       "      <td>...</td>\n",
       "      <td>-0.010036</td>\n",
       "      <td>-0.682469</td>\n",
       "      <td>-0.262809</td>\n",
       "      <td>-0.533859</td>\n",
       "      <td>-0.197199</td>\n",
       "      <td>-0.865736</td>\n",
       "      <td>-0.099759</td>\n",
       "      <td>-0.291626</td>\n",
       "      <td>0.534124</td>\n",
       "      <td>-0.443542</td>\n",
       "    </tr>\n",
       "    <tr>\n",
       "      <th>A2ML1</th>\n",
       "      <td>-0.677268</td>\n",
       "      <td>0.376220</td>\n",
       "      <td>-0.023931</td>\n",
       "      <td>15.263056</td>\n",
       "      <td>0.089493</td>\n",
       "      <td>-0.223970</td>\n",
       "      <td>0.057990</td>\n",
       "      <td>0.451301</td>\n",
       "      <td>0.425264</td>\n",
       "      <td>-0.008712</td>\n",
       "      <td>...</td>\n",
       "      <td>-0.598944</td>\n",
       "      <td>-1.209104</td>\n",
       "      <td>-0.841636</td>\n",
       "      <td>-0.092779</td>\n",
       "      <td>-1.091769</td>\n",
       "      <td>0.238548</td>\n",
       "      <td>0.075925</td>\n",
       "      <td>-0.583608</td>\n",
       "      <td>-0.863729</td>\n",
       "      <td>-0.843377</td>\n",
       "    </tr>\n",
       "    <tr>\n",
       "      <th>A4GALT</th>\n",
       "      <td>0.333707</td>\n",
       "      <td>-1.253175</td>\n",
       "      <td>-0.898685</td>\n",
       "      <td>0.089493</td>\n",
       "      <td>15.263056</td>\n",
       "      <td>-0.233500</td>\n",
       "      <td>0.874366</td>\n",
       "      <td>-0.359174</td>\n",
       "      <td>0.208171</td>\n",
       "      <td>0.992594</td>\n",
       "      <td>...</td>\n",
       "      <td>0.563972</td>\n",
       "      <td>0.009277</td>\n",
       "      <td>-0.362922</td>\n",
       "      <td>0.326616</td>\n",
       "      <td>-0.576294</td>\n",
       "      <td>0.364622</td>\n",
       "      <td>0.374652</td>\n",
       "      <td>0.343962</td>\n",
       "      <td>-0.832500</td>\n",
       "      <td>0.142131</td>\n",
       "    </tr>\n",
       "  </tbody>\n",
       "</table>\n",
       "<p>5 rows × 15667 columns</p>\n",
       "</div>"
      ],
      "text/plain": [
       "             A1BG       A1CF        A2M      A2ML1     A4GALT     A4GNT  \\\n",
       "A1BG    15.263056  -1.178912   0.511413  -0.677268   0.333707  0.018071   \n",
       "A1CF    -1.178912  15.263056   0.041663   0.376220  -1.253175  0.146278   \n",
       "A2M      0.511413   0.041663  15.263056  -0.023931  -0.898685  0.538510   \n",
       "A2ML1   -0.677268   0.376220  -0.023931  15.263056   0.089493 -0.223970   \n",
       "A4GALT   0.333707  -1.253175  -0.898685   0.089493  15.263056 -0.233500   \n",
       "\n",
       "            AAAS      AACS     AADAC   AADACL2  ...      ZW10    ZWILCH  \\\n",
       "A1BG    0.369136 -0.530706  0.606913  0.552072  ...  0.615529  0.914563   \n",
       "A1CF    1.000167 -0.501875  0.729594  0.114695  ...  0.283365 -1.452810   \n",
       "A2M    -0.480159 -0.669354 -0.080838  0.561819  ... -0.010036 -0.682469   \n",
       "A2ML1   0.057990  0.451301  0.425264 -0.008712  ... -0.598944 -1.209104   \n",
       "A4GALT  0.874366 -0.359174  0.208171  0.992594  ...  0.563972  0.009277   \n",
       "\n",
       "           ZWINT      ZXDA      ZXDB      ZXDC    ZYG11A       ZYX     ZZEF1  \\\n",
       "A1BG   -0.515749 -0.220257 -0.250788 -0.668646  0.619618  0.351561  0.323204   \n",
       "A1CF   -0.359802  0.386378  0.864347 -0.232878  0.813920 -0.163020 -0.579556   \n",
       "A2M    -0.262809 -0.533859 -0.197199 -0.865736 -0.099759 -0.291626  0.534124   \n",
       "A2ML1  -0.841636 -0.092779 -1.091769  0.238548  0.075925 -0.583608 -0.863729   \n",
       "A4GALT -0.362922  0.326616 -0.576294  0.364622  0.374652  0.343962 -0.832500   \n",
       "\n",
       "            ZZZ3  \n",
       "A1BG    0.162383  \n",
       "A1CF   -0.203547  \n",
       "A2M    -0.443542  \n",
       "A2ML1  -0.843377  \n",
       "A4GALT  0.142131  \n",
       "\n",
       "[5 rows x 15667 columns]"
      ]
     },
     "execution_count": 17,
     "metadata": {},
     "output_type": "execute_result"
    }
   ],
   "source": [
    "dep_z.head()"
   ]
  },
  {
   "cell_type": "code",
   "execution_count": 18,
   "metadata": {},
   "outputs": [],
   "source": [
    "filename = 'dep_z'\n",
    "filepath = join(basedir, filename)\n",
    "dep_z.to_hdf('%s.h5' % filepath, filename)"
   ]
  },
  {
   "cell_type": "markdown",
   "metadata": {},
   "source": [
    "### Expression Data\n",
    "\n",
    "Load the RNA-seq data (in transcripts per million, obtained from the DepMap website at https://depmap.org/portal/download/). Normalize column names (which include both gene names and Ensemble IDs) to only gene names, and then drop duplicate columns, keeping the first instance of the column for the gene name (there are 87 genes associated with more than one Ensemble ID, and these result in duplicate columns after normalizing to gene names)."
   ]
  },
  {
   "cell_type": "code",
   "execution_count": 19,
   "metadata": {},
   "outputs": [
    {
     "name": "stdout",
     "output_type": "stream",
     "text": [
      "CPU times: user 17.4 s, sys: 384 ms, total: 17.8 s\n",
      "Wall time: 18 s\n"
     ]
    }
   ],
   "source": [
    "%time ccle_df = pd.read_csv(join(basedir, 'CCLE_expression.csv'), index_col=0)"
   ]
  },
  {
   "cell_type": "code",
   "execution_count": 20,
   "metadata": {},
   "outputs": [],
   "source": [
    "gene_cols = ['%s' % col.split(' ')[0] for col in ccle_df.columns]\n",
    "ccle_df.columns = gene_cols\n",
    "# NOTE: This first way doesn't work! Probably because with duplicate column names a\n",
    "# separate integer index is created after transposition (?)\n",
    "#%time ccle_df_drop = ccle_df.T.drop_duplicates(keep='first').T\n",
    "# See: https://stackoverflow.com/questions/14984119/python-pandas-remove-duplicate-columns\n",
    "ccle_df_drop = ccle_df.loc[:,~ccle_df.columns.duplicated()]"
   ]
  },
  {
   "cell_type": "markdown",
   "metadata": {},
   "source": [
    "Filter the expression data to contain only those columns also contained in the CRISPR dependency data (protein coding genes, for the most part)."
   ]
  },
  {
   "cell_type": "code",
   "execution_count": 21,
   "metadata": {},
   "outputs": [],
   "source": [
    "crispr_cols = [c for c in crispr_df.columns]\n",
    "# Create a boolean mask to filter the CCLE expression data columns\n",
    "ccle_col_mask = np.array(ccle_df_drop.columns.map(lambda x: x in crispr_cols), dtype=bool)\n",
    "ccle_df_filt = ccle_df_drop[ccle_df_drop.columns[ccle_col_mask]]"
   ]
  },
  {
   "cell_type": "markdown",
   "metadata": {},
   "source": [
    "Join the two datasets on the cell line index:"
   ]
  },
  {
   "cell_type": "code",
   "execution_count": 22,
   "metadata": {},
   "outputs": [],
   "source": [
    "crispr_expr_join_df = crispr_df.join(ccle_df_filt, how='left', lsuffix=' KO', rsuffix=' RNA')"
   ]
  },
  {
   "cell_type": "markdown",
   "metadata": {},
   "source": [
    "Calculate the correlations (slow) or reload from HDF5."
   ]
  },
  {
   "cell_type": "code",
   "execution_count": 23,
   "metadata": {},
   "outputs": [],
   "source": [
    "recalculate = False\n",
    "filename = 'dep_expr_correlations'\n",
    "filepath = join(basedir, filename)\n",
    "if recalculate:\n",
    "    %time corr = crispr_expr_join_df.corr()\n",
    "    corr.to_hdf('%s.h5' % filepath, filename)\n",
    "else:\n",
    "    corr = pd.read_hdf('%s.h5' % filepath)"
   ]
  },
  {
   "cell_type": "markdown",
   "metadata": {},
   "source": [
    "### Load Drug Data"
   ]
  },
  {
   "cell_type": "code",
   "execution_count": null,
   "metadata": {},
   "outputs": [],
   "source": [
    "drug_resp_df = pd.read_csv(join(basedir, 'primary-screen-replicate-collapsed-logfold-change.csv'), index_col=0)\n",
    "drug_info_df = pd.read_csv(join(basedir, 'primary-screen-replicate-collapsed-treatment-info.csv'), index_col=0)"
   ]
  },
  {
   "cell_type": "markdown",
   "metadata": {},
   "source": [
    "Join drug sensitivity to expression on the cell line index:"
   ]
  },
  {
   "cell_type": "code",
   "execution_count": null,
   "metadata": {},
   "outputs": [],
   "source": [
    "drug_expr_df = drug_resp_df.join(ccle_df_filt, how='left')"
   ]
  },
  {
   "cell_type": "markdown",
   "metadata": {},
   "source": [
    "## Load INDRA DB Directed Graph"
   ]
  },
  {
   "cell_type": "code",
   "execution_count": null,
   "metadata": {},
   "outputs": [],
   "source": [
    "with open(join(basedir, 'indranet_dir_graph_latest.pkl'), 'rb') as f:\n",
    "    indra_dg = pickle.load(f)"
   ]
  },
  {
   "cell_type": "markdown",
   "metadata": {},
   "source": [
    "## Define functions for exploring and visualizing the data"
   ]
  },
  {
   "cell_type": "markdown",
   "metadata": {},
   "source": [
    "Get the sorted list of correlations for a given gene."
   ]
  },
  {
   "cell_type": "code",
   "execution_count": null,
   "metadata": {
    "code_folding": []
   },
   "outputs": [],
   "source": [
    "def sort_corrs(corrs, col_name):\n",
    "    s = corrs[col_name]\n",
    "    return sorted(list(zip(s.index, s)), key=lambda x: abs(float(x[1])), reverse=True)"
   ]
  },
  {
   "cell_type": "markdown",
   "metadata": {},
   "source": [
    "Define a function to get the top correlated genes for a given gene."
   ]
  },
  {
   "cell_type": "code",
   "execution_count": null,
   "metadata": {
    "code_folding": []
   },
   "outputs": [],
   "source": [
    "def get_expr_corrs(df, geneX):\n",
    "    mygene_arr = df[geneX].values\n",
    "    data = df.values\n",
    "    corrs = np.zeros(data.shape[1])\n",
    "    for i in range(data.shape[1]):\n",
    "        vect = data[:,i]\n",
    "        r = np.corrcoef(mygene_arr, vect)[0, 1]\n",
    "        corrs[i] = r\n",
    "    genes = [c for c in df.columns]\n",
    "    corr_genes = sorted(list(zip(genes, corrs)), reverse=True, key=lambda x: abs(x[1]))\n",
    "    corr_genes_dict = {k: v for k, v in corr_genes}\n",
    "    return corr_genes"
   ]
  },
  {
   "cell_type": "code",
   "execution_count": null,
   "metadata": {},
   "outputs": [],
   "source": [
    "def corrs_for_genes(genes, cutoff=3.0):\n",
    "    all_corrs = []\n",
    "    for gene_a in genes:\n",
    "        try:\n",
    "            gene_corrs = sort_corrs(dep_z, gene_a)[1:]\n",
    "        except KeyError:\n",
    "            continue\n",
    "        for gene_b, corr_z in gene_corrs:\n",
    "            if abs(corr_z > cutoff):\n",
    "                all_corrs.append((gene_a, gene_b, corr_z))\n",
    "    return all_corrs"
   ]
  },
  {
   "cell_type": "markdown",
   "metadata": {},
   "source": [
    "Define a function to plot the relationship between the transcription of two genes, along with a linear regression and the residuals."
   ]
  },
  {
   "cell_type": "code",
   "execution_count": null,
   "metadata": {
    "code_folding": []
   },
   "outputs": [],
   "source": [
    "def scatter(df, geneX, y_arr, y_label, bins=30):\n",
    "    plt.figure(figsize=(12,3))\n",
    "    plt.subplot(1, 3, 1)\n",
    "    plt.plot(df[geneX], y_arr, linestyle='', marker='.')\n",
    "    plt.xlabel('%s TPM' % geneX)\n",
    "    plt.ylabel(y_label)\n",
    "    r = np.corrcoef(df[geneX], y_arr)[0][1]\n",
    "    plt.title('Corr: %.3f' % r)\n",
    "    slope, intercept, r_value, p_value, std_err = \\\n",
    "                    stats.linregress(df[geneX], y_arr)\n",
    "    yhat = slope * df[geneX] + intercept\n",
    "    plt.plot(df[geneX], yhat, color='k')\n",
    "    residuals = y_arr - yhat\n",
    "    plt.subplot(1, 3, 2)\n",
    "    plt.hist(residuals, bins=bins)\n",
    "    plt.title('Residuals')\n",
    "    plt.subplot(1, 3, 3)\n",
    "    stats.probplot(residuals, dist='norm', plot=plt)\n",
    "    plt.title('Quantile-quantile plot vs. normal')\n",
    "    return residuals"
   ]
  },
  {
   "cell_type": "code",
   "execution_count": null,
   "metadata": {},
   "outputs": [],
   "source": [
    "res1 = scatter(ccle_df, 'FOXO3', ccle_df['BAX'], 'AKT1 TPM', bins=20)"
   ]
  },
  {
   "cell_type": "code",
   "execution_count": null,
   "metadata": {},
   "outputs": [],
   "source": [
    "res2 = scatter(ccle_df, 'YAP1', res1, 'Res 1', bins=20)"
   ]
  },
  {
   "cell_type": "markdown",
   "metadata": {},
   "source": [
    "Next steps:\n",
    "1. load the INDRA SIF statement file\n",
    "2. tabulate explanations for correlations;\n",
    "3. predict correlations from graph structure, edge properties"
   ]
  },
  {
   "cell_type": "code",
   "execution_count": null,
   "metadata": {},
   "outputs": [],
   "source": [
    "from indra.util import batch_iter"
   ]
  },
  {
   "cell_type": "code",
   "execution_count": null,
   "metadata": {},
   "outputs": [],
   "source": [
    "goi = 'MDM2'\n",
    "res = sort_corrs(dep_z, goi)\n",
    "#for r in res[0:20]:\n",
    "#    print(r)\n",
    "expl_pct = []\n",
    "batch_size = 1000\n",
    "for batch in batch_iter(res, batch_size):\n",
    "    counter = 0\n",
    "    for gene, corr in batch:\n",
    "        if gene in indra_dg[goi]:\n",
    "            counter += 1\n",
    "    pct = 100 * (counter / batch_size)\n",
    "    expl_pct.append(pct)"
   ]
  },
  {
   "cell_type": "code",
   "execution_count": null,
   "metadata": {},
   "outputs": [],
   "source": [
    "plt.figure()\n",
    "plt.bar(range(len(expl_pct)), expl_pct)"
   ]
  },
  {
   "cell_type": "markdown",
   "metadata": {},
   "source": [
    "# Drug-Drug Correlations"
   ]
  },
  {
   "cell_type": "code",
   "execution_count": null,
   "metadata": {},
   "outputs": [],
   "source": [
    "drug2_corrs = drug_resp_df.corr()"
   ]
  },
  {
   "cell_type": "code",
   "execution_count": null,
   "metadata": {},
   "outputs": [],
   "source": [
    "from indra.sources import tas\n",
    "tp = tas.process_from_web()"
   ]
  },
  {
   "cell_type": "code",
   "execution_count": null,
   "metadata": {},
   "outputs": [],
   "source": [
    "tas_stmts = tp.statements"
   ]
  },
  {
   "cell_type": "code",
   "execution_count": null,
   "metadata": {},
   "outputs": [],
   "source": [
    "# Build up a dictionary of mappings from CHEBI to SMILES and INCHIKEY\n",
    "import pyobo\n",
    "chebi_inchikey_property = 'http://purl.obolibrary.org/obo/chebi/inchikey'\n",
    "chebi_smiles_property = 'http://purl.obolibrary.org/obo/chebi/smiles'\n",
    "chebi_id_to_smiles = pyobo.get_filtered_properties_mapping('chebi', chebi_smiles_property)\n",
    "chebi_id_to_inchikey = pyobo.get_filtered_properties_mapping('chebi', chebi_inchikey_property)"
   ]
  },
  {
   "cell_type": "code",
   "execution_count": null,
   "metadata": {},
   "outputs": [],
   "source": [
    "foo = [stmt for stmt in tas_stmts if stmt.agent_list()[0].name == 'vemurafenib']"
   ]
  },
  {
   "cell_type": "code",
   "execution_count": null,
   "metadata": {},
   "outputs": [],
   "source": [
    "foo[0]"
   ]
  },
  {
   "cell_type": "code",
   "execution_count": null,
   "metadata": {
    "scrolled": true
   },
   "outputs": [],
   "source": [
    "foo[0].subj.db_refs"
   ]
  },
  {
   "cell_type": "code",
   "execution_count": null,
   "metadata": {},
   "outputs": [],
   "source": [
    "chembl_ids = [stmt.agent_list()[0].db_refs.get('CHEMBL') for stmt in tas_stmts]\n",
    "chembl_ids = list(set([i for i in chembl_ids if i]))"
   ]
  },
  {
   "cell_type": "code",
   "execution_count": null,
   "metadata": {},
   "outputs": [],
   "source": [
    "len(chembl_ids)"
   ]
  },
  {
   "cell_type": "code",
   "execution_count": null,
   "metadata": {},
   "outputs": [],
   "source": [
    "chembl_ids_str = ';'.join(chembl_ids[0:200])"
   ]
  },
  {
   "cell_type": "code",
   "execution_count": null,
   "metadata": {},
   "outputs": [],
   "source": []
  },
  {
   "cell_type": "code",
   "execution_count": null,
   "metadata": {},
   "outputs": [],
   "source": [
    "j = res.json()"
   ]
  },
  {
   "cell_type": "code",
   "execution_count": null,
   "metadata": {},
   "outputs": [],
   "source": [
    "j['molecules'][0]['molecule_chembl_id']"
   ]
  },
  {
   "cell_type": "code",
   "execution_count": null,
   "metadata": {},
   "outputs": [],
   "source": [
    "import requests\n",
    "from indra.util import batch_iter\n",
    "batch_size = 200\n",
    "chembl_url = 'https://www.ebi.ac.uk/chembl/api/data/molecule/set/'\n",
    "inchi_keys = []\n",
    "for ix, batch in enumerate(batch_iter(chembl_ids, batch_size)):\n",
    "    chembl_ids_str = ';'.join(list(batch))\n",
    "    print(ix)\n",
    "    res = requests.get(chembl_url + chembl_ids_str, headers={'Accept': 'application/json'})\n",
    "    if res.status_code != 200:\n",
    "        print(\"Error occurred\")\n",
    "        break\n",
    "    for mol in j['molecules']:\n",
    "        cid = mol['molecule_chembl_id']\n",
    "        ik = mol['molecule_structures']['standard_inchi_key']\n",
    "        inchi_keys.append((cid, ik))"
   ]
  },
  {
   "cell_type": "code",
   "execution_count": null,
   "metadata": {},
   "outputs": [],
   "source": [
    "j = res.json()"
   ]
  },
  {
   "cell_type": "code",
   "execution_count": null,
   "metadata": {},
   "outputs": [],
   "source": [
    "inchi_to_chembl = {t[1]: t[0] for t in inchi_keys}\n",
    "chembl_to_inchi = {t[0]: t[1] for t in inchi_keys}"
   ]
  },
  {
   "cell_type": "code",
   "execution_count": null,
   "metadata": {},
   "outputs": [],
   "source": [
    "def get_drug_id(name):\n",
    "    drug_rec = drug_info_df[drug_info_df.name == name]\n",
    "    return drug_rec.index.to_list()[0]\n",
    "\n",
    "def get_drug_name(drug_id):\n",
    "    drug_rec = drug_info_df.loc[drug_id]\n",
    "    return drug_rec['name']\n",
    "\n",
    "def get_drug_targets(drug_id):\n",
    "    drug_rec = drug_info_df.loc[drug_id]\n",
    "    targets = drug_rec['target']\n",
    "    if pd.isna(targets):\n",
    "        return []\n",
    "    else:\n",
    "        return [t.strip() for t in targets.split(',')]"
   ]
  },
  {
   "cell_type": "code",
   "execution_count": null,
   "metadata": {},
   "outputs": [],
   "source": [
    "# Dump all smiles strings from the DepMap data\n",
    "depmap_smiles = set()\n",
    "for _, smiles_str in drug_info_df.smiles.items():\n",
    "    if pd.isna(smiles_str):\n",
    "        continue\n",
    "    for sm in smiles_str.split(','):\n",
    "        sm = sm.strip()\n",
    "        if sm:\n",
    "            depmap_smiles.add(sm.strip())\n",
    "            \n",
    "depmap_smiles = list(demap_smiles)\n",
    "\n",
    "with open('depmap_smiles.txt', 'wt') as f:\n",
    "    for sm in depmap_smiles:\n",
    "        f.write('%s\\n' % sm)"
   ]
  },
  {
   "cell_type": "code",
   "execution_count": null,
   "metadata": {},
   "outputs": [],
   "source": [
    "# Convert from SMILES to INCHIKEY using obabel:\n",
    "# $ obabel -ismi depmap_smiles.txt -oinchikey > depmap_inchikey.txt"
   ]
  },
  {
   "cell_type": "code",
   "execution_count": null,
   "metadata": {},
   "outputs": [],
   "source": [
    "# Now, read the INCHIKEY databack in and build up a mapping dictionary\n",
    "depmap_inchikey = []\n",
    "with open('depmap_inchikey.txt', 'rt') as f:\n",
    "    depmap_inchikey = [l.strip() for l in f.readlines()]\n",
    "depmap_smiles_to_ik = dict(zip(depmap_smiles, depmap_inchikey))"
   ]
  },
  {
   "cell_type": "code",
   "execution_count": null,
   "metadata": {},
   "outputs": [],
   "source": [
    "import requests\n",
    "from indra.util import batch_iter\n",
    "chembl_url = 'https://www.ebi.ac.uk/chembl/api/data/substructure/'\n",
    "dmik_to_chembl = {}\n",
    "for ix, ik in enumerate(depmap_smiles_to_ik.values()):\n",
    "    if ix > 10:\n",
    "        break\n",
    "    res = requests.get(chembl_url + ik, headers={'Accept': 'application/json'})\n",
    "    if res.status_code != 200:\n",
    "        print(\"Error occurred\")\n",
    "        break\n",
    "    if res.json()['molecules']:\n",
    "        for mol in res.json()['molecules']:\n",
    "            cid = mol['molecule_chembl_id']\n",
    "            if ik not in dmik_to_chembl:\n",
    "                dmik_to_chembl[ik] = [cid]\n",
    "            else:\n",
    "                dmik_to_chembl[ik].append(cid)"
   ]
  },
  {
   "cell_type": "code",
   "execution_count": null,
   "metadata": {
    "scrolled": true
   },
   "outputs": [],
   "source": [
    "dmik_to_chembl"
   ]
  },
  {
   "cell_type": "code",
   "execution_count": null,
   "metadata": {},
   "outputs": [],
   "source": [
    "drug_name = 'vemurafenib'"
   ]
  },
  {
   "cell_type": "code",
   "execution_count": null,
   "metadata": {
    "scrolled": true
   },
   "outputs": [],
   "source": [
    "drug_info_df[drug_info_df['name'] == 'vemurafenib']"
   ]
  },
  {
   "cell_type": "code",
   "execution_count": null,
   "metadata": {},
   "outputs": [],
   "source": [
    "sm = [s.strip() for s in drug_info_df[drug_info_df['name'] == 'vemurafenib']['smiles'].values[0].split(',')]"
   ]
  },
  {
   "cell_type": "code",
   "execution_count": null,
   "metadata": {},
   "outputs": [],
   "source": [
    "sm"
   ]
  },
  {
   "cell_type": "code",
   "execution_count": null,
   "metadata": {},
   "outputs": [],
   "source": [
    "for s in sm:\n",
    "    ik = depmap_smiles_to_ik[s]\n",
    "    print(ik)"
   ]
  },
  {
   "cell_type": "code",
   "execution_count": null,
   "metadata": {},
   "outputs": [],
   "source": [
    "chembl_to_inchi['CHEMBL1229517']"
   ]
  },
  {
   "cell_type": "code",
   "execution_count": null,
   "metadata": {},
   "outputs": [],
   "source": [
    "drug_name = 'abemaciclib'\n",
    "corrs = sort_corrs(drug2_corrs, get_drug_id(drug_name))\n",
    "results = []\n",
    "corr_k = 20\n",
    "for i, (corr_drug_id, corr_val) in enumerate(corrs):\n",
    "    if corr_val == 1.0:\n",
    "        continue\n",
    "    if i >= corr_k:\n",
    "        break\n",
    "    corr_drug_name = get_drug_name(corr_drug_id)\n",
    "    corr_targets = get_drug_targets(corr_drug_id)\n",
    "    for t in corr_targets:\n",
    "        results.append((corr_drug_name, corr_drug_id, corr_val, t))\n",
    "tgt_df = pd.DataFrame.from_records(results, columns=('drug_name', 'drug_id', 'corr', 'target'))"
   ]
  },
  {
   "cell_type": "code",
   "execution_count": null,
   "metadata": {},
   "outputs": [],
   "source": [
    "tgt_df"
   ]
  },
  {
   "cell_type": "code",
   "execution_count": null,
   "metadata": {},
   "outputs": [],
   "source": [
    "tgt_df"
   ]
  },
  {
   "cell_type": "code",
   "execution_count": null,
   "metadata": {},
   "outputs": [],
   "source": [
    "tgt_corrs = tgt_df.groupby('target')['corr'].sum()\n",
    "tgt_counts = tgt_df.groupby('target')['drug_id'].count()\n",
    "tgt_corrs.sort_values(ascending=False, inplace=True)\n",
    "tgt_counts.sort_values(ascending=False, inplace=True)"
   ]
  },
  {
   "cell_type": "code",
   "execution_count": null,
   "metadata": {},
   "outputs": [],
   "source": [
    "num_tgts = 20\n",
    "top_corrs = tgt_corrs[0:num_tgts]\n",
    "labels = top_corrs.index.to_list()\n",
    "corrs = top_corrs.values"
   ]
  },
  {
   "cell_type": "code",
   "execution_count": null,
   "metadata": {},
   "outputs": [],
   "source": [
    "plt.figure()\n",
    "plt.bar(range(len(corrs)), corrs, align='center', tick_label=labels)\n",
    "plt.xticks(rotation='vertical')\n",
    "plt.subplots_adjust(bottom=0.2)\n",
    "plt.xlabel('Nominal targets of top %d correlates' % corr_k)\n",
    "plt.ylabel('Count')\n",
    "plt.title('Targets of drugs correlated with %s' % drug_name)\n",
    "plt.show()"
   ]
  },
  {
   "cell_type": "markdown",
   "metadata": {},
   "source": [
    "# Depmap Paper Figures"
   ]
  },
  {
   "cell_type": "markdown",
   "metadata": {
    "heading_collapsed": true
   },
   "source": [
    "## Figure 1: Example correlation"
   ]
  },
  {
   "cell_type": "code",
   "execution_count": null,
   "metadata": {
    "hidden": true
   },
   "outputs": [],
   "source": [
    "from indra.util import plot_formatting as pf\n",
    "from scipy.stats import linregress\n",
    "\n",
    "pf.set_fig_params()\n",
    "geneA = 'CDKN1A'\n",
    "geneB = 'CHEK2'\n",
    "lw = 0.5\n",
    "ms = 1\n",
    "fig = plt.figure(figsize=(4, 2))\n",
    "# CRISPR plot\n",
    "plt.subplot(1, 2, 1)\n",
    "ax = plt.gca()\n",
    "ax.axhline(y=0, color='k', linewidth=lw)\n",
    "ax.axvline(x=0, color='k', linewidth=lw)\n",
    "plt.plot(crispr_df[geneA].values, crispr_df[geneB].values, marker='.', markersize=ms, linestyle='')\n",
    "# Plot linear regression\n",
    "crispr_lr = linregress(crispr_df[geneA].values, crispr_df[geneB].values)\n",
    "plt.plot(crispr_df[geneA].values, crispr_df[geneA].values * crispr_lr.slope + crispr_lr.intercept,\n",
    "         linestyle='-', linewidth=lw, color='black')\n",
    "plt.xlabel(f'{geneA} Gene Effect (CERES)')\n",
    "plt.ylabel(f'{geneB} Gene Effect (CERES)')\n",
    "ax.text(1.4, 1.5, 'rho = %0.3f' % crispr_lr.rvalue, fontsize=pf.fontsize)\n",
    "ax.text(1.4, 1.35, 'z = %0.2f' % crispr_z[geneA][geneB], fontsize=pf.fontsize)\n",
    "pf.format_axis(ax)\n",
    "# RNAi plot\n",
    "plt.subplot(1, 2, 2)\n",
    "rnai_df_filt = rnai_df[~pd.isnull(rnai_df[geneA]) & ~pd.isnull(rnai_df[geneB])]\n",
    "ax = plt.gca()\n",
    "ax.axhline(y=0, color='k', linewidth=lw)\n",
    "ax.axvline(x=0, color='k', linewidth=lw)\n",
    "plt.plot(rnai_df_filt[geneA].values, rnai_df_filt[geneB].values, marker='.', markersize=ms, linestyle='')\n",
    "# Plot linear regression\n",
    "rnai_lr = linregress(rnai_df_filt[geneA].values, rnai_df_filt[geneB].values)\n",
    "plt.plot(rnai_df_filt[geneA].values, rnai_df_filt[geneA].values * rnai_lr.slope + rnai_lr.intercept,\n",
    "         linestyle='-', linewidth=lw, color='black')\n",
    "plt.xlabel(f'{geneA} Gene Effect (DEMETER2)')\n",
    "plt.ylabel(f'{geneB} Gene Effect (DEMETER2)')\n",
    "ax.text(0.7, 0.69, 'rho = %0.3f' % rnai_lr.rvalue, fontsize=pf.fontsize)\n",
    "ax.text(0.7, 0.57, 'z = %0.2f' % rnai_z[geneA][geneB], fontsize=pf.fontsize)\n",
    "\n",
    "pf.format_axis(ax)\n",
    "fig.tight_layout()\n",
    "plt.savefig(join(figdir, f'{geneA}_{geneB}_corr_plot.pdf'))\n",
    "dep_z[geneA][geneB]"
   ]
  },
  {
   "cell_type": "markdown",
   "metadata": {},
   "source": [
    "## Figure 2: Stronger Effects -> Stronger Correlations, Mito genes"
   ]
  },
  {
   "cell_type": "code",
   "execution_count": null,
   "metadata": {},
   "outputs": [],
   "source": [
    "mitocarta = pd.read_excel('data/Human.MitoCarta2.0.xls', sheet_name=1)\n",
    "mitogenes = list(mitocarta.Symbol.values)"
   ]
  },
  {
   "cell_type": "code",
   "execution_count": null,
   "metadata": {},
   "outputs": [],
   "source": [
    "len(mitogenes)"
   ]
  },
  {
   "cell_type": "code",
   "execution_count": null,
   "metadata": {},
   "outputs": [],
   "source": [
    "'SSBP1' in mitogenes"
   ]
  },
  {
   "cell_type": "code",
   "execution_count": null,
   "metadata": {},
   "outputs": [],
   "source": [
    "crispr_mean = crispr_df.abs().mean(axis=0).sort_values()"
   ]
  },
  {
   "cell_type": "code",
   "execution_count": null,
   "metadata": {},
   "outputs": [],
   "source": [
    "crispr_z_mean = crispr_z.abs().mean(axis=0)"
   ]
  },
  {
   "cell_type": "code",
   "execution_count": null,
   "metadata": {},
   "outputs": [],
   "source": [
    "n_corrs = 100\n",
    "np.mean(sorted(crispr_z['CHEK2'].abs(), reverse=True)[1:n_corrs+1])"
   ]
  },
  {
   "cell_type": "code",
   "execution_count": null,
   "metadata": {},
   "outputs": [],
   "source": [
    "#crispr_z_mean = crispr_z.apply(lambda x: np.mean(sorted(x.abs(), reverse=True)[1:101]), axis=1)"
   ]
  },
  {
   "cell_type": "code",
   "execution_count": null,
   "metadata": {},
   "outputs": [],
   "source": [
    "crispr_z_mean.CHEK2"
   ]
  },
  {
   "cell_type": "code",
   "execution_count": null,
   "metadata": {},
   "outputs": [],
   "source": [
    "effect_corr = pd.concat([crispr_mean, crispr_z_mean], axis=1, sort=False)"
   ]
  },
  {
   "cell_type": "code",
   "execution_count": null,
   "metadata": {},
   "outputs": [],
   "source": [
    "mito_effect = effect_corr[effect_corr.index.isin(mitogenes)]\n",
    "nonmito_effect = effect_corr[~effect_corr.index.isin(mitogenes)]"
   ]
  },
  {
   "cell_type": "code",
   "execution_count": null,
   "metadata": {},
   "outputs": [],
   "source": [
    "res = nonmito_effect.groupby(pd.qcut(nonmito_effect[0].values, 400)).mean()"
   ]
  },
  {
   "cell_type": "code",
   "execution_count": null,
   "metadata": {},
   "outputs": [],
   "source": [
    "plt.plot(nonmito_effect[0], nonmito_effect[1], linestyle='', marker='.', color='b', alpha=0.5, label='Not in MitoCarta')\n",
    "plt.plot(mito_effect[0], mito_effect[1], linestyle='', marker='.', color='r', alpha=0.5, label='In MitoCarta')\n",
    "plt.plot(res[0].values, res[1].values, linewidth=3, color='black')\n",
    "plt.xlabel('Average CRISPR Gene Effect')\n",
    "plt.ylabel(f'Avg of top {n_corrs} CRISPR Corrs (z-scores)')\n",
    "plt.legend()"
   ]
  },
  {
   "cell_type": "markdown",
   "metadata": {},
   "source": [
    "## Clustering Correlation Data"
   ]
  },
  {
   "cell_type": "code",
   "execution_count": null,
   "metadata": {},
   "outputs": [],
   "source": [
    "dep_z.columns"
   ]
  },
  {
   "cell_type": "markdown",
   "metadata": {
    "heading_collapsed": true
   },
   "source": [
    "# Deprecated/Old"
   ]
  },
  {
   "cell_type": "markdown",
   "metadata": {
    "heading_collapsed": true,
    "hidden": true
   },
   "source": [
    "## Load Cosmic Data"
   ]
  },
  {
   "cell_type": "code",
   "execution_count": null,
   "metadata": {
    "hidden": true
   },
   "outputs": [],
   "source": [
    "cos_df = pd.read_csv('data/Census_allThu Jun 13 20_37_30 2019.csv')"
   ]
  },
  {
   "cell_type": "code",
   "execution_count": null,
   "metadata": {
    "hidden": true
   },
   "outputs": [],
   "source": [
    "cos_df.head()"
   ]
  },
  {
   "cell_type": "code",
   "execution_count": null,
   "metadata": {
    "hidden": true
   },
   "outputs": [],
   "source": [
    "cos_corrs = corrs_for_genes(cos_df['Gene Symbol'])"
   ]
  },
  {
   "cell_type": "markdown",
   "metadata": {
    "heading_collapsed": true,
    "hidden": true
   },
   "source": [
    "## Load Solute Carrier Family genes"
   ]
  },
  {
   "cell_type": "code",
   "execution_count": null,
   "metadata": {
    "hidden": true
   },
   "outputs": [],
   "source": [
    "slc_df = pd.read_csv('data/slc_genes.csv')"
   ]
  },
  {
   "cell_type": "code",
   "execution_count": null,
   "metadata": {
    "hidden": true
   },
   "outputs": [],
   "source": [
    "slc_df.head()\n",
    "slc_corrs = corrs_for_genes(slc_df['Approved symbol'])"
   ]
  },
  {
   "cell_type": "code",
   "execution_count": null,
   "metadata": {
    "hidden": true
   },
   "outputs": [],
   "source": [
    "slc_corrs"
   ]
  },
  {
   "cell_type": "code",
   "execution_count": null,
   "metadata": {
    "hidden": true
   },
   "outputs": [],
   "source": [
    "import requests"
   ]
  },
  {
   "cell_type": "code",
   "execution_count": null,
   "metadata": {
    "hidden": true
   },
   "outputs": [],
   "source": [
    "query = {'source': None,\n",
    "         'target': None,\n",
    "         'stmt_filter': ['conversion', 'fplx'],\n",
    "         'node_filter': ['hgnc', 'fplx', 'chebi', 'pubchem', 'go', 'mesh'],\n",
    "         'node_blacklist': [],\n",
    "         'edge_hash_blacklist': [],\n",
    "         'path_length': 1,\n",
    "         'sign': 'no_sign',\n",
    "         'weighted': False,\n",
    "         'bsco': 0.,\n",
    "         'direct_only': False,\n",
    "         'curated_db_only': False,         \n",
    "         'fplx_expand': False,\n",
    "         'simple': False,\n",
    "         'k_shortest': False}\n",
    "\n",
    "def get_expl_corrs(gene_pairs):\n",
    "    no_path = []\n",
    "    has_2path = []\n",
    "    has_3path = []\n",
    "    for ix, (gene_a, gene_b, z_score) in enumerate(gene_pairs):\n",
    "        for source, target in ((gene_a, gene_b), (gene_b, gene_a)):\n",
    "            print(\"%d getting paths for %s, %s\" % (ix, source, target))\n",
    "            query['source'] = source\n",
    "            query['target'] = target\n",
    "            query['path_length'] = 1\n",
    "            res = requests.post('http://127.0.0.1:5000/query/submit', json=query).json()\n",
    "            if '2' in res['result']['paths_by_node_count']:\n",
    "                has_2path.append((source, target, z_score))\n",
    "            else:\n",
    "                query['path_length'] = 2\n",
    "                res = requests.post('http://127.0.0.1:5000/query/submit', json=query).json()\n",
    "                if '3' in res['result']['paths_by_node_count']:\n",
    "                    has_3path.append((source, target, z_score))                \n",
    "                else:\n",
    "                    no_path.append((source, target, z_score))\n",
    "    return {'no_path': no_path, 'has_2path': has_2path, 'has_3path': has_3path}"
   ]
  },
  {
   "cell_type": "code",
   "execution_count": null,
   "metadata": {
    "hidden": true
   },
   "outputs": [],
   "source": [
    "paths = get_expl_corrs(sorted(slc_corrs, key=lambda x: x[2], reverse=True))"
   ]
  },
  {
   "cell_type": "code",
   "execution_count": null,
   "metadata": {
    "hidden": true
   },
   "outputs": [],
   "source": [
    "paths['has_2path']"
   ]
  },
  {
   "cell_type": "code",
   "execution_count": null,
   "metadata": {
    "hidden": true
   },
   "outputs": [],
   "source": [
    "paths['has_3path']"
   ]
  },
  {
   "cell_type": "code",
   "execution_count": null,
   "metadata": {
    "hidden": true
   },
   "outputs": [],
   "source": [
    "paths['no_path']"
   ]
  },
  {
   "cell_type": "code",
   "execution_count": null,
   "metadata": {
    "hidden": true
   },
   "outputs": [],
   "source": [
    "query['source'] = 'GRSF1'\n",
    "query['target'] = 'SLC30A9'\n",
    "query['path_length'] = 2\n",
    "res = requests.post('http://127.0.0.1:5000/query/submit', json=query).json()"
   ]
  },
  {
   "cell_type": "code",
   "execution_count": null,
   "metadata": {
    "hidden": true
   },
   "outputs": [],
   "source": [
    "res"
   ]
  },
  {
   "cell_type": "markdown",
   "metadata": {
    "heading_collapsed": true,
    "hidden": true
   },
   "source": [
    "## Load INDRA SIF DB"
   ]
  },
  {
   "cell_type": "code",
   "execution_count": null,
   "metadata": {
    "hidden": true
   },
   "outputs": [],
   "source": [
    "stmts_df = pd.read_csv('data/stmts_by_pair_type.csv')\n",
    "# Filter to HGNC only\n",
    "stmts_df = stmts_df[(stmts_df['agA_ns'] == 'HGNC') & (stmts_df['agB_ns'] == 'HGNC')]\n",
    "# Remove namespace and identifier columns, leaving only name\n",
    "stmts_df = stmts_df[['agA_name', 'agB_name', 'stmt_type', 'evidence_count']]\n",
    "# Remove self-edges\n",
    "stmts_df = stmts_df[stmts_df['agA_name'] != stmts_df['agB_name']]\n",
    "# Useful bits of Pandas to know, ultimately not used here:\n",
    "# pd.crosstab([foo['agA_name'], foo['agB_name']], foo['stmt_type'], foo['evidence_count'],\n",
    "#             aggfunc='sum', dropna=False).fillna(0)\n",
    "# baz = bar[bar.apply(lambda x: x.name[0] != x.name[1], axis=1)]"
   ]
  },
  {
   "cell_type": "code",
   "execution_count": null,
   "metadata": {
    "hidden": true
   },
   "outputs": [],
   "source": [
    "x_dict = {}\n",
    "for row in stmts_df.values:\n",
    "    try:\n",
    "        raw_corr = dep_z[row[0]][row[1]]\n",
    "        \"\"\"\n",
    "        if int(raw_corr) == 0:\n",
    "            corr = 0\n",
    "        elif int(raw_corr) < 0:\n",
    "            corr = -1\n",
    "        elif int(raw_corr) > 0:\n",
    "            corr = 1\n",
    "        \"\"\"\n",
    "        corr = raw_corr\n",
    "    except KeyError:\n",
    "        continue\n",
    "    stmt_type = row[2]\n",
    "    gene_pair = (row[0], row[1])\n",
    "    if gene_pair not in x_dict:\n",
    "        x_dict[gene_pair] = {'Corr': corr}\n",
    "    x_dict[gene_pair][stmt_type] = row[3]\n",
    "features = ['Activation', 'Inhibition', 'Corr']\n",
    "all_data = np.zeros((len(x_dict), len(features)))\n",
    "for row_ix, feat_dict in enumerate(x_dict.values()):\n",
    "    for feat_name, feat_val in feat_dict.items():\n",
    "        if feat_name not in features:\n",
    "            continue\n",
    "        feat_ix = features.index(feat_name)\n",
    "        all_data[row_ix, feat_ix] = feat_val"
   ]
  },
  {
   "cell_type": "code",
   "execution_count": null,
   "metadata": {
    "hidden": true
   },
   "outputs": [],
   "source": [
    "\"\"\"\n",
    "# Shuffle the matrix in place\n",
    "np.random.shuffle(all_data)\n",
    "# Balance the data\n",
    "ctr = Counter(all_data[:, -1])\n",
    "classes = sorted([(k, v) for k,  v in ctr.items()], key=lambda x: x[0])\n",
    "# Get the class with the fewest members\n",
    "min_class_count = min([t[1] for t in classes])\n",
    "min_class_count\n",
    "data_bal = np.zeros((min_class_count * len(classes), len(features)))\n",
    "row_ix = 0\n",
    "for one_class, count in classes:\n",
    "    num_class_rows = 0\n",
    "    for ix in range(all_data.shape[0]):\n",
    "        if all_data[ix, -1] == one_class:\n",
    "            data_bal[row_ix] = all_data[ix,:]\n",
    "            row_ix += 1\n",
    "            num_class_rows += 1\n",
    "        if num_class_rows >= min_class_count:\n",
    "            print(\"Finished class %s, at rows %s\" % (one_class, row_ix))\n",
    "            break\n",
    "\n",
    "\"\"\""
   ]
  },
  {
   "cell_type": "code",
   "execution_count": null,
   "metadata": {
    "hidden": true
   },
   "outputs": [],
   "source": [
    "# Divide training and test\n",
    "np.random.shuffle(all_data)\n",
    "partition_ix = int(len(all_data) * 0.8)\n",
    "train_data = all_data[0:partition_ix, :]\n",
    "test_data = all_data[partition_ix:, :]\n",
    "x_train = train_data[:,:-1]\n",
    "y_train = train_data[:, -1]\n",
    "x_test = test_data[:, :-1]\n",
    "y_test = test_data[:, -1]"
   ]
  },
  {
   "cell_type": "markdown",
   "metadata": {
    "heading_collapsed": true,
    "hidden": true
   },
   "source": [
    "## Multinomial Naive Bayes"
   ]
  },
  {
   "cell_type": "code",
   "execution_count": null,
   "metadata": {
    "hidden": true,
    "scrolled": true
   },
   "outputs": [],
   "source": [
    "from sklearn.naive_bayes import MultinomialNB\n",
    "nb = MultinomialNB()\n",
    "nb.fit(x_train, y_train)\n",
    "nb.score(x_test, y_test)"
   ]
  },
  {
   "cell_type": "code",
   "execution_count": null,
   "metadata": {
    "hidden": true
   },
   "outputs": [],
   "source": [
    "yctr = Counter(y_train)\n",
    "yclasses = sorted([(k, v) for k,  v in yctr.items()], key=lambda x: x[0])"
   ]
  },
  {
   "cell_type": "code",
   "execution_count": null,
   "metadata": {
    "hidden": true
   },
   "outputs": [],
   "source": [
    "[features + ['Count']] + list(zip(nb.coef_, classes))"
   ]
  },
  {
   "cell_type": "markdown",
   "metadata": {
    "heading_collapsed": true,
    "hidden": true
   },
   "source": [
    "## Linear Regression"
   ]
  },
  {
   "cell_type": "code",
   "execution_count": null,
   "metadata": {
    "hidden": true
   },
   "outputs": [],
   "source": [
    "from sklearn.linear_model import LinearRegression\n",
    "from sklearn.metrics import explained_variance_score\n",
    "from sklearn.kernel_ridge import KernelRidge\n",
    "lr = LinearRegression()"
   ]
  },
  {
   "cell_type": "code",
   "execution_count": null,
   "metadata": {
    "hidden": true
   },
   "outputs": [],
   "source": [
    "lr.fit(x_train, y_train)\n",
    "lr.coef_"
   ]
  },
  {
   "cell_type": "code",
   "execution_count": null,
   "metadata": {
    "hidden": true
   },
   "outputs": [],
   "source": [
    "y_pred = lr.predict(x_train)\n",
    "explained_variance_score(y_train, y_pred)"
   ]
  },
  {
   "cell_type": "code",
   "execution_count": null,
   "metadata": {
    "hidden": true
   },
   "outputs": [],
   "source": [
    "y_mean = np.full(y_train.shape, y_train.mean())\n",
    "explained_variance_score(y_train, y_mean)"
   ]
  },
  {
   "cell_type": "code",
   "execution_count": null,
   "metadata": {
    "hidden": true
   },
   "outputs": [],
   "source": [
    "y_pred_test = lr.predict(x_test)\n",
    "explained_variance_score(y_test, y_pred_test)"
   ]
  },
  {
   "cell_type": "markdown",
   "metadata": {
    "heading_collapsed": true,
    "hidden": true
   },
   "source": [
    "## Load INDRA Statements (deprecated)"
   ]
  },
  {
   "cell_type": "code",
   "execution_count": null,
   "metadata": {
    "hidden": true
   },
   "outputs": [],
   "source": [
    "reload = False\n",
    "if reload:\n",
    "    inc_stmts = ac.load_statements('increase_amt.pkl')\n",
    "    dec_stmts = ac.load_statements('decrease_amt.pkl')\n",
    "    stmts = inc_stmts + dec_stmts\n",
    "    stmts = ac.map_grounding(stmts)\n",
    "    stmts = [s for s in stmts if s.subj and s.subj.db_refs.get('HGNC')\n",
    "                             and s.obj and s.obj.db_refs.get('HGNC')]\n",
    "    stmts = ac.run_preassembly(stmts)\n",
    "    ac.dump_statements(stmts, 'assembled_stmts.pkl')\n",
    "else:\n",
    "    stmts = ac.load_statements('assembled_stmts.pkl')"
   ]
  },
  {
   "cell_type": "code",
   "execution_count": null,
   "metadata": {
    "hidden": true
   },
   "outputs": [],
   "source": [
    "stmts_by_obj = defaultdict(list)\n",
    "for s in stmts:\n",
    "    gene_id = s.obj.db_refs['HGNC']\n",
    "    gene_name = hgnc_client.get_hgnc_name(gene_id)\n",
    "    stmts_by_obj[gene_name].append(s)"
   ]
  },
  {
   "cell_type": "code",
   "execution_count": null,
   "metadata": {
    "hidden": true
   },
   "outputs": [],
   "source": [
    "stmt_counts = []\n",
    "for obj, stmts in stmts_by_obj.items():\n",
    "    stmt_counts.append((obj, len(stmts)))\n",
    "stmt_counts.sort(key=lambda x: x[1], reverse=True)"
   ]
  },
  {
   "cell_type": "code",
   "execution_count": null,
   "metadata": {
    "hidden": true
   },
   "outputs": [],
   "source": [
    "stmt_counts[0:10]"
   ]
  },
  {
   "cell_type": "code",
   "execution_count": null,
   "metadata": {
    "hidden": true
   },
   "outputs": [],
   "source": [
    "gene = 'BCL2'\n",
    "rank = 0\n",
    "stmts_by_obj[gene].sort(key=lambda s: s.belief, reverse=True)\n",
    "print(stmts_by_obj[gene][rank], '\\n')\n",
    "print('\\n'.join(['%d: %s\\n' % (i, str((e.source_api, e.text)))\n",
    "                 for i, e in enumerate(stmts_by_obj[gene][rank].evidence)]))"
   ]
  }
 ],
 "metadata": {
  "hide_input": false,
  "kernelspec": {
   "display_name": "Python 3",
   "language": "python",
   "name": "python3"
  },
  "language_info": {
   "codemirror_mode": {
    "name": "ipython",
    "version": 3
   },
   "file_extension": ".py",
   "mimetype": "text/x-python",
   "name": "python",
   "nbconvert_exporter": "python",
   "pygments_lexer": "ipython3",
   "version": "3.7.4"
  }
 },
 "nbformat": 4,
 "nbformat_minor": 2
}
