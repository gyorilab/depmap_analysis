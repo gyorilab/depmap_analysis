{
 "cells": [
  {
   "cell_type": "markdown",
   "metadata": {},
   "source": [
    "# Overview and Notes"
   ]
  },
  {
   "cell_type": "markdown",
   "metadata": {},
   "source": [
    "What are interesting scenarios for exploring correlations?\n",
    "* Expression-dependency correlations for dependency genes that are druggable. For these, the expression correlates are informative for selection of sensitive cell lines/patients. In addition, causally related expression correlates are suggestive of possible resistance mechanisms or secondary targets for a drug combination.\n",
    "* Dependency-dependency correlations for undruggable genes. For these, the correlates are suggestive of substitute targets, or combinations of targets. However, as combinations are considered the causal interpretation becomes more important.\n",
    "* Expression-expression correlations. In this case one idea would be to explore the strength and sign of relationships from the data vs. assertions from curated databases/literature, particularly from perturbational experiments.\n",
    "* Co-expression patterns. Another possibility is to discover patterns of relationships between genes, e.g. that expression of ubiquitin ligases is correlated with the expression of their targets.\n",
    "\n",
    "Another interesting direction would be to use the information in the INDRA database to discover patterns of mechanistic relationships that predict correlations between dependencies of two genes, or between expression of a gene and dependency of another gene. The simplest possible application of this would be to look at pairwise relationships between two genes (could even extract from SIF), and test to see which types of relationships, and signs of relationships predicted, and amount of evidence predicted a) the sign of a correlation and b) the strength of the correlation.\n",
    "\n",
    "If the matrix is made complete, i.e., if entries are included for having no known relationship, we may find that having no relationship is not predictive of a lack of a correlation.\n",
    "\n",
    "Similarly, there will be many mechanistic relationships that yield detectable correlations.\n",
    "\n",
    "One hypothesis that could be tested is whether downstream siblings were more likely to have large correlations to each other than with their ancestors, highlighting that correlations rarely pick up causal relations in this type of data.\n",
    "\n",
    "Could do this with graph convolutional nets?\n",
    "\n",
    "Another application would be to use the data to refine vague relationships extracted from text, or to address issues with assembly, a la distant supervision.\n",
    "\n",
    "Another direction would be to cluster the correlation graph to find likely intermediates.\n",
    "\n",
    "Or, to use the redundancy of certain gene families to explain why certain correlations do *not* show up, i.e., the gene knockout has no effect because it has a redundant copy."
   ]
  },
  {
   "cell_type": "markdown",
   "metadata": {},
   "source": [
    "# Preliminaries"
   ]
  },
  {
   "cell_type": "code",
   "execution_count": 1,
   "metadata": {},
   "outputs": [],
   "source": [
    "import pickle\n",
    "from os.path import join\n",
    "from collections import defaultdict, Counter\n",
    "import numpy as np\n",
    "import pandas as pd\n",
    "from scipy import stats\n",
    "from matplotlib import pyplot as plt\n",
    "from indra.databases import hgnc_client\n",
    "from indra.tools import assemble_corpus as ac"
   ]
  },
  {
   "cell_type": "markdown",
   "metadata": {},
   "source": [
    "## Load transcript and dependency data and compute correlations\n",
    "\n",
    "\n",
    "Key variables/functions:\n",
    "* `ccle_df`. CCLE expression data, DataFrame.\n",
    "* `crispr_df`. DepMap CRISPR gene effect (dependency) data, DataFrame.\n",
    "* `crispr_corr`\n",
    "* `crispr_z`\n",
    "* `rnai_df`. DepMap combined RNAi data, DataFrame.\n",
    "* `rna_corr`\n",
    "* `rnai_z`\n",
    "* `dep_z`\n",
    "* `dep_df`. CRISPR and RNAi data combined as averaged z-scores, DataFrame.\n",
    "* `dep_corr`. Correlation matrix between dep-dep, dep-expr, and expr-expr (though expr-expr correlations are only defined in this matrix for the genes also included in the dependency data)."
   ]
  },
  {
   "cell_type": "markdown",
   "metadata": {},
   "source": [
    "### Working directory"
   ]
  },
  {
   "cell_type": "code",
   "execution_count": 2,
   "metadata": {},
   "outputs": [],
   "source": [
    "basedir = 'data/19q4'"
   ]
  },
  {
   "cell_type": "markdown",
   "metadata": {},
   "source": [
    "### Cell line metadata\n",
    "\n",
    "Load the cell line metadata which includes mappings between cell line identifiers used by different datasets."
   ]
  },
  {
   "cell_type": "code",
   "execution_count": 3,
   "metadata": {},
   "outputs": [],
   "source": [
    "cell_line_df = pd.read_csv(join(basedir, 'sample_info.csv'))\n",
    "#cell_line_df = pd.read_csv('data/DepMap-2019q1-celllines_v2.csv')"
   ]
  },
  {
   "cell_type": "code",
   "execution_count": 4,
   "metadata": {},
   "outputs": [
    {
     "data": {
      "text/html": [
       "<div>\n",
       "<style scoped>\n",
       "    .dataframe tbody tr th:only-of-type {\n",
       "        vertical-align: middle;\n",
       "    }\n",
       "\n",
       "    .dataframe tbody tr th {\n",
       "        vertical-align: top;\n",
       "    }\n",
       "\n",
       "    .dataframe thead th {\n",
       "        text-align: right;\n",
       "    }\n",
       "</style>\n",
       "<table border=\"1\" class=\"dataframe\">\n",
       "  <thead>\n",
       "    <tr style=\"text-align: right;\">\n",
       "      <th></th>\n",
       "      <th>DepMap_ID</th>\n",
       "    </tr>\n",
       "    <tr>\n",
       "      <th>CCLE_Name</th>\n",
       "      <th></th>\n",
       "    </tr>\n",
       "  </thead>\n",
       "  <tbody>\n",
       "    <tr>\n",
       "      <th>NIHOVCAR3_OVARY</th>\n",
       "      <td>ACH-000001</td>\n",
       "    </tr>\n",
       "    <tr>\n",
       "      <th>HL60_HAEMATOPOIETIC_AND_LYMPHOID_TISSUE</th>\n",
       "      <td>ACH-000002</td>\n",
       "    </tr>\n",
       "    <tr>\n",
       "      <th>CACO2_LARGE_INTESTINE</th>\n",
       "      <td>ACH-000003</td>\n",
       "    </tr>\n",
       "    <tr>\n",
       "      <th>HEL_HAEMATOPOIETIC_AND_LYMPHOID_TISSUE</th>\n",
       "      <td>ACH-000004</td>\n",
       "    </tr>\n",
       "    <tr>\n",
       "      <th>HEL9217_HAEMATOPOIETIC_AND_LYMPHOID_TISSUE</th>\n",
       "      <td>ACH-000005</td>\n",
       "    </tr>\n",
       "  </tbody>\n",
       "</table>\n",
       "</div>"
      ],
      "text/plain": [
       "                                             DepMap_ID\n",
       "CCLE_Name                                             \n",
       "NIHOVCAR3_OVARY                             ACH-000001\n",
       "HL60_HAEMATOPOIETIC_AND_LYMPHOID_TISSUE     ACH-000002\n",
       "CACO2_LARGE_INTESTINE                       ACH-000003\n",
       "HEL_HAEMATOPOIETIC_AND_LYMPHOID_TISSUE      ACH-000004\n",
       "HEL9217_HAEMATOPOIETIC_AND_LYMPHOID_TISSUE  ACH-000005"
      ]
     },
     "execution_count": 4,
     "metadata": {},
     "output_type": "execute_result"
    }
   ],
   "source": [
    "cell_line_map = cell_line_df[['DepMap_ID', 'CCLE_Name']]\n",
    "cell_line_map.set_index('CCLE_Name', inplace=True)\n",
    "cell_line_map.head()"
   ]
  },
  {
   "cell_type": "markdown",
   "metadata": {},
   "source": [
    "### RNAi data\n",
    "\n",
    "Load combined RNAi data, normalize column names, map to DepMap cell line IDs, and drop duplicate columns."
   ]
  },
  {
   "cell_type": "code",
   "execution_count": 5,
   "metadata": {},
   "outputs": [
    {
     "name": "stdout",
     "output_type": "stream",
     "text": [
      "CPU times: user 1.64 s, sys: 144 ms, total: 1.78 s\n",
      "Wall time: 1.78 s\n"
     ]
    }
   ],
   "source": [
    "%time rnai_df = pd.read_csv(join(basedir, 'D2_combined_gene_dep_scores.csv'), index_col=0)\n",
    "rnai_df = rnai_df.transpose()\n",
    "gene_cols = ['%s' % col.split(' ')[0] for col in rnai_df.columns]\n",
    "rnai_df.columns = gene_cols\n",
    "rnai_df = rnai_df.join(cell_line_map)\n",
    "rnai_df = rnai_df.set_index('DepMap_ID')\n",
    "# Drop duplicate columns\n",
    "rnai_df = rnai_df.loc[:,~rnai_df.columns.duplicated()]"
   ]
  },
  {
   "cell_type": "code",
   "execution_count": 6,
   "metadata": {
    "scrolled": true
   },
   "outputs": [
    {
     "data": {
      "text/html": [
       "<div>\n",
       "<style scoped>\n",
       "    .dataframe tbody tr th:only-of-type {\n",
       "        vertical-align: middle;\n",
       "    }\n",
       "\n",
       "    .dataframe tbody tr th {\n",
       "        vertical-align: top;\n",
       "    }\n",
       "\n",
       "    .dataframe thead th {\n",
       "        text-align: right;\n",
       "    }\n",
       "</style>\n",
       "<table border=\"1\" class=\"dataframe\">\n",
       "  <thead>\n",
       "    <tr style=\"text-align: right;\">\n",
       "      <th></th>\n",
       "      <th>A1BG</th>\n",
       "      <th>NAT2</th>\n",
       "      <th>ADA</th>\n",
       "      <th>CDH2</th>\n",
       "      <th>AKT3</th>\n",
       "      <th>MED6</th>\n",
       "      <th>NR2E3</th>\n",
       "      <th>NAALAD2</th>\n",
       "      <th>DUXB</th>\n",
       "      <th>PDZK1P1</th>\n",
       "      <th>...</th>\n",
       "      <th>RCE1</th>\n",
       "      <th>HNRNPDL</th>\n",
       "      <th>DMTF1</th>\n",
       "      <th>PPP4R1</th>\n",
       "      <th>CDH1</th>\n",
       "      <th>SLC12A6</th>\n",
       "      <th>KCNE2</th>\n",
       "      <th>DGCR2</th>\n",
       "      <th>CASP8AP2</th>\n",
       "      <th>SCO2</th>\n",
       "    </tr>\n",
       "    <tr>\n",
       "      <th>DepMap_ID</th>\n",
       "      <th></th>\n",
       "      <th></th>\n",
       "      <th></th>\n",
       "      <th></th>\n",
       "      <th></th>\n",
       "      <th></th>\n",
       "      <th></th>\n",
       "      <th></th>\n",
       "      <th></th>\n",
       "      <th></th>\n",
       "      <th></th>\n",
       "      <th></th>\n",
       "      <th></th>\n",
       "      <th></th>\n",
       "      <th></th>\n",
       "      <th></th>\n",
       "      <th></th>\n",
       "      <th></th>\n",
       "      <th></th>\n",
       "      <th></th>\n",
       "      <th></th>\n",
       "    </tr>\n",
       "  </thead>\n",
       "  <tbody>\n",
       "    <tr>\n",
       "      <th>ACH-001270</th>\n",
       "      <td>NaN</td>\n",
       "      <td>NaN</td>\n",
       "      <td>NaN</td>\n",
       "      <td>-0.194962</td>\n",
       "      <td>-0.256108</td>\n",
       "      <td>-0.174220</td>\n",
       "      <td>-0.140052</td>\n",
       "      <td>NaN</td>\n",
       "      <td>NaN</td>\n",
       "      <td>NaN</td>\n",
       "      <td>...</td>\n",
       "      <td>-0.201644</td>\n",
       "      <td>-0.363670</td>\n",
       "      <td>0.184260</td>\n",
       "      <td>-0.115616</td>\n",
       "      <td>-0.125958</td>\n",
       "      <td>NaN</td>\n",
       "      <td>0.088853</td>\n",
       "      <td>NaN</td>\n",
       "      <td>-0.843295</td>\n",
       "      <td>NaN</td>\n",
       "    </tr>\n",
       "    <tr>\n",
       "      <th>ACH-001000</th>\n",
       "      <td>NaN</td>\n",
       "      <td>NaN</td>\n",
       "      <td>NaN</td>\n",
       "      <td>-0.028171</td>\n",
       "      <td>0.100751</td>\n",
       "      <td>-0.456124</td>\n",
       "      <td>-0.174618</td>\n",
       "      <td>NaN</td>\n",
       "      <td>NaN</td>\n",
       "      <td>NaN</td>\n",
       "      <td>...</td>\n",
       "      <td>0.074889</td>\n",
       "      <td>0.152158</td>\n",
       "      <td>0.036011</td>\n",
       "      <td>0.117300</td>\n",
       "      <td>0.101725</td>\n",
       "      <td>NaN</td>\n",
       "      <td>-0.110628</td>\n",
       "      <td>NaN</td>\n",
       "      <td>-0.307031</td>\n",
       "      <td>NaN</td>\n",
       "    </tr>\n",
       "    <tr>\n",
       "      <th>ACH-001001</th>\n",
       "      <td>0.146042</td>\n",
       "      <td>0.102854</td>\n",
       "      <td>0.168839</td>\n",
       "      <td>0.063047</td>\n",
       "      <td>-0.008077</td>\n",
       "      <td>-0.214376</td>\n",
       "      <td>-0.153619</td>\n",
       "      <td>0.133830</td>\n",
       "      <td>0.138673</td>\n",
       "      <td>0.030345</td>\n",
       "      <td>...</td>\n",
       "      <td>0.006735</td>\n",
       "      <td>-0.033385</td>\n",
       "      <td>0.197651</td>\n",
       "      <td>-0.016372</td>\n",
       "      <td>0.077486</td>\n",
       "      <td>0.106165</td>\n",
       "      <td>0.057286</td>\n",
       "      <td>0.025596</td>\n",
       "      <td>-0.413669</td>\n",
       "      <td>0.122669</td>\n",
       "    </tr>\n",
       "    <tr>\n",
       "      <th>ACH-002319</th>\n",
       "      <td>-0.190388</td>\n",
       "      <td>0.384106</td>\n",
       "      <td>-0.120700</td>\n",
       "      <td>-0.237251</td>\n",
       "      <td>0.060267</td>\n",
       "      <td>-0.338946</td>\n",
       "      <td>-0.057551</td>\n",
       "      <td>0.134511</td>\n",
       "      <td>NaN</td>\n",
       "      <td>0.144463</td>\n",
       "      <td>...</td>\n",
       "      <td>0.209009</td>\n",
       "      <td>-0.156839</td>\n",
       "      <td>-0.155837</td>\n",
       "      <td>-0.001141</td>\n",
       "      <td>NaN</td>\n",
       "      <td>0.227968</td>\n",
       "      <td>0.028095</td>\n",
       "      <td>-0.080611</td>\n",
       "      <td>-1.849696</td>\n",
       "      <td>-0.078856</td>\n",
       "    </tr>\n",
       "    <tr>\n",
       "      <th>ACH-001827</th>\n",
       "      <td>0.907063</td>\n",
       "      <td>0.403192</td>\n",
       "      <td>0.004394</td>\n",
       "      <td>-0.017059</td>\n",
       "      <td>-0.094749</td>\n",
       "      <td>-0.328074</td>\n",
       "      <td>-0.089573</td>\n",
       "      <td>0.362029</td>\n",
       "      <td>NaN</td>\n",
       "      <td>-0.098161</td>\n",
       "      <td>...</td>\n",
       "      <td>-0.137465</td>\n",
       "      <td>-1.037848</td>\n",
       "      <td>-0.261262</td>\n",
       "      <td>-0.228016</td>\n",
       "      <td>NaN</td>\n",
       "      <td>0.088744</td>\n",
       "      <td>0.159467</td>\n",
       "      <td>0.014071</td>\n",
       "      <td>-0.414154</td>\n",
       "      <td>0.032661</td>\n",
       "    </tr>\n",
       "  </tbody>\n",
       "</table>\n",
       "<p>5 rows × 17309 columns</p>\n",
       "</div>"
      ],
      "text/plain": [
       "                A1BG      NAT2       ADA      CDH2      AKT3      MED6  \\\n",
       "DepMap_ID                                                                \n",
       "ACH-001270       NaN       NaN       NaN -0.194962 -0.256108 -0.174220   \n",
       "ACH-001000       NaN       NaN       NaN -0.028171  0.100751 -0.456124   \n",
       "ACH-001001  0.146042  0.102854  0.168839  0.063047 -0.008077 -0.214376   \n",
       "ACH-002319 -0.190388  0.384106 -0.120700 -0.237251  0.060267 -0.338946   \n",
       "ACH-001827  0.907063  0.403192  0.004394 -0.017059 -0.094749 -0.328074   \n",
       "\n",
       "               NR2E3   NAALAD2      DUXB   PDZK1P1  ...      RCE1   HNRNPDL  \\\n",
       "DepMap_ID                                           ...                       \n",
       "ACH-001270 -0.140052       NaN       NaN       NaN  ... -0.201644 -0.363670   \n",
       "ACH-001000 -0.174618       NaN       NaN       NaN  ...  0.074889  0.152158   \n",
       "ACH-001001 -0.153619  0.133830  0.138673  0.030345  ...  0.006735 -0.033385   \n",
       "ACH-002319 -0.057551  0.134511       NaN  0.144463  ...  0.209009 -0.156839   \n",
       "ACH-001827 -0.089573  0.362029       NaN -0.098161  ... -0.137465 -1.037848   \n",
       "\n",
       "               DMTF1    PPP4R1      CDH1   SLC12A6     KCNE2     DGCR2  \\\n",
       "DepMap_ID                                                                \n",
       "ACH-001270  0.184260 -0.115616 -0.125958       NaN  0.088853       NaN   \n",
       "ACH-001000  0.036011  0.117300  0.101725       NaN -0.110628       NaN   \n",
       "ACH-001001  0.197651 -0.016372  0.077486  0.106165  0.057286  0.025596   \n",
       "ACH-002319 -0.155837 -0.001141       NaN  0.227968  0.028095 -0.080611   \n",
       "ACH-001827 -0.261262 -0.228016       NaN  0.088744  0.159467  0.014071   \n",
       "\n",
       "            CASP8AP2      SCO2  \n",
       "DepMap_ID                       \n",
       "ACH-001270 -0.843295       NaN  \n",
       "ACH-001000 -0.307031       NaN  \n",
       "ACH-001001 -0.413669  0.122669  \n",
       "ACH-002319 -1.849696 -0.078856  \n",
       "ACH-001827 -0.414154  0.032661  \n",
       "\n",
       "[5 rows x 17309 columns]"
      ]
     },
     "execution_count": 6,
     "metadata": {},
     "output_type": "execute_result"
    }
   ],
   "source": [
    "rnai_df.head()"
   ]
  },
  {
   "cell_type": "code",
   "execution_count": 7,
   "metadata": {},
   "outputs": [
    {
     "name": "stderr",
     "output_type": "stream",
     "text": [
      "INFO: [2020-03-02 16:37:26] numexpr.utils - Note: NumExpr detected 12 cores but \"NUMEXPR_MAX_THREADS\" not set, so enforcing safe limit of 8.\n",
      "INFO: [2020-03-02 16:37:26] numexpr.utils - NumExpr defaulting to 8 threads.\n"
     ]
    }
   ],
   "source": [
    "recalculate = False\n",
    "filename = 'rnai_correlations'\n",
    "filepath = join(basedir, filename)\n",
    "if recalculate:\n",
    "    %time rnai_corr = rnai_df.corr()\n",
    "    rnai_corr.to_hdf('%s.h5' % filepath, filename)\n",
    "else:\n",
    "    rnai_corr = pd.read_hdf('%s.h5' % filepath)"
   ]
  },
  {
   "cell_type": "code",
   "execution_count": 8,
   "metadata": {},
   "outputs": [],
   "source": [
    "rnai_mean = rnai_corr.values.mean()\n",
    "rnai_sd = rnai_corr.values.std()\n",
    "rnai_z = (rnai_corr - rnai_mean) / rnai_sd"
   ]
  },
  {
   "cell_type": "code",
   "execution_count": 9,
   "metadata": {},
   "outputs": [
    {
     "data": {
      "text/html": [
       "<div>\n",
       "<style scoped>\n",
       "    .dataframe tbody tr th:only-of-type {\n",
       "        vertical-align: middle;\n",
       "    }\n",
       "\n",
       "    .dataframe tbody tr th {\n",
       "        vertical-align: top;\n",
       "    }\n",
       "\n",
       "    .dataframe thead th {\n",
       "        text-align: right;\n",
       "    }\n",
       "</style>\n",
       "<table border=\"1\" class=\"dataframe\">\n",
       "  <thead>\n",
       "    <tr style=\"text-align: right;\">\n",
       "      <th></th>\n",
       "      <th>A1BG</th>\n",
       "      <th>NAT2</th>\n",
       "      <th>ADA</th>\n",
       "      <th>CDH2</th>\n",
       "      <th>AKT3</th>\n",
       "      <th>MED6</th>\n",
       "      <th>NR2E3</th>\n",
       "      <th>NAALAD2</th>\n",
       "      <th>DUXB</th>\n",
       "      <th>PDZK1P1</th>\n",
       "      <th>...</th>\n",
       "      <th>RCE1</th>\n",
       "      <th>HNRNPDL</th>\n",
       "      <th>DMTF1</th>\n",
       "      <th>PPP4R1</th>\n",
       "      <th>CDH1</th>\n",
       "      <th>SLC12A6</th>\n",
       "      <th>KCNE2</th>\n",
       "      <th>DGCR2</th>\n",
       "      <th>CASP8AP2</th>\n",
       "      <th>SCO2</th>\n",
       "    </tr>\n",
       "  </thead>\n",
       "  <tbody>\n",
       "    <tr>\n",
       "      <th>A1BG</th>\n",
       "      <td>12.735562</td>\n",
       "      <td>-0.770498</td>\n",
       "      <td>-0.828444</td>\n",
       "      <td>0.593730</td>\n",
       "      <td>-0.334519</td>\n",
       "      <td>-0.076705</td>\n",
       "      <td>1.054949</td>\n",
       "      <td>0.591804</td>\n",
       "      <td>0.385034</td>\n",
       "      <td>-0.120219</td>\n",
       "      <td>...</td>\n",
       "      <td>1.446480</td>\n",
       "      <td>-1.964996</td>\n",
       "      <td>-0.403560</td>\n",
       "      <td>0.402625</td>\n",
       "      <td>-0.396057</td>\n",
       "      <td>0.131028</td>\n",
       "      <td>0.227373</td>\n",
       "      <td>-0.701314</td>\n",
       "      <td>0.218191</td>\n",
       "      <td>1.198913</td>\n",
       "    </tr>\n",
       "    <tr>\n",
       "      <th>NAT2</th>\n",
       "      <td>-0.770498</td>\n",
       "      <td>12.735562</td>\n",
       "      <td>0.572062</td>\n",
       "      <td>-0.052426</td>\n",
       "      <td>-0.528069</td>\n",
       "      <td>0.307443</td>\n",
       "      <td>-0.021474</td>\n",
       "      <td>-0.590996</td>\n",
       "      <td>-0.318764</td>\n",
       "      <td>-1.449979</td>\n",
       "      <td>...</td>\n",
       "      <td>0.371740</td>\n",
       "      <td>-0.754718</td>\n",
       "      <td>0.017751</td>\n",
       "      <td>0.024919</td>\n",
       "      <td>-2.128375</td>\n",
       "      <td>-0.190518</td>\n",
       "      <td>0.608389</td>\n",
       "      <td>-0.842078</td>\n",
       "      <td>-1.303389</td>\n",
       "      <td>-0.503340</td>\n",
       "    </tr>\n",
       "    <tr>\n",
       "      <th>ADA</th>\n",
       "      <td>-0.828444</td>\n",
       "      <td>0.572062</td>\n",
       "      <td>12.735562</td>\n",
       "      <td>-0.451619</td>\n",
       "      <td>-0.577117</td>\n",
       "      <td>0.422290</td>\n",
       "      <td>-0.188984</td>\n",
       "      <td>-0.570248</td>\n",
       "      <td>-0.078767</td>\n",
       "      <td>0.119471</td>\n",
       "      <td>...</td>\n",
       "      <td>0.475397</td>\n",
       "      <td>0.045575</td>\n",
       "      <td>0.639884</td>\n",
       "      <td>0.858577</td>\n",
       "      <td>-0.315503</td>\n",
       "      <td>-0.353140</td>\n",
       "      <td>-0.704099</td>\n",
       "      <td>1.271989</td>\n",
       "      <td>0.150168</td>\n",
       "      <td>-0.217580</td>\n",
       "    </tr>\n",
       "    <tr>\n",
       "      <th>CDH2</th>\n",
       "      <td>0.593730</td>\n",
       "      <td>-0.052426</td>\n",
       "      <td>-0.451619</td>\n",
       "      <td>12.735562</td>\n",
       "      <td>0.565031</td>\n",
       "      <td>-0.946426</td>\n",
       "      <td>-0.135411</td>\n",
       "      <td>0.118138</td>\n",
       "      <td>0.201983</td>\n",
       "      <td>-0.383189</td>\n",
       "      <td>...</td>\n",
       "      <td>-0.570892</td>\n",
       "      <td>-1.780034</td>\n",
       "      <td>1.163082</td>\n",
       "      <td>-1.070628</td>\n",
       "      <td>-0.127555</td>\n",
       "      <td>-0.228329</td>\n",
       "      <td>0.010906</td>\n",
       "      <td>-1.423871</td>\n",
       "      <td>-1.132664</td>\n",
       "      <td>-0.382607</td>\n",
       "    </tr>\n",
       "    <tr>\n",
       "      <th>AKT3</th>\n",
       "      <td>-0.334519</td>\n",
       "      <td>-0.528069</td>\n",
       "      <td>-0.577117</td>\n",
       "      <td>0.565031</td>\n",
       "      <td>12.735562</td>\n",
       "      <td>-0.378659</td>\n",
       "      <td>-1.136175</td>\n",
       "      <td>0.590426</td>\n",
       "      <td>0.837794</td>\n",
       "      <td>-0.574912</td>\n",
       "      <td>...</td>\n",
       "      <td>-1.262663</td>\n",
       "      <td>0.259384</td>\n",
       "      <td>0.443690</td>\n",
       "      <td>-0.919940</td>\n",
       "      <td>0.283450</td>\n",
       "      <td>-1.192266</td>\n",
       "      <td>-0.581840</td>\n",
       "      <td>-1.243842</td>\n",
       "      <td>-0.184748</td>\n",
       "      <td>-0.345918</td>\n",
       "    </tr>\n",
       "  </tbody>\n",
       "</table>\n",
       "<p>5 rows × 17309 columns</p>\n",
       "</div>"
      ],
      "text/plain": [
       "           A1BG       NAT2        ADA       CDH2       AKT3      MED6  \\\n",
       "A1BG  12.735562  -0.770498  -0.828444   0.593730  -0.334519 -0.076705   \n",
       "NAT2  -0.770498  12.735562   0.572062  -0.052426  -0.528069  0.307443   \n",
       "ADA   -0.828444   0.572062  12.735562  -0.451619  -0.577117  0.422290   \n",
       "CDH2   0.593730  -0.052426  -0.451619  12.735562   0.565031 -0.946426   \n",
       "AKT3  -0.334519  -0.528069  -0.577117   0.565031  12.735562 -0.378659   \n",
       "\n",
       "         NR2E3   NAALAD2      DUXB   PDZK1P1  ...      RCE1   HNRNPDL  \\\n",
       "A1BG  1.054949  0.591804  0.385034 -0.120219  ...  1.446480 -1.964996   \n",
       "NAT2 -0.021474 -0.590996 -0.318764 -1.449979  ...  0.371740 -0.754718   \n",
       "ADA  -0.188984 -0.570248 -0.078767  0.119471  ...  0.475397  0.045575   \n",
       "CDH2 -0.135411  0.118138  0.201983 -0.383189  ... -0.570892 -1.780034   \n",
       "AKT3 -1.136175  0.590426  0.837794 -0.574912  ... -1.262663  0.259384   \n",
       "\n",
       "         DMTF1    PPP4R1      CDH1   SLC12A6     KCNE2     DGCR2  CASP8AP2  \\\n",
       "A1BG -0.403560  0.402625 -0.396057  0.131028  0.227373 -0.701314  0.218191   \n",
       "NAT2  0.017751  0.024919 -2.128375 -0.190518  0.608389 -0.842078 -1.303389   \n",
       "ADA   0.639884  0.858577 -0.315503 -0.353140 -0.704099  1.271989  0.150168   \n",
       "CDH2  1.163082 -1.070628 -0.127555 -0.228329  0.010906 -1.423871 -1.132664   \n",
       "AKT3  0.443690 -0.919940  0.283450 -1.192266 -0.581840 -1.243842 -0.184748   \n",
       "\n",
       "          SCO2  \n",
       "A1BG  1.198913  \n",
       "NAT2 -0.503340  \n",
       "ADA  -0.217580  \n",
       "CDH2 -0.382607  \n",
       "AKT3 -0.345918  \n",
       "\n",
       "[5 rows x 17309 columns]"
      ]
     },
     "execution_count": 9,
     "metadata": {},
     "output_type": "execute_result"
    }
   ],
   "source": [
    "rnai_z.head()"
   ]
  },
  {
   "cell_type": "markdown",
   "metadata": {},
   "source": [
    "### CRISPR Data\n",
    "\n",
    "Load CRISPR dependency data and normalize column names to gene names."
   ]
  },
  {
   "cell_type": "code",
   "execution_count": 10,
   "metadata": {},
   "outputs": [
    {
     "name": "stdout",
     "output_type": "stream",
     "text": [
      "CPU times: user 8.36 s, sys: 156 ms, total: 8.51 s\n",
      "Wall time: 8.51 s\n"
     ]
    }
   ],
   "source": [
    "%time crispr_df = pd.read_csv(join(basedir, 'Achilles_gene_effect.csv'), index_col=0)\n",
    "gene_cols = ['%s' % col.split(' ')[0] for col in crispr_df.columns]\n",
    "crispr_df.columns = gene_cols\n",
    "# Drop any duplicate columns (shouldn't be any for CRISPR, but just in case)\n",
    "crispr_df = crispr_df.loc[:,~crispr_df.columns.duplicated()]"
   ]
  },
  {
   "cell_type": "code",
   "execution_count": 11,
   "metadata": {},
   "outputs": [
    {
     "data": {
      "text/html": [
       "<div>\n",
       "<style scoped>\n",
       "    .dataframe tbody tr th:only-of-type {\n",
       "        vertical-align: middle;\n",
       "    }\n",
       "\n",
       "    .dataframe tbody tr th {\n",
       "        vertical-align: top;\n",
       "    }\n",
       "\n",
       "    .dataframe thead th {\n",
       "        text-align: right;\n",
       "    }\n",
       "</style>\n",
       "<table border=\"1\" class=\"dataframe\">\n",
       "  <thead>\n",
       "    <tr style=\"text-align: right;\">\n",
       "      <th></th>\n",
       "      <th>A1BG</th>\n",
       "      <th>A1CF</th>\n",
       "      <th>A2M</th>\n",
       "      <th>A2ML1</th>\n",
       "      <th>A3GALT2</th>\n",
       "      <th>A4GALT</th>\n",
       "      <th>A4GNT</th>\n",
       "      <th>AAAS</th>\n",
       "      <th>AACS</th>\n",
       "      <th>AADAC</th>\n",
       "      <th>...</th>\n",
       "      <th>ZWILCH</th>\n",
       "      <th>ZWINT</th>\n",
       "      <th>ZXDA</th>\n",
       "      <th>ZXDB</th>\n",
       "      <th>ZXDC</th>\n",
       "      <th>ZYG11A</th>\n",
       "      <th>ZYG11B</th>\n",
       "      <th>ZYX</th>\n",
       "      <th>ZZEF1</th>\n",
       "      <th>ZZZ3</th>\n",
       "    </tr>\n",
       "  </thead>\n",
       "  <tbody>\n",
       "    <tr>\n",
       "      <th>ACH-000004</th>\n",
       "      <td>0.175458</td>\n",
       "      <td>0.088569</td>\n",
       "      <td>-0.200480</td>\n",
       "      <td>-0.011510</td>\n",
       "      <td>0.038665</td>\n",
       "      <td>-0.179569</td>\n",
       "      <td>0.346621</td>\n",
       "      <td>-0.436619</td>\n",
       "      <td>0.296611</td>\n",
       "      <td>0.156186</td>\n",
       "      <td>...</td>\n",
       "      <td>-0.128622</td>\n",
       "      <td>-0.465613</td>\n",
       "      <td>NaN</td>\n",
       "      <td>NaN</td>\n",
       "      <td>0.256600</td>\n",
       "      <td>0.233192</td>\n",
       "      <td>-0.407076</td>\n",
       "      <td>0.290238</td>\n",
       "      <td>0.231701</td>\n",
       "      <td>-0.131914</td>\n",
       "    </tr>\n",
       "    <tr>\n",
       "      <th>ACH-000005</th>\n",
       "      <td>-0.075851</td>\n",
       "      <td>0.238834</td>\n",
       "      <td>0.186692</td>\n",
       "      <td>0.173939</td>\n",
       "      <td>-0.195703</td>\n",
       "      <td>-0.334521</td>\n",
       "      <td>0.261907</td>\n",
       "      <td>-0.565825</td>\n",
       "      <td>-0.069894</td>\n",
       "      <td>0.017819</td>\n",
       "      <td>...</td>\n",
       "      <td>-0.188845</td>\n",
       "      <td>-0.407702</td>\n",
       "      <td>-0.167827</td>\n",
       "      <td>-0.105463</td>\n",
       "      <td>0.201881</td>\n",
       "      <td>-0.087856</td>\n",
       "      <td>-0.087936</td>\n",
       "      <td>0.051749</td>\n",
       "      <td>0.017164</td>\n",
       "      <td>-0.237130</td>\n",
       "    </tr>\n",
       "    <tr>\n",
       "      <th>ACH-000007</th>\n",
       "      <td>0.065688</td>\n",
       "      <td>0.081300</td>\n",
       "      <td>-0.062100</td>\n",
       "      <td>0.156060</td>\n",
       "      <td>0.090242</td>\n",
       "      <td>0.151455</td>\n",
       "      <td>0.058420</td>\n",
       "      <td>-0.465499</td>\n",
       "      <td>-0.011669</td>\n",
       "      <td>0.285222</td>\n",
       "      <td>...</td>\n",
       "      <td>-0.101191</td>\n",
       "      <td>-0.277256</td>\n",
       "      <td>-0.041516</td>\n",
       "      <td>0.115520</td>\n",
       "      <td>0.216589</td>\n",
       "      <td>-0.013638</td>\n",
       "      <td>-0.346116</td>\n",
       "      <td>0.081862</td>\n",
       "      <td>-0.398021</td>\n",
       "      <td>-0.437610</td>\n",
       "    </tr>\n",
       "    <tr>\n",
       "      <th>ACH-000009</th>\n",
       "      <td>0.069153</td>\n",
       "      <td>-0.010769</td>\n",
       "      <td>-0.055937</td>\n",
       "      <td>0.065006</td>\n",
       "      <td>0.033323</td>\n",
       "      <td>0.041139</td>\n",
       "      <td>0.016064</td>\n",
       "      <td>-0.628483</td>\n",
       "      <td>0.167551</td>\n",
       "      <td>0.037239</td>\n",
       "      <td>...</td>\n",
       "      <td>-0.348522</td>\n",
       "      <td>-0.286323</td>\n",
       "      <td>-0.031556</td>\n",
       "      <td>0.116820</td>\n",
       "      <td>0.115633</td>\n",
       "      <td>0.039425</td>\n",
       "      <td>-0.582022</td>\n",
       "      <td>0.235893</td>\n",
       "      <td>-0.114144</td>\n",
       "      <td>-0.552371</td>\n",
       "    </tr>\n",
       "    <tr>\n",
       "      <th>ACH-000011</th>\n",
       "      <td>0.283072</td>\n",
       "      <td>0.079233</td>\n",
       "      <td>0.004812</td>\n",
       "      <td>0.435606</td>\n",
       "      <td>-0.036532</td>\n",
       "      <td>-0.256236</td>\n",
       "      <td>0.104737</td>\n",
       "      <td>-0.426808</td>\n",
       "      <td>0.133284</td>\n",
       "      <td>0.110128</td>\n",
       "      <td>...</td>\n",
       "      <td>-0.420476</td>\n",
       "      <td>-0.512808</td>\n",
       "      <td>-0.137283</td>\n",
       "      <td>-0.134316</td>\n",
       "      <td>0.271370</td>\n",
       "      <td>0.151674</td>\n",
       "      <td>-0.236025</td>\n",
       "      <td>0.115031</td>\n",
       "      <td>-0.260451</td>\n",
       "      <td>-0.396218</td>\n",
       "    </tr>\n",
       "  </tbody>\n",
       "</table>\n",
       "<p>5 rows × 18333 columns</p>\n",
       "</div>"
      ],
      "text/plain": [
       "                A1BG      A1CF       A2M     A2ML1   A3GALT2    A4GALT  \\\n",
       "ACH-000004  0.175458  0.088569 -0.200480 -0.011510  0.038665 -0.179569   \n",
       "ACH-000005 -0.075851  0.238834  0.186692  0.173939 -0.195703 -0.334521   \n",
       "ACH-000007  0.065688  0.081300 -0.062100  0.156060  0.090242  0.151455   \n",
       "ACH-000009  0.069153 -0.010769 -0.055937  0.065006  0.033323  0.041139   \n",
       "ACH-000011  0.283072  0.079233  0.004812  0.435606 -0.036532 -0.256236   \n",
       "\n",
       "               A4GNT      AAAS      AACS     AADAC  ...    ZWILCH     ZWINT  \\\n",
       "ACH-000004  0.346621 -0.436619  0.296611  0.156186  ... -0.128622 -0.465613   \n",
       "ACH-000005  0.261907 -0.565825 -0.069894  0.017819  ... -0.188845 -0.407702   \n",
       "ACH-000007  0.058420 -0.465499 -0.011669  0.285222  ... -0.101191 -0.277256   \n",
       "ACH-000009  0.016064 -0.628483  0.167551  0.037239  ... -0.348522 -0.286323   \n",
       "ACH-000011  0.104737 -0.426808  0.133284  0.110128  ... -0.420476 -0.512808   \n",
       "\n",
       "                ZXDA      ZXDB      ZXDC    ZYG11A    ZYG11B       ZYX  \\\n",
       "ACH-000004       NaN       NaN  0.256600  0.233192 -0.407076  0.290238   \n",
       "ACH-000005 -0.167827 -0.105463  0.201881 -0.087856 -0.087936  0.051749   \n",
       "ACH-000007 -0.041516  0.115520  0.216589 -0.013638 -0.346116  0.081862   \n",
       "ACH-000009 -0.031556  0.116820  0.115633  0.039425 -0.582022  0.235893   \n",
       "ACH-000011 -0.137283 -0.134316  0.271370  0.151674 -0.236025  0.115031   \n",
       "\n",
       "               ZZEF1      ZZZ3  \n",
       "ACH-000004  0.231701 -0.131914  \n",
       "ACH-000005  0.017164 -0.237130  \n",
       "ACH-000007 -0.398021 -0.437610  \n",
       "ACH-000009 -0.114144 -0.552371  \n",
       "ACH-000011 -0.260451 -0.396218  \n",
       "\n",
       "[5 rows x 18333 columns]"
      ]
     },
     "execution_count": 11,
     "metadata": {},
     "output_type": "execute_result"
    }
   ],
   "source": [
    "crispr_df.head()"
   ]
  },
  {
   "cell_type": "code",
   "execution_count": 12,
   "metadata": {},
   "outputs": [],
   "source": [
    "# Filter out this problematic outlier stomach cell line\n",
    "crispr_df = crispr_df[crispr_df.index != 'ACH-000167']"
   ]
  },
  {
   "cell_type": "code",
   "execution_count": 13,
   "metadata": {},
   "outputs": [],
   "source": [
    "recalculate = False\n",
    "filename = 'crispr_correlations'\n",
    "filepath = join(basedir, filename)\n",
    "if recalculate:\n",
    "    %time crispr_corr = crispr_df.corr()\n",
    "    crispr_corr.to_hdf('%s.h5' % filepath, filename)\n",
    "else:\n",
    "    crispr_corr = pd.read_hdf('%s.h5' % filepath)    "
   ]
  },
  {
   "cell_type": "code",
   "execution_count": 14,
   "metadata": {},
   "outputs": [],
   "source": [
    "crispr_mean = crispr_corr.values.mean()\n",
    "crispr_sd = crispr_corr.values.std()\n",
    "crispr_z = (crispr_corr - crispr_mean) / crispr_sd"
   ]
  },
  {
   "cell_type": "code",
   "execution_count": 15,
   "metadata": {},
   "outputs": [
    {
     "data": {
      "text/html": [
       "<div>\n",
       "<style scoped>\n",
       "    .dataframe tbody tr th:only-of-type {\n",
       "        vertical-align: middle;\n",
       "    }\n",
       "\n",
       "    .dataframe tbody tr th {\n",
       "        vertical-align: top;\n",
       "    }\n",
       "\n",
       "    .dataframe thead th {\n",
       "        text-align: right;\n",
       "    }\n",
       "</style>\n",
       "<table border=\"1\" class=\"dataframe\">\n",
       "  <thead>\n",
       "    <tr style=\"text-align: right;\">\n",
       "      <th></th>\n",
       "      <th>A1BG</th>\n",
       "      <th>A1CF</th>\n",
       "      <th>A2M</th>\n",
       "      <th>A2ML1</th>\n",
       "      <th>A3GALT2</th>\n",
       "      <th>A4GALT</th>\n",
       "      <th>A4GNT</th>\n",
       "      <th>AAAS</th>\n",
       "      <th>AACS</th>\n",
       "      <th>AADAC</th>\n",
       "      <th>...</th>\n",
       "      <th>ZWILCH</th>\n",
       "      <th>ZWINT</th>\n",
       "      <th>ZXDA</th>\n",
       "      <th>ZXDB</th>\n",
       "      <th>ZXDC</th>\n",
       "      <th>ZYG11A</th>\n",
       "      <th>ZYG11B</th>\n",
       "      <th>ZYX</th>\n",
       "      <th>ZZEF1</th>\n",
       "      <th>ZZZ3</th>\n",
       "    </tr>\n",
       "  </thead>\n",
       "  <tbody>\n",
       "    <tr>\n",
       "      <th>A1BG</th>\n",
       "      <td>17.386862</td>\n",
       "      <td>-1.611587</td>\n",
       "      <td>1.537125</td>\n",
       "      <td>-0.371831</td>\n",
       "      <td>0.675404</td>\n",
       "      <td>0.806532</td>\n",
       "      <td>0.890930</td>\n",
       "      <td>0.124887</td>\n",
       "      <td>-0.152094</td>\n",
       "      <td>-0.049661</td>\n",
       "      <td>...</td>\n",
       "      <td>1.150722</td>\n",
       "      <td>-0.278224</td>\n",
       "      <td>-1.351132</td>\n",
       "      <td>-1.195514</td>\n",
       "      <td>-1.391803</td>\n",
       "      <td>1.249488</td>\n",
       "      <td>0.637170</td>\n",
       "      <td>0.760998</td>\n",
       "      <td>1.000422</td>\n",
       "      <td>-0.208967</td>\n",
       "    </tr>\n",
       "    <tr>\n",
       "      <th>A1CF</th>\n",
       "      <td>-1.611587</td>\n",
       "      <td>17.386862</td>\n",
       "      <td>0.099918</td>\n",
       "      <td>0.225800</td>\n",
       "      <td>-0.363240</td>\n",
       "      <td>-1.978543</td>\n",
       "      <td>0.421315</td>\n",
       "      <td>0.866758</td>\n",
       "      <td>-1.473701</td>\n",
       "      <td>0.300807</td>\n",
       "      <td>...</td>\n",
       "      <td>-1.926029</td>\n",
       "      <td>0.092970</td>\n",
       "      <td>1.292896</td>\n",
       "      <td>1.145430</td>\n",
       "      <td>-0.848040</td>\n",
       "      <td>-0.442390</td>\n",
       "      <td>0.865043</td>\n",
       "      <td>-0.507596</td>\n",
       "      <td>0.409119</td>\n",
       "      <td>0.493634</td>\n",
       "    </tr>\n",
       "    <tr>\n",
       "      <th>A2M</th>\n",
       "      <td>1.537125</td>\n",
       "      <td>0.099918</td>\n",
       "      <td>17.386862</td>\n",
       "      <td>2.444142</td>\n",
       "      <td>0.023278</td>\n",
       "      <td>-1.717658</td>\n",
       "      <td>-0.335334</td>\n",
       "      <td>-0.741835</td>\n",
       "      <td>-0.101217</td>\n",
       "      <td>0.648739</td>\n",
       "      <td>...</td>\n",
       "      <td>0.088884</td>\n",
       "      <td>-0.446254</td>\n",
       "      <td>-1.323501</td>\n",
       "      <td>-1.367175</td>\n",
       "      <td>0.400456</td>\n",
       "      <td>0.013602</td>\n",
       "      <td>-0.161717</td>\n",
       "      <td>-0.211830</td>\n",
       "      <td>0.418842</td>\n",
       "      <td>-0.481444</td>\n",
       "    </tr>\n",
       "    <tr>\n",
       "      <th>A2ML1</th>\n",
       "      <td>-0.371831</td>\n",
       "      <td>0.225800</td>\n",
       "      <td>2.444142</td>\n",
       "      <td>17.386862</td>\n",
       "      <td>-1.082400</td>\n",
       "      <td>-0.971954</td>\n",
       "      <td>-0.984631</td>\n",
       "      <td>-0.943763</td>\n",
       "      <td>0.013231</td>\n",
       "      <td>-0.499638</td>\n",
       "      <td>...</td>\n",
       "      <td>-2.781609</td>\n",
       "      <td>-1.725450</td>\n",
       "      <td>-0.892022</td>\n",
       "      <td>-0.042109</td>\n",
       "      <td>-0.323282</td>\n",
       "      <td>0.617690</td>\n",
       "      <td>0.072703</td>\n",
       "      <td>0.551272</td>\n",
       "      <td>-1.075228</td>\n",
       "      <td>-0.862648</td>\n",
       "    </tr>\n",
       "    <tr>\n",
       "      <th>A3GALT2</th>\n",
       "      <td>0.675404</td>\n",
       "      <td>-0.363240</td>\n",
       "      <td>0.023278</td>\n",
       "      <td>-1.082400</td>\n",
       "      <td>17.386862</td>\n",
       "      <td>-0.618235</td>\n",
       "      <td>-0.302641</td>\n",
       "      <td>-0.979399</td>\n",
       "      <td>-0.773458</td>\n",
       "      <td>0.995580</td>\n",
       "      <td>...</td>\n",
       "      <td>-0.174611</td>\n",
       "      <td>0.046370</td>\n",
       "      <td>-0.499677</td>\n",
       "      <td>-0.671568</td>\n",
       "      <td>-2.302793</td>\n",
       "      <td>0.412390</td>\n",
       "      <td>0.910653</td>\n",
       "      <td>0.249479</td>\n",
       "      <td>-0.454204</td>\n",
       "      <td>0.439872</td>\n",
       "    </tr>\n",
       "  </tbody>\n",
       "</table>\n",
       "<p>5 rows × 18333 columns</p>\n",
       "</div>"
      ],
      "text/plain": [
       "              A1BG       A1CF        A2M      A2ML1    A3GALT2    A4GALT  \\\n",
       "A1BG     17.386862  -1.611587   1.537125  -0.371831   0.675404  0.806532   \n",
       "A1CF     -1.611587  17.386862   0.099918   0.225800  -0.363240 -1.978543   \n",
       "A2M       1.537125   0.099918  17.386862   2.444142   0.023278 -1.717658   \n",
       "A2ML1    -0.371831   0.225800   2.444142  17.386862  -1.082400 -0.971954   \n",
       "A3GALT2   0.675404  -0.363240   0.023278  -1.082400  17.386862 -0.618235   \n",
       "\n",
       "            A4GNT      AAAS      AACS     AADAC  ...    ZWILCH     ZWINT  \\\n",
       "A1BG     0.890930  0.124887 -0.152094 -0.049661  ...  1.150722 -0.278224   \n",
       "A1CF     0.421315  0.866758 -1.473701  0.300807  ... -1.926029  0.092970   \n",
       "A2M     -0.335334 -0.741835 -0.101217  0.648739  ...  0.088884 -0.446254   \n",
       "A2ML1   -0.984631 -0.943763  0.013231 -0.499638  ... -2.781609 -1.725450   \n",
       "A3GALT2 -0.302641 -0.979399 -0.773458  0.995580  ... -0.174611  0.046370   \n",
       "\n",
       "             ZXDA      ZXDB      ZXDC    ZYG11A    ZYG11B       ZYX     ZZEF1  \\\n",
       "A1BG    -1.351132 -1.195514 -1.391803  1.249488  0.637170  0.760998  1.000422   \n",
       "A1CF     1.292896  1.145430 -0.848040 -0.442390  0.865043 -0.507596  0.409119   \n",
       "A2M     -1.323501 -1.367175  0.400456  0.013602 -0.161717 -0.211830  0.418842   \n",
       "A2ML1   -0.892022 -0.042109 -0.323282  0.617690  0.072703  0.551272 -1.075228   \n",
       "A3GALT2 -0.499677 -0.671568 -2.302793  0.412390  0.910653  0.249479 -0.454204   \n",
       "\n",
       "             ZZZ3  \n",
       "A1BG    -0.208967  \n",
       "A1CF     0.493634  \n",
       "A2M     -0.481444  \n",
       "A2ML1   -0.862648  \n",
       "A3GALT2  0.439872  \n",
       "\n",
       "[5 rows x 18333 columns]"
      ]
     },
     "execution_count": 15,
     "metadata": {},
     "output_type": "execute_result"
    }
   ],
   "source": [
    "crispr_z.head()"
   ]
  },
  {
   "cell_type": "markdown",
   "metadata": {},
   "source": [
    "### Combine CRISPR and RNAi Z-scores\n",
    "\n",
    "Take the average of CRISPR and RNAi z-scores and drop missing values (that arise from a gene being knocked down/out in one dataset but not the other)."
   ]
  },
  {
   "cell_type": "code",
   "execution_count": 16,
   "metadata": {},
   "outputs": [],
   "source": [
    "dep_z = (crispr_z + rnai_z) / 2\n",
    "dep_z = dep_z.dropna(axis=0, how='all').dropna(axis=1, how='all')"
   ]
  },
  {
   "cell_type": "code",
   "execution_count": 17,
   "metadata": {},
   "outputs": [
    {
     "data": {
      "text/html": [
       "<div>\n",
       "<style scoped>\n",
       "    .dataframe tbody tr th:only-of-type {\n",
       "        vertical-align: middle;\n",
       "    }\n",
       "\n",
       "    .dataframe tbody tr th {\n",
       "        vertical-align: top;\n",
       "    }\n",
       "\n",
       "    .dataframe thead th {\n",
       "        text-align: right;\n",
       "    }\n",
       "</style>\n",
       "<table border=\"1\" class=\"dataframe\">\n",
       "  <thead>\n",
       "    <tr style=\"text-align: right;\">\n",
       "      <th></th>\n",
       "      <th>A1BG</th>\n",
       "      <th>A1CF</th>\n",
       "      <th>A2M</th>\n",
       "      <th>A2ML1</th>\n",
       "      <th>A4GALT</th>\n",
       "      <th>A4GNT</th>\n",
       "      <th>AAAS</th>\n",
       "      <th>AACS</th>\n",
       "      <th>AADAC</th>\n",
       "      <th>AADACL2</th>\n",
       "      <th>...</th>\n",
       "      <th>ZW10</th>\n",
       "      <th>ZWILCH</th>\n",
       "      <th>ZWINT</th>\n",
       "      <th>ZXDA</th>\n",
       "      <th>ZXDB</th>\n",
       "      <th>ZXDC</th>\n",
       "      <th>ZYG11A</th>\n",
       "      <th>ZYX</th>\n",
       "      <th>ZZEF1</th>\n",
       "      <th>ZZZ3</th>\n",
       "    </tr>\n",
       "  </thead>\n",
       "  <tbody>\n",
       "    <tr>\n",
       "      <th>A1BG</th>\n",
       "      <td>15.061212</td>\n",
       "      <td>-1.254244</td>\n",
       "      <td>0.589411</td>\n",
       "      <td>-0.429601</td>\n",
       "      <td>0.316854</td>\n",
       "      <td>0.517943</td>\n",
       "      <td>0.315727</td>\n",
       "      <td>-0.699488</td>\n",
       "      <td>0.124678</td>\n",
       "      <td>0.254488</td>\n",
       "      <td>...</td>\n",
       "      <td>0.587929</td>\n",
       "      <td>1.345790</td>\n",
       "      <td>-0.566663</td>\n",
       "      <td>-0.613617</td>\n",
       "      <td>-0.837744</td>\n",
       "      <td>-0.840396</td>\n",
       "      <td>0.800496</td>\n",
       "      <td>0.249685</td>\n",
       "      <td>0.385701</td>\n",
       "      <td>-0.358872</td>\n",
       "    </tr>\n",
       "    <tr>\n",
       "      <th>A1CF</th>\n",
       "      <td>-1.254244</td>\n",
       "      <td>15.061212</td>\n",
       "      <td>-0.112276</td>\n",
       "      <td>0.719419</td>\n",
       "      <td>-1.314685</td>\n",
       "      <td>0.446881</td>\n",
       "      <td>0.963925</td>\n",
       "      <td>-0.434793</td>\n",
       "      <td>0.693063</td>\n",
       "      <td>-0.254416</td>\n",
       "      <td>...</td>\n",
       "      <td>0.553517</td>\n",
       "      <td>-1.621843</td>\n",
       "      <td>-0.211439</td>\n",
       "      <td>0.332445</td>\n",
       "      <td>0.737837</td>\n",
       "      <td>-0.155204</td>\n",
       "      <td>0.555388</td>\n",
       "      <td>0.333483</td>\n",
       "      <td>-0.236818</td>\n",
       "      <td>-0.273413</td>\n",
       "    </tr>\n",
       "    <tr>\n",
       "      <th>A2M</th>\n",
       "      <td>0.589411</td>\n",
       "      <td>-0.112276</td>\n",
       "      <td>15.061212</td>\n",
       "      <td>0.441633</td>\n",
       "      <td>-1.252345</td>\n",
       "      <td>0.333756</td>\n",
       "      <td>-0.568171</td>\n",
       "      <td>-0.788586</td>\n",
       "      <td>-0.355503</td>\n",
       "      <td>0.947149</td>\n",
       "      <td>...</td>\n",
       "      <td>0.124226</td>\n",
       "      <td>-0.526018</td>\n",
       "      <td>0.013798</td>\n",
       "      <td>-1.277596</td>\n",
       "      <td>-0.324378</td>\n",
       "      <td>-0.753189</td>\n",
       "      <td>-0.014604</td>\n",
       "      <td>-0.118126</td>\n",
       "      <td>0.180529</td>\n",
       "      <td>-0.994985</td>\n",
       "    </tr>\n",
       "    <tr>\n",
       "      <th>A2ML1</th>\n",
       "      <td>-0.429601</td>\n",
       "      <td>0.719419</td>\n",
       "      <td>0.441633</td>\n",
       "      <td>15.061212</td>\n",
       "      <td>-0.255206</td>\n",
       "      <td>-0.511601</td>\n",
       "      <td>0.024782</td>\n",
       "      <td>0.508125</td>\n",
       "      <td>0.396726</td>\n",
       "      <td>0.442482</td>\n",
       "      <td>...</td>\n",
       "      <td>-0.763110</td>\n",
       "      <td>-1.396749</td>\n",
       "      <td>-0.823833</td>\n",
       "      <td>0.259510</td>\n",
       "      <td>-0.417436</td>\n",
       "      <td>-0.094510</td>\n",
       "      <td>0.222123</td>\n",
       "      <td>-0.091210</td>\n",
       "      <td>-0.920968</td>\n",
       "      <td>-0.957413</td>\n",
       "    </tr>\n",
       "    <tr>\n",
       "      <th>A4GALT</th>\n",
       "      <td>0.316854</td>\n",
       "      <td>-1.314685</td>\n",
       "      <td>-1.252345</td>\n",
       "      <td>-0.255206</td>\n",
       "      <td>15.061212</td>\n",
       "      <td>-0.421909</td>\n",
       "      <td>0.838193</td>\n",
       "      <td>-0.480847</td>\n",
       "      <td>0.326498</td>\n",
       "      <td>1.460646</td>\n",
       "      <td>...</td>\n",
       "      <td>0.198601</td>\n",
       "      <td>0.221719</td>\n",
       "      <td>-0.389450</td>\n",
       "      <td>0.693024</td>\n",
       "      <td>-0.620295</td>\n",
       "      <td>0.569642</td>\n",
       "      <td>0.418810</td>\n",
       "      <td>0.653991</td>\n",
       "      <td>-0.731775</td>\n",
       "      <td>0.211079</td>\n",
       "    </tr>\n",
       "  </tbody>\n",
       "</table>\n",
       "<p>5 rows × 15746 columns</p>\n",
       "</div>"
      ],
      "text/plain": [
       "             A1BG       A1CF        A2M      A2ML1     A4GALT     A4GNT  \\\n",
       "A1BG    15.061212  -1.254244   0.589411  -0.429601   0.316854  0.517943   \n",
       "A1CF    -1.254244  15.061212  -0.112276   0.719419  -1.314685  0.446881   \n",
       "A2M      0.589411  -0.112276  15.061212   0.441633  -1.252345  0.333756   \n",
       "A2ML1   -0.429601   0.719419   0.441633  15.061212  -0.255206 -0.511601   \n",
       "A4GALT   0.316854  -1.314685  -1.252345  -0.255206  15.061212 -0.421909   \n",
       "\n",
       "            AAAS      AACS     AADAC   AADACL2  ...      ZW10    ZWILCH  \\\n",
       "A1BG    0.315727 -0.699488  0.124678  0.254488  ...  0.587929  1.345790   \n",
       "A1CF    0.963925 -0.434793  0.693063 -0.254416  ...  0.553517 -1.621843   \n",
       "A2M    -0.568171 -0.788586 -0.355503  0.947149  ...  0.124226 -0.526018   \n",
       "A2ML1   0.024782  0.508125  0.396726  0.442482  ... -0.763110 -1.396749   \n",
       "A4GALT  0.838193 -0.480847  0.326498  1.460646  ...  0.198601  0.221719   \n",
       "\n",
       "           ZWINT      ZXDA      ZXDB      ZXDC    ZYG11A       ZYX     ZZEF1  \\\n",
       "A1BG   -0.566663 -0.613617 -0.837744 -0.840396  0.800496  0.249685  0.385701   \n",
       "A1CF   -0.211439  0.332445  0.737837 -0.155204  0.555388  0.333483 -0.236818   \n",
       "A2M     0.013798 -1.277596 -0.324378 -0.753189 -0.014604 -0.118126  0.180529   \n",
       "A2ML1  -0.823833  0.259510 -0.417436 -0.094510  0.222123 -0.091210 -0.920968   \n",
       "A4GALT -0.389450  0.693024 -0.620295  0.569642  0.418810  0.653991 -0.731775   \n",
       "\n",
       "            ZZZ3  \n",
       "A1BG   -0.358872  \n",
       "A1CF   -0.273413  \n",
       "A2M    -0.994985  \n",
       "A2ML1  -0.957413  \n",
       "A4GALT  0.211079  \n",
       "\n",
       "[5 rows x 15746 columns]"
      ]
     },
     "execution_count": 17,
     "metadata": {},
     "output_type": "execute_result"
    }
   ],
   "source": [
    "dep_z.head()"
   ]
  },
  {
   "cell_type": "code",
   "execution_count": 18,
   "metadata": {},
   "outputs": [],
   "source": [
    "filename = 'dep_z'\n",
    "filepath = join(basedir, filename)\n",
    "dep_z.to_hdf('%s.h5' % filepath, filename)"
   ]
  },
  {
   "cell_type": "markdown",
   "metadata": {},
   "source": [
    "### Expression Data\n",
    "\n",
    "Load the RNA-seq data (in transcripts per million, obtained from the DepMap website at https://depmap.org/portal/download/). Normalize column names (which include both gene names and Ensemble IDs) to only gene names, and then drop duplicate columns, keeping the first instance of the column for the gene name (there are 87 genes associated with more than one Ensemble ID, and these result in duplicate columns after normalizing to gene names)."
   ]
  },
  {
   "cell_type": "code",
   "execution_count": null,
   "metadata": {},
   "outputs": [],
   "source": [
    "%time ccle_df = pd.read_csv(join(basedir, 'CCLE_expression.csv'), index_col=0)"
   ]
  },
  {
   "cell_type": "code",
   "execution_count": null,
   "metadata": {},
   "outputs": [],
   "source": [
    "gene_cols = ['%s' % col.split(' ')[0] for col in ccle_df.columns]\n",
    "ccle_df.columns = gene_cols\n",
    "# NOTE: This first way doesn't work! Probably because with duplicate column names a\n",
    "# separate integer index is created after transposition (?)\n",
    "#%time ccle_df_drop = ccle_df.T.drop_duplicates(keep='first').T\n",
    "# See: https://stackoverflow.com/questions/14984119/python-pandas-remove-duplicate-columns\n",
    "ccle_df_drop = ccle_df.loc[:,~ccle_df.columns.duplicated()]"
   ]
  },
  {
   "cell_type": "markdown",
   "metadata": {},
   "source": [
    "Filter the expression data to contain only those columns also contained in the CRISPR dependency data (protein coding genes, for the most part)."
   ]
  },
  {
   "cell_type": "code",
   "execution_count": null,
   "metadata": {},
   "outputs": [],
   "source": [
    "crispr_cols = [c for c in crispr_df.columns]\n",
    "# Create a boolean mask to filter the CCLE expression data columns\n",
    "ccle_col_mask = np.array(ccle_df_drop.columns.map(lambda x: x in crispr_cols), dtype=bool)\n",
    "ccle_df_filt = ccle_df_drop[ccle_df_drop.columns[ccle_col_mask]]"
   ]
  },
  {
   "cell_type": "markdown",
   "metadata": {},
   "source": [
    "Join the two datasets on the cell line index:"
   ]
  },
  {
   "cell_type": "code",
   "execution_count": null,
   "metadata": {},
   "outputs": [],
   "source": [
    "crispr_expr_join_df = crispr_df.join(ccle_df_filt, how='left', lsuffix=' KO', rsuffix=' RNA')"
   ]
  },
  {
   "cell_type": "markdown",
   "metadata": {},
   "source": [
    "Calculate the correlations (slow) or reload from HDF5."
   ]
  },
  {
   "cell_type": "code",
   "execution_count": null,
   "metadata": {},
   "outputs": [],
   "source": [
    "recalculate = False\n",
    "filename = 'dep_expr_correlations'\n",
    "filepath = join(basedir, filename)\n",
    "if recalculate:\n",
    "    %time corr = crispr_expr_join_df.corr()\n",
    "    corr.to_hdf('%s.h5' % filepath, filename)\n",
    "else:\n",
    "    corr = pd.read_hdf('%s.h5' % filepath)"
   ]
  },
  {
   "cell_type": "markdown",
   "metadata": {},
   "source": [
    "### Load Drug Data"
   ]
  },
  {
   "cell_type": "code",
   "execution_count": null,
   "metadata": {},
   "outputs": [],
   "source": [
    "drug_resp_df = pd.read_csv(join(basedir, 'primary-screen-replicate-collapsed-logfold-change.csv'), index_col=0)\n",
    "drug_info_df = pd.read_csv(join(basedir, 'primary-screen-replicate-collapsed-treatment-info.csv'), index_col=0)"
   ]
  },
  {
   "cell_type": "markdown",
   "metadata": {},
   "source": [
    "Join drug sensitivity to expression on the cell line index:"
   ]
  },
  {
   "cell_type": "code",
   "execution_count": null,
   "metadata": {},
   "outputs": [],
   "source": [
    "drug_expr_df = drug_resp_df.join(ccle_df_filt, how='left')"
   ]
  },
  {
   "cell_type": "markdown",
   "metadata": {},
   "source": [
    "## Load INDRA DB Directed Graph"
   ]
  },
  {
   "cell_type": "code",
   "execution_count": null,
   "metadata": {},
   "outputs": [],
   "source": [
    "with open(join(basedir, 'indranet_dir_graph_latest.pkl'), 'rb') as f:\n",
    "    indra_dg = pickle.load(f)"
   ]
  },
  {
   "cell_type": "markdown",
   "metadata": {},
   "source": [
    "## Define functions for exploring and visualizing the data"
   ]
  },
  {
   "cell_type": "markdown",
   "metadata": {},
   "source": [
    "Get the sorted list of correlations for a given gene."
   ]
  },
  {
   "cell_type": "code",
   "execution_count": null,
   "metadata": {
    "code_folding": []
   },
   "outputs": [],
   "source": [
    "def sort_corrs(corrs, col_name):\n",
    "    s = corrs[col_name]\n",
    "    return sorted(list(zip(s.index, s)), key=lambda x: abs(float(x[1])), reverse=True)"
   ]
  },
  {
   "cell_type": "markdown",
   "metadata": {},
   "source": [
    "Define a function to get the top correlated genes for a given gene."
   ]
  },
  {
   "cell_type": "code",
   "execution_count": null,
   "metadata": {
    "code_folding": []
   },
   "outputs": [],
   "source": [
    "def get_expr_corrs(df, geneX):\n",
    "    mygene_arr = df[geneX].values\n",
    "    data = df.values\n",
    "    corrs = np.zeros(data.shape[1])\n",
    "    for i in range(data.shape[1]):\n",
    "        vect = data[:,i]\n",
    "        r = np.corrcoef(mygene_arr, vect)[0, 1]\n",
    "        corrs[i] = r\n",
    "    genes = [c for c in df.columns]\n",
    "    corr_genes = sorted(list(zip(genes, corrs)), reverse=True, key=lambda x: abs(x[1]))\n",
    "    corr_genes_dict = {k: v for k, v in corr_genes}\n",
    "    return corr_genes"
   ]
  },
  {
   "cell_type": "code",
   "execution_count": null,
   "metadata": {},
   "outputs": [],
   "source": [
    "def corrs_for_genes(genes, cutoff=3.0):\n",
    "    all_corrs = []\n",
    "    for gene_a in genes:\n",
    "        try:\n",
    "            gene_corrs = sort_corrs(dep_z, gene_a)[1:]\n",
    "        except KeyError:\n",
    "            continue\n",
    "        for gene_b, corr_z in gene_corrs:\n",
    "            if abs(corr_z > cutoff):\n",
    "                all_corrs.append((gene_a, gene_b, corr_z))\n",
    "    return all_corrs"
   ]
  },
  {
   "cell_type": "markdown",
   "metadata": {},
   "source": [
    "Define a function to plot the relationship between the transcription of two genes, along with a linear regression and the residuals."
   ]
  },
  {
   "cell_type": "code",
   "execution_count": null,
   "metadata": {
    "code_folding": [
     0
    ]
   },
   "outputs": [],
   "source": [
    "def scatter(df, geneX, y_arr, y_label, bins=30):\n",
    "    plt.figure(figsize=(12,3))\n",
    "    plt.subplot(1, 3, 1)\n",
    "    plt.plot(df[geneX], y_arr, linestyle='', marker='.')\n",
    "    plt.xlabel('%s TPM' % geneX)\n",
    "    plt.ylabel(y_label)\n",
    "    r = np.corrcoef(df[geneX], y_arr)[0][1]\n",
    "    plt.title('Corr: %.3f' % r)\n",
    "    slope, intercept, r_value, p_value, std_err = \\\n",
    "                    stats.linregress(df[geneX], y_arr)\n",
    "    yhat = slope * df[geneX] + intercept\n",
    "    plt.plot(df[geneX], yhat, color='k')\n",
    "    residuals = y_arr - yhat\n",
    "    plt.subplot(1, 3, 2)\n",
    "    plt.hist(residuals, bins=bins)\n",
    "    plt.title('Residuals')\n",
    "    plt.subplot(1, 3, 3)\n",
    "    stats.probplot(residuals, dist='norm', plot=plt)\n",
    "    plt.title('Quantile-quantile plot vs. normal')\n",
    "    return residuals"
   ]
  },
  {
   "cell_type": "code",
   "execution_count": null,
   "metadata": {},
   "outputs": [],
   "source": [
    "res1 = scatter(ccle_df, 'FOXO3', ccle_df['BAX'], 'AKT1 TPM', bins=20)"
   ]
  },
  {
   "cell_type": "code",
   "execution_count": null,
   "metadata": {},
   "outputs": [],
   "source": [
    "res2 = scatter(ccle_df, 'YAP1', res1, 'Res 1', bins=20)"
   ]
  },
  {
   "cell_type": "markdown",
   "metadata": {},
   "source": [
    "Next steps:\n",
    "1. load the INDRA SIF statement file\n",
    "2. tabulate explanations for correlations;\n",
    "3. predict correlations from graph structure, edge properties"
   ]
  },
  {
   "cell_type": "code",
   "execution_count": null,
   "metadata": {},
   "outputs": [],
   "source": []
  },
  {
   "cell_type": "code",
   "execution_count": null,
   "metadata": {},
   "outputs": [],
   "source": [
    "from indra.util import batch_iter\n"
   ]
  },
  {
   "cell_type": "code",
   "execution_count": null,
   "metadata": {},
   "outputs": [],
   "source": [
    "goi = 'MDM2'\n",
    "res = sort_corrs(dep_z, goi)\n",
    "#for r in res[0:20]:\n",
    "#    print(r)\n",
    "expl_pct = []\n",
    "batch_size = 1000\n",
    "for batch in batch_iter(res, batch_size):\n",
    "    counter = 0\n",
    "    for gene, corr in batch:\n",
    "        if gene in indra_dg[goi]:\n",
    "            counter += 1\n",
    "    pct = 100 * (counter / batch_size)\n",
    "    expl_pct.append(pct)"
   ]
  },
  {
   "cell_type": "code",
   "execution_count": null,
   "metadata": {},
   "outputs": [],
   "source": [
    "plt.bar(range(len(expl_pct)), expl_pct)"
   ]
  },
  {
   "cell_type": "markdown",
   "metadata": {
    "heading_collapsed": true
   },
   "source": [
    "## Load Cosmic Data"
   ]
  },
  {
   "cell_type": "code",
   "execution_count": null,
   "metadata": {
    "hidden": true
   },
   "outputs": [],
   "source": [
    "cos_df = pd.read_csv('data/Census_allThu Jun 13 20_37_30 2019.csv')"
   ]
  },
  {
   "cell_type": "code",
   "execution_count": null,
   "metadata": {
    "hidden": true
   },
   "outputs": [],
   "source": [
    "cos_df.head()"
   ]
  },
  {
   "cell_type": "code",
   "execution_count": null,
   "metadata": {
    "hidden": true
   },
   "outputs": [],
   "source": [
    "cos_corrs = corrs_for_genes(cos_df['Gene Symbol'])"
   ]
  },
  {
   "cell_type": "markdown",
   "metadata": {
    "heading_collapsed": true
   },
   "source": [
    "## Load Solute Carrier Family genes"
   ]
  },
  {
   "cell_type": "code",
   "execution_count": null,
   "metadata": {
    "hidden": true
   },
   "outputs": [],
   "source": [
    "slc_df = pd.read_csv('data/slc_genes.csv')"
   ]
  },
  {
   "cell_type": "code",
   "execution_count": null,
   "metadata": {
    "hidden": true
   },
   "outputs": [],
   "source": [
    "slc_df.head()\n",
    "slc_corrs = corrs_for_genes(slc_df['Approved symbol'])"
   ]
  },
  {
   "cell_type": "code",
   "execution_count": null,
   "metadata": {
    "hidden": true
   },
   "outputs": [],
   "source": [
    "slc_corrs"
   ]
  },
  {
   "cell_type": "code",
   "execution_count": null,
   "metadata": {
    "hidden": true
   },
   "outputs": [],
   "source": [
    "import requests"
   ]
  },
  {
   "cell_type": "code",
   "execution_count": null,
   "metadata": {
    "hidden": true
   },
   "outputs": [],
   "source": [
    "query = {'source': None,\n",
    "         'target': None,\n",
    "         'stmt_filter': ['conversion', 'fplx'],\n",
    "         'node_filter': ['hgnc', 'fplx', 'chebi', 'pubchem', 'go', 'mesh'],\n",
    "         'node_blacklist': [],\n",
    "         'edge_hash_blacklist': [],\n",
    "         'path_length': 1,\n",
    "         'sign': 'no_sign',\n",
    "         'weighted': False,\n",
    "         'bsco': 0.,\n",
    "         'direct_only': False,\n",
    "         'curated_db_only': False,         \n",
    "         'fplx_expand': False,\n",
    "         'simple': False,\n",
    "         'k_shortest': False}\n",
    "\n",
    "def get_expl_corrs(gene_pairs):\n",
    "    no_path = []\n",
    "    has_2path = []\n",
    "    has_3path = []\n",
    "    for ix, (gene_a, gene_b, z_score) in enumerate(gene_pairs):\n",
    "        for source, target in ((gene_a, gene_b), (gene_b, gene_a)):\n",
    "            print(\"%d getting paths for %s, %s\" % (ix, source, target))\n",
    "            query['source'] = source\n",
    "            query['target'] = target\n",
    "            query['path_length'] = 1\n",
    "            res = requests.post('http://127.0.0.1:5000/query/submit', json=query).json()\n",
    "            if '2' in res['result']['paths_by_node_count']:\n",
    "                has_2path.append((source, target, z_score))\n",
    "            else:\n",
    "                query['path_length'] = 2\n",
    "                res = requests.post('http://127.0.0.1:5000/query/submit', json=query).json()\n",
    "                if '3' in res['result']['paths_by_node_count']:\n",
    "                    has_3path.append((source, target, z_score))                \n",
    "                else:\n",
    "                    no_path.append((source, target, z_score))\n",
    "    return {'no_path': no_path, 'has_2path': has_2path, 'has_3path': has_3path}"
   ]
  },
  {
   "cell_type": "code",
   "execution_count": null,
   "metadata": {
    "hidden": true
   },
   "outputs": [],
   "source": [
    "paths = get_expl_corrs(sorted(slc_corrs, key=lambda x: x[2], reverse=True))"
   ]
  },
  {
   "cell_type": "code",
   "execution_count": null,
   "metadata": {
    "hidden": true
   },
   "outputs": [],
   "source": [
    "paths['has_2path']"
   ]
  },
  {
   "cell_type": "code",
   "execution_count": null,
   "metadata": {
    "hidden": true
   },
   "outputs": [],
   "source": [
    "paths['has_3path']"
   ]
  },
  {
   "cell_type": "code",
   "execution_count": null,
   "metadata": {
    "hidden": true
   },
   "outputs": [],
   "source": [
    "paths['no_path']"
   ]
  },
  {
   "cell_type": "code",
   "execution_count": null,
   "metadata": {
    "hidden": true
   },
   "outputs": [],
   "source": [
    "query['source'] = 'GRSF1'\n",
    "query['target'] = 'SLC30A9'\n",
    "query['path_length'] = 2\n",
    "res = requests.post('http://127.0.0.1:5000/query/submit', json=query).json()"
   ]
  },
  {
   "cell_type": "code",
   "execution_count": null,
   "metadata": {
    "hidden": true
   },
   "outputs": [],
   "source": [
    "res"
   ]
  },
  {
   "cell_type": "markdown",
   "metadata": {},
   "source": [
    "# Hypothesis: Stronger Effects -> Stronger Correlations"
   ]
  },
  {
   "cell_type": "code",
   "execution_count": null,
   "metadata": {},
   "outputs": [],
   "source": [
    "crispr_mean = crispr_df.abs().mean(axis=0).sort_values()"
   ]
  },
  {
   "cell_type": "code",
   "execution_count": null,
   "metadata": {},
   "outputs": [],
   "source": [
    "crispr_z_mean = crispr_z.abs().mean(axis=0)"
   ]
  },
  {
   "cell_type": "code",
   "execution_count": null,
   "metadata": {},
   "outputs": [],
   "source": [
    "crispr_mean.RAN"
   ]
  },
  {
   "cell_type": "code",
   "execution_count": null,
   "metadata": {},
   "outputs": [],
   "source": [
    "crispr_z_mean.RAN"
   ]
  },
  {
   "cell_type": "code",
   "execution_count": null,
   "metadata": {},
   "outputs": [],
   "source": [
    "effect_corr = pd.concat([crispr_mean, crispr_z_mean], axis=1, sort=False)"
   ]
  },
  {
   "cell_type": "code",
   "execution_count": null,
   "metadata": {},
   "outputs": [],
   "source": [
    "effect_corr.head()"
   ]
  },
  {
   "cell_type": "code",
   "execution_count": null,
   "metadata": {},
   "outputs": [],
   "source": [
    "plt.plot(effect_corr[0], effect_corr[1], linestyle='', marker='.')\n",
    "plt.xlabel('Effect')\n",
    "plt.ylabel('Avg Corr')"
   ]
  },
  {
   "cell_type": "code",
   "execution_count": null,
   "metadata": {},
   "outputs": [],
   "source": [
    "effect_corr[effect_corr[1] > 1.15]"
   ]
  },
  {
   "cell_type": "markdown",
   "metadata": {},
   "source": [
    "# Load INDRA SIF DB"
   ]
  },
  {
   "cell_type": "code",
   "execution_count": null,
   "metadata": {},
   "outputs": [],
   "source": [
    "stmts_df = pd.read_csv('data/stmts_by_pair_type.csv')\n",
    "# Filter to HGNC only\n",
    "stmts_df = stmts_df[(stmts_df['agA_ns'] == 'HGNC') & (stmts_df['agB_ns'] == 'HGNC')]\n",
    "# Remove namespace and identifier columns, leaving only name\n",
    "stmts_df = stmts_df[['agA_name', 'agB_name', 'stmt_type', 'evidence_count']]\n",
    "# Remove self-edges\n",
    "stmts_df = stmts_df[stmts_df['agA_name'] != stmts_df['agB_name']]\n",
    "# Useful bits of Pandas to know, ultimately not used here:\n",
    "# pd.crosstab([foo['agA_name'], foo['agB_name']], foo['stmt_type'], foo['evidence_count'],\n",
    "#             aggfunc='sum', dropna=False).fillna(0)\n",
    "# baz = bar[bar.apply(lambda x: x.name[0] != x.name[1], axis=1)]"
   ]
  },
  {
   "cell_type": "code",
   "execution_count": null,
   "metadata": {},
   "outputs": [],
   "source": [
    "x_dict = {}\n",
    "for row in stmts_df.values:\n",
    "    try:\n",
    "        raw_corr = dep_z[row[0]][row[1]]\n",
    "        \"\"\"\n",
    "        if int(raw_corr) == 0:\n",
    "            corr = 0\n",
    "        elif int(raw_corr) < 0:\n",
    "            corr = -1\n",
    "        elif int(raw_corr) > 0:\n",
    "            corr = 1\n",
    "        \"\"\"\n",
    "        corr = raw_corr\n",
    "    except KeyError:\n",
    "        continue\n",
    "    stmt_type = row[2]\n",
    "    gene_pair = (row[0], row[1])\n",
    "    if gene_pair not in x_dict:\n",
    "        x_dict[gene_pair] = {'Corr': corr}\n",
    "    x_dict[gene_pair][stmt_type] = row[3]\n",
    "features = ['Activation', 'Inhibition', 'Corr']\n",
    "all_data = np.zeros((len(x_dict), len(features)))\n",
    "for row_ix, feat_dict in enumerate(x_dict.values()):\n",
    "    for feat_name, feat_val in feat_dict.items():\n",
    "        if feat_name not in features:\n",
    "            continue\n",
    "        feat_ix = features.index(feat_name)\n",
    "        all_data[row_ix, feat_ix] = feat_val"
   ]
  },
  {
   "cell_type": "code",
   "execution_count": null,
   "metadata": {},
   "outputs": [],
   "source": [
    "\"\"\"\n",
    "# Shuffle the matrix in place\n",
    "np.random.shuffle(all_data)\n",
    "# Balance the data\n",
    "ctr = Counter(all_data[:, -1])\n",
    "classes = sorted([(k, v) for k,  v in ctr.items()], key=lambda x: x[0])\n",
    "# Get the class with the fewest members\n",
    "min_class_count = min([t[1] for t in classes])\n",
    "min_class_count\n",
    "data_bal = np.zeros((min_class_count * len(classes), len(features)))\n",
    "row_ix = 0\n",
    "for one_class, count in classes:\n",
    "    num_class_rows = 0\n",
    "    for ix in range(all_data.shape[0]):\n",
    "        if all_data[ix, -1] == one_class:\n",
    "            data_bal[row_ix] = all_data[ix,:]\n",
    "            row_ix += 1\n",
    "            num_class_rows += 1\n",
    "        if num_class_rows >= min_class_count:\n",
    "            print(\"Finished class %s, at rows %s\" % (one_class, row_ix))\n",
    "            break\n",
    "\n",
    "\"\"\""
   ]
  },
  {
   "cell_type": "code",
   "execution_count": null,
   "metadata": {},
   "outputs": [],
   "source": [
    "# Divide training and test\n",
    "np.random.shuffle(all_data)\n",
    "partition_ix = int(len(all_data) * 0.8)\n",
    "train_data = all_data[0:partition_ix, :]\n",
    "test_data = all_data[partition_ix:, :]\n",
    "x_train = train_data[:,:-1]\n",
    "y_train = train_data[:, -1]\n",
    "x_test = test_data[:, :-1]\n",
    "y_test = test_data[:, -1]"
   ]
  },
  {
   "cell_type": "markdown",
   "metadata": {},
   "source": [
    "## Multinomial Naive Bayes"
   ]
  },
  {
   "cell_type": "code",
   "execution_count": null,
   "metadata": {
    "scrolled": true
   },
   "outputs": [],
   "source": [
    "from sklearn.naive_bayes import MultinomialNB\n",
    "nb = MultinomialNB()\n",
    "nb.fit(x_train, y_train)\n",
    "nb.score(x_test, y_test)"
   ]
  },
  {
   "cell_type": "code",
   "execution_count": null,
   "metadata": {},
   "outputs": [],
   "source": [
    "yctr = Counter(y_train)\n",
    "yclasses = sorted([(k, v) for k,  v in yctr.items()], key=lambda x: x[0])"
   ]
  },
  {
   "cell_type": "code",
   "execution_count": null,
   "metadata": {},
   "outputs": [],
   "source": [
    "[features + ['Count']] + list(zip(nb.coef_, classes))"
   ]
  },
  {
   "cell_type": "markdown",
   "metadata": {},
   "source": [
    "## Linear Regression"
   ]
  },
  {
   "cell_type": "code",
   "execution_count": null,
   "metadata": {},
   "outputs": [],
   "source": [
    "from sklearn.linear_model import LinearRegression\n",
    "from sklearn.metrics import explained_variance_score\n",
    "from sklearn.kernel_ridge import KernelRidge\n",
    "lr = LinearRegression()"
   ]
  },
  {
   "cell_type": "code",
   "execution_count": null,
   "metadata": {},
   "outputs": [],
   "source": [
    "lr.fit(x_train, y_train)\n",
    "lr.coef_"
   ]
  },
  {
   "cell_type": "code",
   "execution_count": null,
   "metadata": {},
   "outputs": [],
   "source": [
    "y_pred = lr.predict(x_train)\n",
    "explained_variance_score(y_train, y_pred)"
   ]
  },
  {
   "cell_type": "code",
   "execution_count": null,
   "metadata": {},
   "outputs": [],
   "source": [
    "y_mean = np.full(y_train.shape, y_train.mean())\n",
    "explained_variance_score(y_train, y_mean)"
   ]
  },
  {
   "cell_type": "code",
   "execution_count": null,
   "metadata": {},
   "outputs": [],
   "source": [
    "y_pred_test = lr.predict(x_test)\n",
    "explained_variance_score(y_test, y_pred_test)"
   ]
  },
  {
   "cell_type": "markdown",
   "metadata": {},
   "source": [
    "# Load INDRA Statements (deprecated)"
   ]
  },
  {
   "cell_type": "code",
   "execution_count": null,
   "metadata": {},
   "outputs": [],
   "source": [
    "reload = False\n",
    "if reload:\n",
    "    inc_stmts = ac.load_statements('increase_amt.pkl')\n",
    "    dec_stmts = ac.load_statements('decrease_amt.pkl')\n",
    "    stmts = inc_stmts + dec_stmts\n",
    "    stmts = ac.map_grounding(stmts)\n",
    "    stmts = [s for s in stmts if s.subj and s.subj.db_refs.get('HGNC')\n",
    "                             and s.obj and s.obj.db_refs.get('HGNC')]\n",
    "    stmts = ac.run_preassembly(stmts)\n",
    "    ac.dump_statements(stmts, 'assembled_stmts.pkl')\n",
    "else:\n",
    "    stmts = ac.load_statements('assembled_stmts.pkl')"
   ]
  },
  {
   "cell_type": "code",
   "execution_count": null,
   "metadata": {},
   "outputs": [],
   "source": [
    "stmts_by_obj = defaultdict(list)\n",
    "for s in stmts:\n",
    "    gene_id = s.obj.db_refs['HGNC']\n",
    "    gene_name = hgnc_client.get_hgnc_name(gene_id)\n",
    "    stmts_by_obj[gene_name].append(s)"
   ]
  },
  {
   "cell_type": "code",
   "execution_count": null,
   "metadata": {},
   "outputs": [],
   "source": [
    "stmt_counts = []\n",
    "for obj, stmts in stmts_by_obj.items():\n",
    "    stmt_counts.append((obj, len(stmts)))\n",
    "stmt_counts.sort(key=lambda x: x[1], reverse=True)"
   ]
  },
  {
   "cell_type": "code",
   "execution_count": null,
   "metadata": {},
   "outputs": [],
   "source": [
    "stmt_counts[0:10]"
   ]
  },
  {
   "cell_type": "code",
   "execution_count": null,
   "metadata": {},
   "outputs": [],
   "source": [
    "gene = 'BCL2'\n",
    "rank = 0\n",
    "stmts_by_obj[gene].sort(key=lambda s: s.belief, reverse=True)\n",
    "print(stmts_by_obj[gene][rank], '\\n')\n",
    "print('\\n'.join(['%d: %s\\n' % (i, str((e.source_api, e.text)))\n",
    "                 for i, e in enumerate(stmts_by_obj[gene][rank].evidence)]))"
   ]
  },
  {
   "cell_type": "code",
   "execution_count": null,
   "metadata": {},
   "outputs": [],
   "source": []
  },
  {
   "cell_type": "code",
   "execution_count": null,
   "metadata": {},
   "outputs": [],
   "source": []
  }
 ],
 "metadata": {
  "kernelspec": {
   "display_name": "Python 3",
   "language": "python",
   "name": "python3"
  },
  "language_info": {
   "codemirror_mode": {
    "name": "ipython",
    "version": 3
   },
   "file_extension": ".py",
   "mimetype": "text/x-python",
   "name": "python",
   "nbconvert_exporter": "python",
   "pygments_lexer": "ipython3",
   "version": "3.7.4"
  }
 },
 "nbformat": 4,
 "nbformat_minor": 2
}
