{
 "cells": [
  {
   "cell_type": "markdown",
   "metadata": {},
   "source": [
    "# Overview and Notes"
   ]
  },
  {
   "cell_type": "markdown",
   "metadata": {},
   "source": [
    "What are interesting scenarios for exploring correlations?\n",
    "* Expression-dependency correlations for dependency genes that are druggable. For these, the expression correlates are informative for selection of sensitive cell lines/patients. In addition, causally related expression correlates are suggestive of possible resistance mechanisms or secondary targets for a drug combination.\n",
    "* Dependency-dependency correlations for undruggable genes. For these, the correlates are suggestive of substitute targets, or combinations of targets. However, as combinations are considered the causal interpretation becomes more important.\n",
    "* Expression-expression correlations. In this case one idea would be to explore the strength and sign of relationships from the data vs. assertions from curated databases/literature, particularly from perturbational experiments.\n",
    "* Co-expression patterns. Another possibility is to discover patterns of relationships between genes, e.g. that expression of ubiquitin ligases is correlated with the expression of their targets.\n",
    "\n",
    "Another interesting direction would be to use the information in the INDRA database to discover patterns of mechanistic relationships that predict correlations between dependencies of two genes, or between expression of a gene and dependency of another gene. The simplest possible application of this would be to look at pairwise relationships between two genes (could even extract from SIF), and test to see which types of relationships, and signs of relationships predicted, and amount of evidence predicted a) the sign of a correlation and b) the strength of the correlation.\n",
    "\n",
    "If the matrix is made complete, i.e., if entries are included for having no known relationship, we may find that having no relationship is not predictive of a lack of a correlation.\n",
    "\n",
    "Similarly, there will be many mechanistic relationships that yield detectable correlations.\n",
    "\n",
    "One hypothesis that could be tested is whether downstream siblings were more likely to have large correlations to each other than with their ancestors, highlighting that correlations rarely pick up causal relations in this type of data.\n",
    "\n",
    "Could do this with graph convolutional nets?\n",
    "\n",
    "Another application would be to use the data to refine vague relationships extracted from text, or to address issues with assembly, a la distant supervision.\n",
    "\n",
    "Another direction would be to cluster the correlation graph to find likely intermediates.\n",
    "\n",
    "Or, to use the redundancy of certain gene families to explain why certain correlations do *not* show up, i.e., the gene knockout has no effect because it has a redundant copy."
   ]
  },
  {
   "cell_type": "markdown",
   "metadata": {},
   "source": [
    "# Preliminaries"
   ]
  },
  {
   "cell_type": "code",
   "execution_count": 18,
   "metadata": {},
   "outputs": [],
   "source": [
    "import pickle\n",
    "from os.path import join, expanduser\n",
    "from collections import defaultdict, Counter\n",
    "import numpy as np\n",
    "import pandas as pd\n",
    "from scipy import stats\n",
    "from matplotlib import pyplot as plt\n",
    "from indra.databases import hgnc_client\n",
    "from indra.tools import assemble_corpus as ac\n",
    "\n",
    "from depmap_analysis.scripts.depmap_script2 import main as run_depmap\n",
    "from depmap_analysis.scripts.depmap_script2 import mito_file\n",
    "from depmap_analysis.preprocessing import get_mitocarta_info\n",
    "\n",
    "%matplotlib notebook"
   ]
  },
  {
   "cell_type": "markdown",
   "metadata": {},
   "source": [
    "## Load transcript and dependency data and compute correlations\n",
    "\n",
    "\n",
    "Key variables/functions:\n",
    "* `ccle_df`. CCLE expression data, DataFrame.\n",
    "* `crispr_df`. DepMap CRISPR gene effect (dependency) data, DataFrame.\n",
    "* `crispr_corr`\n",
    "* `crispr_z`\n",
    "* `rnai_df`. DepMap combined RNAi data, DataFrame.\n",
    "* `rna_corr`\n",
    "* `rnai_z`\n",
    "* `dep_z`\n",
    "* `dep_df`. CRISPR and RNAi data combined as averaged z-scores, DataFrame.\n",
    "* `dep_corr`. Correlation matrix between dep-dep, dep-expr, and expr-expr (though expr-expr correlations are only defined in this matrix for the genes also included in the dependency data)."
   ]
  },
  {
   "cell_type": "markdown",
   "metadata": {},
   "source": [
    "### Working directory"
   ]
  },
  {
   "cell_type": "code",
   "execution_count": 19,
   "metadata": {},
   "outputs": [],
   "source": [
    "#basedir = 'data/20q4'\n",
    "basedir = '/Users/johnbachman/Dropbox/1johndata/Knowledge File/Biology/Research/Big Mechanism/datasets/depmap_analysis/depmap/21q1'\n",
    "figdir = join(expanduser('~'), 'Dropbox/DARPA projects/papers/INDRA paper 2/figures/figure_panels')"
   ]
  },
  {
   "cell_type": "markdown",
   "metadata": {},
   "source": [
    "### Cell line metadata\n",
    "\n",
    "Load the cell line metadata which includes mappings between cell line identifiers used by different datasets."
   ]
  },
  {
   "cell_type": "code",
   "execution_count": 20,
   "metadata": {},
   "outputs": [],
   "source": [
    "cell_line_df = pd.read_csv(join(basedir, 'sample_info.csv'))\n",
    "#cell_line_df = pd.read_csv('data/DepMap-2019q1-celllines_v2.csv')"
   ]
  },
  {
   "cell_type": "code",
   "execution_count": 21,
   "metadata": {},
   "outputs": [
    {
     "data": {
      "text/html": [
       "<div>\n",
       "<style scoped>\n",
       "    .dataframe tbody tr th:only-of-type {\n",
       "        vertical-align: middle;\n",
       "    }\n",
       "\n",
       "    .dataframe tbody tr th {\n",
       "        vertical-align: top;\n",
       "    }\n",
       "\n",
       "    .dataframe thead th {\n",
       "        text-align: right;\n",
       "    }\n",
       "</style>\n",
       "<table border=\"1\" class=\"dataframe\">\n",
       "  <thead>\n",
       "    <tr style=\"text-align: right;\">\n",
       "      <th></th>\n",
       "      <th>DepMap_ID</th>\n",
       "    </tr>\n",
       "    <tr>\n",
       "      <th>CCLE_Name</th>\n",
       "      <th></th>\n",
       "    </tr>\n",
       "  </thead>\n",
       "  <tbody>\n",
       "    <tr>\n",
       "      <th>NIHOVCAR3_OVARY</th>\n",
       "      <td>ACH-000001</td>\n",
       "    </tr>\n",
       "    <tr>\n",
       "      <th>HL60_HAEMATOPOIETIC_AND_LYMPHOID_TISSUE</th>\n",
       "      <td>ACH-000002</td>\n",
       "    </tr>\n",
       "    <tr>\n",
       "      <th>CACO2_LARGE_INTESTINE</th>\n",
       "      <td>ACH-000003</td>\n",
       "    </tr>\n",
       "    <tr>\n",
       "      <th>HEL_HAEMATOPOIETIC_AND_LYMPHOID_TISSUE</th>\n",
       "      <td>ACH-000004</td>\n",
       "    </tr>\n",
       "    <tr>\n",
       "      <th>HEL9217_HAEMATOPOIETIC_AND_LYMPHOID_TISSUE</th>\n",
       "      <td>ACH-000005</td>\n",
       "    </tr>\n",
       "  </tbody>\n",
       "</table>\n",
       "</div>"
      ],
      "text/plain": [
       "                                             DepMap_ID\n",
       "CCLE_Name                                             \n",
       "NIHOVCAR3_OVARY                             ACH-000001\n",
       "HL60_HAEMATOPOIETIC_AND_LYMPHOID_TISSUE     ACH-000002\n",
       "CACO2_LARGE_INTESTINE                       ACH-000003\n",
       "HEL_HAEMATOPOIETIC_AND_LYMPHOID_TISSUE      ACH-000004\n",
       "HEL9217_HAEMATOPOIETIC_AND_LYMPHOID_TISSUE  ACH-000005"
      ]
     },
     "execution_count": 21,
     "metadata": {},
     "output_type": "execute_result"
    }
   ],
   "source": [
    "cell_line_map = cell_line_df[['DepMap_ID', 'CCLE_Name']]\n",
    "cell_line_map.set_index('CCLE_Name', inplace=True)\n",
    "cell_line_map.head()"
   ]
  },
  {
   "cell_type": "markdown",
   "metadata": {},
   "source": [
    "### RNAi data\n",
    "\n",
    "Load combined RNAi data, normalize column names, map to DepMap cell line IDs, and drop duplicate columns."
   ]
  },
  {
   "cell_type": "code",
   "execution_count": 22,
   "metadata": {
    "scrolled": true
   },
   "outputs": [
    {
     "name": "stdout",
     "output_type": "stream",
     "text": [
      "CPU times: user 2.21 s, sys: 190 ms, total: 2.4 s\n",
      "Wall time: 2.42 s\n"
     ]
    }
   ],
   "source": [
    "%time rnai_df = pd.read_csv(join(basedir, 'D2_combined_gene_dep_scores.csv'), index_col=0)\n",
    "rnai_df = rnai_df.transpose()\n",
    "gene_cols = ['%s' % col.split(' ')[0] for col in rnai_df.columns]\n",
    "rnai_df.columns = gene_cols\n",
    "rnai_df = rnai_df.join(cell_line_map)\n",
    "rnai_df = rnai_df.set_index('DepMap_ID')\n",
    "# Drop duplicate columns\n",
    "rnai_df = rnai_df.loc[:,~rnai_df.columns.duplicated()]"
   ]
  },
  {
   "cell_type": "code",
   "execution_count": 23,
   "metadata": {
    "scrolled": true
   },
   "outputs": [
    {
     "data": {
      "text/html": [
       "<div>\n",
       "<style scoped>\n",
       "    .dataframe tbody tr th:only-of-type {\n",
       "        vertical-align: middle;\n",
       "    }\n",
       "\n",
       "    .dataframe tbody tr th {\n",
       "        vertical-align: top;\n",
       "    }\n",
       "\n",
       "    .dataframe thead th {\n",
       "        text-align: right;\n",
       "    }\n",
       "</style>\n",
       "<table border=\"1\" class=\"dataframe\">\n",
       "  <thead>\n",
       "    <tr style=\"text-align: right;\">\n",
       "      <th></th>\n",
       "      <th>A1BG</th>\n",
       "      <th>NAT2</th>\n",
       "      <th>ADA</th>\n",
       "      <th>CDH2</th>\n",
       "      <th>AKT3</th>\n",
       "      <th>MED6</th>\n",
       "      <th>NR2E3</th>\n",
       "      <th>NAALAD2</th>\n",
       "      <th>DUXB</th>\n",
       "      <th>PDZK1P1</th>\n",
       "      <th>...</th>\n",
       "      <th>RCE1</th>\n",
       "      <th>HNRNPDL</th>\n",
       "      <th>DMTF1</th>\n",
       "      <th>PPP4R1</th>\n",
       "      <th>CDH1</th>\n",
       "      <th>SLC12A6</th>\n",
       "      <th>KCNE2</th>\n",
       "      <th>DGCR2</th>\n",
       "      <th>CASP8AP2</th>\n",
       "      <th>SCO2</th>\n",
       "    </tr>\n",
       "    <tr>\n",
       "      <th>DepMap_ID</th>\n",
       "      <th></th>\n",
       "      <th></th>\n",
       "      <th></th>\n",
       "      <th></th>\n",
       "      <th></th>\n",
       "      <th></th>\n",
       "      <th></th>\n",
       "      <th></th>\n",
       "      <th></th>\n",
       "      <th></th>\n",
       "      <th></th>\n",
       "      <th></th>\n",
       "      <th></th>\n",
       "      <th></th>\n",
       "      <th></th>\n",
       "      <th></th>\n",
       "      <th></th>\n",
       "      <th></th>\n",
       "      <th></th>\n",
       "      <th></th>\n",
       "      <th></th>\n",
       "    </tr>\n",
       "  </thead>\n",
       "  <tbody>\n",
       "    <tr>\n",
       "      <th>ACH-001270</th>\n",
       "      <td>NaN</td>\n",
       "      <td>NaN</td>\n",
       "      <td>NaN</td>\n",
       "      <td>-0.194962</td>\n",
       "      <td>-0.256108</td>\n",
       "      <td>-0.174220</td>\n",
       "      <td>-0.140052</td>\n",
       "      <td>NaN</td>\n",
       "      <td>NaN</td>\n",
       "      <td>NaN</td>\n",
       "      <td>...</td>\n",
       "      <td>-0.201644</td>\n",
       "      <td>-0.363670</td>\n",
       "      <td>0.184260</td>\n",
       "      <td>-0.115616</td>\n",
       "      <td>-0.125958</td>\n",
       "      <td>NaN</td>\n",
       "      <td>0.088853</td>\n",
       "      <td>NaN</td>\n",
       "      <td>-0.843295</td>\n",
       "      <td>NaN</td>\n",
       "    </tr>\n",
       "    <tr>\n",
       "      <th>ACH-001000</th>\n",
       "      <td>NaN</td>\n",
       "      <td>NaN</td>\n",
       "      <td>NaN</td>\n",
       "      <td>-0.028171</td>\n",
       "      <td>0.100751</td>\n",
       "      <td>-0.456124</td>\n",
       "      <td>-0.174618</td>\n",
       "      <td>NaN</td>\n",
       "      <td>NaN</td>\n",
       "      <td>NaN</td>\n",
       "      <td>...</td>\n",
       "      <td>0.074889</td>\n",
       "      <td>0.152158</td>\n",
       "      <td>0.036011</td>\n",
       "      <td>0.117300</td>\n",
       "      <td>0.101725</td>\n",
       "      <td>NaN</td>\n",
       "      <td>-0.110628</td>\n",
       "      <td>NaN</td>\n",
       "      <td>-0.307031</td>\n",
       "      <td>NaN</td>\n",
       "    </tr>\n",
       "    <tr>\n",
       "      <th>ACH-001001</th>\n",
       "      <td>0.146042</td>\n",
       "      <td>0.102854</td>\n",
       "      <td>0.168839</td>\n",
       "      <td>0.063047</td>\n",
       "      <td>-0.008077</td>\n",
       "      <td>-0.214376</td>\n",
       "      <td>-0.153619</td>\n",
       "      <td>0.133830</td>\n",
       "      <td>0.138673</td>\n",
       "      <td>0.030345</td>\n",
       "      <td>...</td>\n",
       "      <td>0.006735</td>\n",
       "      <td>-0.033385</td>\n",
       "      <td>0.197651</td>\n",
       "      <td>-0.016372</td>\n",
       "      <td>0.077486</td>\n",
       "      <td>0.106165</td>\n",
       "      <td>0.057286</td>\n",
       "      <td>0.025596</td>\n",
       "      <td>-0.413669</td>\n",
       "      <td>0.122669</td>\n",
       "    </tr>\n",
       "    <tr>\n",
       "      <th>ACH-002319</th>\n",
       "      <td>-0.190388</td>\n",
       "      <td>0.384106</td>\n",
       "      <td>-0.120700</td>\n",
       "      <td>-0.237251</td>\n",
       "      <td>0.060267</td>\n",
       "      <td>-0.338946</td>\n",
       "      <td>-0.057551</td>\n",
       "      <td>0.134511</td>\n",
       "      <td>NaN</td>\n",
       "      <td>0.144463</td>\n",
       "      <td>...</td>\n",
       "      <td>0.209009</td>\n",
       "      <td>-0.156839</td>\n",
       "      <td>-0.155837</td>\n",
       "      <td>-0.001141</td>\n",
       "      <td>NaN</td>\n",
       "      <td>0.227968</td>\n",
       "      <td>0.028095</td>\n",
       "      <td>-0.080611</td>\n",
       "      <td>-1.849696</td>\n",
       "      <td>-0.078856</td>\n",
       "    </tr>\n",
       "    <tr>\n",
       "      <th>ACH-001827</th>\n",
       "      <td>0.907063</td>\n",
       "      <td>0.403192</td>\n",
       "      <td>0.004394</td>\n",
       "      <td>-0.017059</td>\n",
       "      <td>-0.094749</td>\n",
       "      <td>-0.328074</td>\n",
       "      <td>-0.089573</td>\n",
       "      <td>0.362029</td>\n",
       "      <td>NaN</td>\n",
       "      <td>-0.098161</td>\n",
       "      <td>...</td>\n",
       "      <td>-0.137465</td>\n",
       "      <td>-1.037848</td>\n",
       "      <td>-0.261262</td>\n",
       "      <td>-0.228016</td>\n",
       "      <td>NaN</td>\n",
       "      <td>0.088744</td>\n",
       "      <td>0.159467</td>\n",
       "      <td>0.014071</td>\n",
       "      <td>-0.414154</td>\n",
       "      <td>0.032661</td>\n",
       "    </tr>\n",
       "  </tbody>\n",
       "</table>\n",
       "<p>5 rows × 17309 columns</p>\n",
       "</div>"
      ],
      "text/plain": [
       "                A1BG      NAT2       ADA      CDH2      AKT3      MED6  \\\n",
       "DepMap_ID                                                                \n",
       "ACH-001270       NaN       NaN       NaN -0.194962 -0.256108 -0.174220   \n",
       "ACH-001000       NaN       NaN       NaN -0.028171  0.100751 -0.456124   \n",
       "ACH-001001  0.146042  0.102854  0.168839  0.063047 -0.008077 -0.214376   \n",
       "ACH-002319 -0.190388  0.384106 -0.120700 -0.237251  0.060267 -0.338946   \n",
       "ACH-001827  0.907063  0.403192  0.004394 -0.017059 -0.094749 -0.328074   \n",
       "\n",
       "               NR2E3   NAALAD2      DUXB   PDZK1P1  ...      RCE1   HNRNPDL  \\\n",
       "DepMap_ID                                           ...                       \n",
       "ACH-001270 -0.140052       NaN       NaN       NaN  ... -0.201644 -0.363670   \n",
       "ACH-001000 -0.174618       NaN       NaN       NaN  ...  0.074889  0.152158   \n",
       "ACH-001001 -0.153619  0.133830  0.138673  0.030345  ...  0.006735 -0.033385   \n",
       "ACH-002319 -0.057551  0.134511       NaN  0.144463  ...  0.209009 -0.156839   \n",
       "ACH-001827 -0.089573  0.362029       NaN -0.098161  ... -0.137465 -1.037848   \n",
       "\n",
       "               DMTF1    PPP4R1      CDH1   SLC12A6     KCNE2     DGCR2  \\\n",
       "DepMap_ID                                                                \n",
       "ACH-001270  0.184260 -0.115616 -0.125958       NaN  0.088853       NaN   \n",
       "ACH-001000  0.036011  0.117300  0.101725       NaN -0.110628       NaN   \n",
       "ACH-001001  0.197651 -0.016372  0.077486  0.106165  0.057286  0.025596   \n",
       "ACH-002319 -0.155837 -0.001141       NaN  0.227968  0.028095 -0.080611   \n",
       "ACH-001827 -0.261262 -0.228016       NaN  0.088744  0.159467  0.014071   \n",
       "\n",
       "            CASP8AP2      SCO2  \n",
       "DepMap_ID                       \n",
       "ACH-001270 -0.843295       NaN  \n",
       "ACH-001000 -0.307031       NaN  \n",
       "ACH-001001 -0.413669  0.122669  \n",
       "ACH-002319 -1.849696 -0.078856  \n",
       "ACH-001827 -0.414154  0.032661  \n",
       "\n",
       "[5 rows x 17309 columns]"
      ]
     },
     "execution_count": 23,
     "metadata": {},
     "output_type": "execute_result"
    }
   ],
   "source": [
    "rnai_df.head()"
   ]
  },
  {
   "cell_type": "code",
   "execution_count": 24,
   "metadata": {},
   "outputs": [
    {
     "name": "stderr",
     "output_type": "stream",
     "text": [
      "INFO: [2021-03-04 11:24:03] numexpr.utils - Note: NumExpr detected 12 cores but \"NUMEXPR_MAX_THREADS\" not set, so enforcing safe limit of 8.\n",
      "INFO: [2021-03-04 11:24:03] numexpr.utils - NumExpr defaulting to 8 threads.\n"
     ]
    }
   ],
   "source": [
    "recalculate = False\n",
    "filename = 'rnai_correlations'\n",
    "filepath = join(basedir, filename)\n",
    "if recalculate:\n",
    "    %time rnai_corr = rnai_df.corr()\n",
    "    rnai_corr.to_hdf('%s.h5' % filepath, filename)\n",
    "else:\n",
    "    rnai_corr = pd.read_hdf('%s.h5' % filepath)"
   ]
  },
  {
   "cell_type": "code",
   "execution_count": 25,
   "metadata": {},
   "outputs": [],
   "source": [
    "rnai_mean = rnai_corr.values.mean()\n",
    "rnai_sd = rnai_corr.values.std()\n",
    "rnai_z = (rnai_corr - rnai_mean) / rnai_sd"
   ]
  },
  {
   "cell_type": "code",
   "execution_count": 26,
   "metadata": {},
   "outputs": [
    {
     "data": {
      "text/html": [
       "<div>\n",
       "<style scoped>\n",
       "    .dataframe tbody tr th:only-of-type {\n",
       "        vertical-align: middle;\n",
       "    }\n",
       "\n",
       "    .dataframe tbody tr th {\n",
       "        vertical-align: top;\n",
       "    }\n",
       "\n",
       "    .dataframe thead th {\n",
       "        text-align: right;\n",
       "    }\n",
       "</style>\n",
       "<table border=\"1\" class=\"dataframe\">\n",
       "  <thead>\n",
       "    <tr style=\"text-align: right;\">\n",
       "      <th></th>\n",
       "      <th>A1BG</th>\n",
       "      <th>NAT2</th>\n",
       "      <th>ADA</th>\n",
       "      <th>CDH2</th>\n",
       "      <th>AKT3</th>\n",
       "      <th>MED6</th>\n",
       "      <th>NR2E3</th>\n",
       "      <th>NAALAD2</th>\n",
       "      <th>DUXB</th>\n",
       "      <th>PDZK1P1</th>\n",
       "      <th>...</th>\n",
       "      <th>RCE1</th>\n",
       "      <th>HNRNPDL</th>\n",
       "      <th>DMTF1</th>\n",
       "      <th>PPP4R1</th>\n",
       "      <th>CDH1</th>\n",
       "      <th>SLC12A6</th>\n",
       "      <th>KCNE2</th>\n",
       "      <th>DGCR2</th>\n",
       "      <th>CASP8AP2</th>\n",
       "      <th>SCO2</th>\n",
       "    </tr>\n",
       "  </thead>\n",
       "  <tbody>\n",
       "    <tr>\n",
       "      <th>A1BG</th>\n",
       "      <td>12.735562</td>\n",
       "      <td>-0.770498</td>\n",
       "      <td>-0.828444</td>\n",
       "      <td>0.593730</td>\n",
       "      <td>-0.334519</td>\n",
       "      <td>-0.076705</td>\n",
       "      <td>1.054949</td>\n",
       "      <td>0.591804</td>\n",
       "      <td>0.385034</td>\n",
       "      <td>-0.120219</td>\n",
       "      <td>...</td>\n",
       "      <td>1.446480</td>\n",
       "      <td>-1.964996</td>\n",
       "      <td>-0.403560</td>\n",
       "      <td>0.402625</td>\n",
       "      <td>-0.396057</td>\n",
       "      <td>0.131028</td>\n",
       "      <td>0.227373</td>\n",
       "      <td>-0.701314</td>\n",
       "      <td>0.218191</td>\n",
       "      <td>1.198913</td>\n",
       "    </tr>\n",
       "    <tr>\n",
       "      <th>NAT2</th>\n",
       "      <td>-0.770498</td>\n",
       "      <td>12.735562</td>\n",
       "      <td>0.572062</td>\n",
       "      <td>-0.052426</td>\n",
       "      <td>-0.528069</td>\n",
       "      <td>0.307443</td>\n",
       "      <td>-0.021474</td>\n",
       "      <td>-0.590996</td>\n",
       "      <td>-0.318764</td>\n",
       "      <td>-1.449979</td>\n",
       "      <td>...</td>\n",
       "      <td>0.371740</td>\n",
       "      <td>-0.754718</td>\n",
       "      <td>0.017751</td>\n",
       "      <td>0.024919</td>\n",
       "      <td>-2.128375</td>\n",
       "      <td>-0.190518</td>\n",
       "      <td>0.608389</td>\n",
       "      <td>-0.842078</td>\n",
       "      <td>-1.303389</td>\n",
       "      <td>-0.503340</td>\n",
       "    </tr>\n",
       "    <tr>\n",
       "      <th>ADA</th>\n",
       "      <td>-0.828444</td>\n",
       "      <td>0.572062</td>\n",
       "      <td>12.735562</td>\n",
       "      <td>-0.451619</td>\n",
       "      <td>-0.577117</td>\n",
       "      <td>0.422290</td>\n",
       "      <td>-0.188984</td>\n",
       "      <td>-0.570248</td>\n",
       "      <td>-0.078767</td>\n",
       "      <td>0.119471</td>\n",
       "      <td>...</td>\n",
       "      <td>0.475397</td>\n",
       "      <td>0.045575</td>\n",
       "      <td>0.639884</td>\n",
       "      <td>0.858577</td>\n",
       "      <td>-0.315503</td>\n",
       "      <td>-0.353140</td>\n",
       "      <td>-0.704099</td>\n",
       "      <td>1.271989</td>\n",
       "      <td>0.150168</td>\n",
       "      <td>-0.217580</td>\n",
       "    </tr>\n",
       "    <tr>\n",
       "      <th>CDH2</th>\n",
       "      <td>0.593730</td>\n",
       "      <td>-0.052426</td>\n",
       "      <td>-0.451619</td>\n",
       "      <td>12.735562</td>\n",
       "      <td>0.565031</td>\n",
       "      <td>-0.946426</td>\n",
       "      <td>-0.135411</td>\n",
       "      <td>0.118138</td>\n",
       "      <td>0.201983</td>\n",
       "      <td>-0.383189</td>\n",
       "      <td>...</td>\n",
       "      <td>-0.570892</td>\n",
       "      <td>-1.780034</td>\n",
       "      <td>1.163082</td>\n",
       "      <td>-1.070628</td>\n",
       "      <td>-0.127555</td>\n",
       "      <td>-0.228329</td>\n",
       "      <td>0.010906</td>\n",
       "      <td>-1.423871</td>\n",
       "      <td>-1.132664</td>\n",
       "      <td>-0.382607</td>\n",
       "    </tr>\n",
       "    <tr>\n",
       "      <th>AKT3</th>\n",
       "      <td>-0.334519</td>\n",
       "      <td>-0.528069</td>\n",
       "      <td>-0.577117</td>\n",
       "      <td>0.565031</td>\n",
       "      <td>12.735562</td>\n",
       "      <td>-0.378659</td>\n",
       "      <td>-1.136175</td>\n",
       "      <td>0.590426</td>\n",
       "      <td>0.837794</td>\n",
       "      <td>-0.574912</td>\n",
       "      <td>...</td>\n",
       "      <td>-1.262663</td>\n",
       "      <td>0.259384</td>\n",
       "      <td>0.443690</td>\n",
       "      <td>-0.919940</td>\n",
       "      <td>0.283450</td>\n",
       "      <td>-1.192266</td>\n",
       "      <td>-0.581840</td>\n",
       "      <td>-1.243842</td>\n",
       "      <td>-0.184748</td>\n",
       "      <td>-0.345918</td>\n",
       "    </tr>\n",
       "  </tbody>\n",
       "</table>\n",
       "<p>5 rows × 17309 columns</p>\n",
       "</div>"
      ],
      "text/plain": [
       "           A1BG       NAT2        ADA       CDH2       AKT3      MED6  \\\n",
       "A1BG  12.735562  -0.770498  -0.828444   0.593730  -0.334519 -0.076705   \n",
       "NAT2  -0.770498  12.735562   0.572062  -0.052426  -0.528069  0.307443   \n",
       "ADA   -0.828444   0.572062  12.735562  -0.451619  -0.577117  0.422290   \n",
       "CDH2   0.593730  -0.052426  -0.451619  12.735562   0.565031 -0.946426   \n",
       "AKT3  -0.334519  -0.528069  -0.577117   0.565031  12.735562 -0.378659   \n",
       "\n",
       "         NR2E3   NAALAD2      DUXB   PDZK1P1  ...      RCE1   HNRNPDL  \\\n",
       "A1BG  1.054949  0.591804  0.385034 -0.120219  ...  1.446480 -1.964996   \n",
       "NAT2 -0.021474 -0.590996 -0.318764 -1.449979  ...  0.371740 -0.754718   \n",
       "ADA  -0.188984 -0.570248 -0.078767  0.119471  ...  0.475397  0.045575   \n",
       "CDH2 -0.135411  0.118138  0.201983 -0.383189  ... -0.570892 -1.780034   \n",
       "AKT3 -1.136175  0.590426  0.837794 -0.574912  ... -1.262663  0.259384   \n",
       "\n",
       "         DMTF1    PPP4R1      CDH1   SLC12A6     KCNE2     DGCR2  CASP8AP2  \\\n",
       "A1BG -0.403560  0.402625 -0.396057  0.131028  0.227373 -0.701314  0.218191   \n",
       "NAT2  0.017751  0.024919 -2.128375 -0.190518  0.608389 -0.842078 -1.303389   \n",
       "ADA   0.639884  0.858577 -0.315503 -0.353140 -0.704099  1.271989  0.150168   \n",
       "CDH2  1.163082 -1.070628 -0.127555 -0.228329  0.010906 -1.423871 -1.132664   \n",
       "AKT3  0.443690 -0.919940  0.283450 -1.192266 -0.581840 -1.243842 -0.184748   \n",
       "\n",
       "          SCO2  \n",
       "A1BG  1.198913  \n",
       "NAT2 -0.503340  \n",
       "ADA  -0.217580  \n",
       "CDH2 -0.382607  \n",
       "AKT3 -0.345918  \n",
       "\n",
       "[5 rows x 17309 columns]"
      ]
     },
     "execution_count": 26,
     "metadata": {},
     "output_type": "execute_result"
    }
   ],
   "source": [
    "rnai_z.head()"
   ]
  },
  {
   "cell_type": "markdown",
   "metadata": {},
   "source": [
    "### CRISPR Data\n",
    "\n",
    "Load CRISPR dependency data and normalize column names to gene names."
   ]
  },
  {
   "cell_type": "code",
   "execution_count": 27,
   "metadata": {},
   "outputs": [
    {
     "name": "stdout",
     "output_type": "stream",
     "text": [
      "CPU times: user 13.2 s, sys: 348 ms, total: 13.6 s\n",
      "Wall time: 13.7 s\n"
     ]
    }
   ],
   "source": [
    "%time crispr_df = pd.read_csv(join(basedir, 'Achilles_gene_effect.csv'), index_col=0)\n",
    "gene_cols = ['%s' % col.split(' ')[0] for col in crispr_df.columns]\n",
    "crispr_df.columns = gene_cols\n",
    "# Drop any duplicate columns (shouldn't be any for CRISPR, but just in case)\n",
    "crispr_df = crispr_df.loc[:,~crispr_df.columns.duplicated()]"
   ]
  },
  {
   "cell_type": "code",
   "execution_count": 28,
   "metadata": {},
   "outputs": [
    {
     "data": {
      "text/html": [
       "<div>\n",
       "<style scoped>\n",
       "    .dataframe tbody tr th:only-of-type {\n",
       "        vertical-align: middle;\n",
       "    }\n",
       "\n",
       "    .dataframe tbody tr th {\n",
       "        vertical-align: top;\n",
       "    }\n",
       "\n",
       "    .dataframe thead th {\n",
       "        text-align: right;\n",
       "    }\n",
       "</style>\n",
       "<table border=\"1\" class=\"dataframe\">\n",
       "  <thead>\n",
       "    <tr style=\"text-align: right;\">\n",
       "      <th></th>\n",
       "      <th>A1BG</th>\n",
       "      <th>A1CF</th>\n",
       "      <th>A2M</th>\n",
       "      <th>A2ML1</th>\n",
       "      <th>A3GALT2</th>\n",
       "      <th>A4GALT</th>\n",
       "      <th>A4GNT</th>\n",
       "      <th>AAAS</th>\n",
       "      <th>AACS</th>\n",
       "      <th>AADAC</th>\n",
       "      <th>...</th>\n",
       "      <th>ZWILCH</th>\n",
       "      <th>ZWINT</th>\n",
       "      <th>ZXDA</th>\n",
       "      <th>ZXDB</th>\n",
       "      <th>ZXDC</th>\n",
       "      <th>ZYG11A</th>\n",
       "      <th>ZYG11B</th>\n",
       "      <th>ZYX</th>\n",
       "      <th>ZZEF1</th>\n",
       "      <th>ZZZ3</th>\n",
       "    </tr>\n",
       "    <tr>\n",
       "      <th>DepMap_ID</th>\n",
       "      <th></th>\n",
       "      <th></th>\n",
       "      <th></th>\n",
       "      <th></th>\n",
       "      <th></th>\n",
       "      <th></th>\n",
       "      <th></th>\n",
       "      <th></th>\n",
       "      <th></th>\n",
       "      <th></th>\n",
       "      <th></th>\n",
       "      <th></th>\n",
       "      <th></th>\n",
       "      <th></th>\n",
       "      <th></th>\n",
       "      <th></th>\n",
       "      <th></th>\n",
       "      <th></th>\n",
       "      <th></th>\n",
       "      <th></th>\n",
       "      <th></th>\n",
       "    </tr>\n",
       "  </thead>\n",
       "  <tbody>\n",
       "    <tr>\n",
       "      <th>ACH-000004</th>\n",
       "      <td>0.164686</td>\n",
       "      <td>0.094628</td>\n",
       "      <td>-0.190746</td>\n",
       "      <td>-0.009197</td>\n",
       "      <td>0.032529</td>\n",
       "      <td>-0.191355</td>\n",
       "      <td>0.355279</td>\n",
       "      <td>-0.442430</td>\n",
       "      <td>0.298153</td>\n",
       "      <td>0.170712</td>\n",
       "      <td>...</td>\n",
       "      <td>-0.125219</td>\n",
       "      <td>-0.463670</td>\n",
       "      <td>0.031849</td>\n",
       "      <td>-0.007470</td>\n",
       "      <td>0.261947</td>\n",
       "      <td>0.237661</td>\n",
       "      <td>-0.420546</td>\n",
       "      <td>0.277953</td>\n",
       "      <td>0.227172</td>\n",
       "      <td>-0.151192</td>\n",
       "    </tr>\n",
       "    <tr>\n",
       "      <th>ACH-000005</th>\n",
       "      <td>-0.097058</td>\n",
       "      <td>0.241606</td>\n",
       "      <td>0.193671</td>\n",
       "      <td>0.156428</td>\n",
       "      <td>-0.195506</td>\n",
       "      <td>-0.337316</td>\n",
       "      <td>0.247947</td>\n",
       "      <td>-0.587806</td>\n",
       "      <td>-0.070959</td>\n",
       "      <td>0.004288</td>\n",
       "      <td>...</td>\n",
       "      <td>-0.212524</td>\n",
       "      <td>-0.410596</td>\n",
       "      <td>-0.180655</td>\n",
       "      <td>-0.080401</td>\n",
       "      <td>0.220940</td>\n",
       "      <td>-0.076012</td>\n",
       "      <td>-0.106125</td>\n",
       "      <td>0.068227</td>\n",
       "      <td>0.022568</td>\n",
       "      <td>-0.261572</td>\n",
       "    </tr>\n",
       "    <tr>\n",
       "      <th>ACH-000007</th>\n",
       "      <td>0.066212</td>\n",
       "      <td>0.073850</td>\n",
       "      <td>-0.065867</td>\n",
       "      <td>0.156038</td>\n",
       "      <td>0.100958</td>\n",
       "      <td>0.140997</td>\n",
       "      <td>0.066367</td>\n",
       "      <td>-0.472706</td>\n",
       "      <td>-0.008810</td>\n",
       "      <td>0.293417</td>\n",
       "      <td>...</td>\n",
       "      <td>-0.096162</td>\n",
       "      <td>-0.277202</td>\n",
       "      <td>-0.058930</td>\n",
       "      <td>0.108511</td>\n",
       "      <td>0.212320</td>\n",
       "      <td>-0.011173</td>\n",
       "      <td>-0.352653</td>\n",
       "      <td>0.084244</td>\n",
       "      <td>-0.387673</td>\n",
       "      <td>-0.439552</td>\n",
       "    </tr>\n",
       "    <tr>\n",
       "      <th>ACH-000009</th>\n",
       "      <td>0.097872</td>\n",
       "      <td>0.000361</td>\n",
       "      <td>-0.055818</td>\n",
       "      <td>0.046221</td>\n",
       "      <td>0.063069</td>\n",
       "      <td>-0.048932</td>\n",
       "      <td>0.070910</td>\n",
       "      <td>-0.640566</td>\n",
       "      <td>0.148335</td>\n",
       "      <td>0.056188</td>\n",
       "      <td>...</td>\n",
       "      <td>-0.293175</td>\n",
       "      <td>-0.259388</td>\n",
       "      <td>-0.095524</td>\n",
       "      <td>0.049911</td>\n",
       "      <td>0.072002</td>\n",
       "      <td>0.011488</td>\n",
       "      <td>-0.596006</td>\n",
       "      <td>0.189440</td>\n",
       "      <td>-0.117177</td>\n",
       "      <td>-0.539860</td>\n",
       "    </tr>\n",
       "    <tr>\n",
       "      <th>ACH-000011</th>\n",
       "      <td>0.270232</td>\n",
       "      <td>0.072105</td>\n",
       "      <td>0.014605</td>\n",
       "      <td>0.433243</td>\n",
       "      <td>-0.030273</td>\n",
       "      <td>-0.239080</td>\n",
       "      <td>0.097866</td>\n",
       "      <td>-0.419689</td>\n",
       "      <td>0.138635</td>\n",
       "      <td>0.106322</td>\n",
       "      <td>...</td>\n",
       "      <td>-0.401794</td>\n",
       "      <td>-0.507831</td>\n",
       "      <td>-0.136369</td>\n",
       "      <td>-0.115541</td>\n",
       "      <td>0.274140</td>\n",
       "      <td>0.154517</td>\n",
       "      <td>-0.234775</td>\n",
       "      <td>0.124355</td>\n",
       "      <td>-0.250505</td>\n",
       "      <td>-0.372498</td>\n",
       "    </tr>\n",
       "  </tbody>\n",
       "</table>\n",
       "<p>5 rows × 18119 columns</p>\n",
       "</div>"
      ],
      "text/plain": [
       "                A1BG      A1CF       A2M     A2ML1   A3GALT2    A4GALT  \\\n",
       "DepMap_ID                                                                \n",
       "ACH-000004  0.164686  0.094628 -0.190746 -0.009197  0.032529 -0.191355   \n",
       "ACH-000005 -0.097058  0.241606  0.193671  0.156428 -0.195506 -0.337316   \n",
       "ACH-000007  0.066212  0.073850 -0.065867  0.156038  0.100958  0.140997   \n",
       "ACH-000009  0.097872  0.000361 -0.055818  0.046221  0.063069 -0.048932   \n",
       "ACH-000011  0.270232  0.072105  0.014605  0.433243 -0.030273 -0.239080   \n",
       "\n",
       "               A4GNT      AAAS      AACS     AADAC  ...    ZWILCH     ZWINT  \\\n",
       "DepMap_ID                                           ...                       \n",
       "ACH-000004  0.355279 -0.442430  0.298153  0.170712  ... -0.125219 -0.463670   \n",
       "ACH-000005  0.247947 -0.587806 -0.070959  0.004288  ... -0.212524 -0.410596   \n",
       "ACH-000007  0.066367 -0.472706 -0.008810  0.293417  ... -0.096162 -0.277202   \n",
       "ACH-000009  0.070910 -0.640566  0.148335  0.056188  ... -0.293175 -0.259388   \n",
       "ACH-000011  0.097866 -0.419689  0.138635  0.106322  ... -0.401794 -0.507831   \n",
       "\n",
       "                ZXDA      ZXDB      ZXDC    ZYG11A    ZYG11B       ZYX  \\\n",
       "DepMap_ID                                                                \n",
       "ACH-000004  0.031849 -0.007470  0.261947  0.237661 -0.420546  0.277953   \n",
       "ACH-000005 -0.180655 -0.080401  0.220940 -0.076012 -0.106125  0.068227   \n",
       "ACH-000007 -0.058930  0.108511  0.212320 -0.011173 -0.352653  0.084244   \n",
       "ACH-000009 -0.095524  0.049911  0.072002  0.011488 -0.596006  0.189440   \n",
       "ACH-000011 -0.136369 -0.115541  0.274140  0.154517 -0.234775  0.124355   \n",
       "\n",
       "               ZZEF1      ZZZ3  \n",
       "DepMap_ID                       \n",
       "ACH-000004  0.227172 -0.151192  \n",
       "ACH-000005  0.022568 -0.261572  \n",
       "ACH-000007 -0.387673 -0.439552  \n",
       "ACH-000009 -0.117177 -0.539860  \n",
       "ACH-000011 -0.250505 -0.372498  \n",
       "\n",
       "[5 rows x 18119 columns]"
      ]
     },
     "execution_count": 28,
     "metadata": {},
     "output_type": "execute_result"
    }
   ],
   "source": [
    "crispr_df.head()"
   ]
  },
  {
   "cell_type": "code",
   "execution_count": 29,
   "metadata": {},
   "outputs": [],
   "source": [
    "# Filter out this problematic outlier stomach cell line\n",
    "#crispr_df = crispr_df[crispr_df.index != 'ACH-000167']"
   ]
  },
  {
   "cell_type": "code",
   "execution_count": 30,
   "metadata": {},
   "outputs": [],
   "source": [
    "recalculate = False\n",
    "filename = 'crispr_correlations'\n",
    "filepath = join(basedir, filename)\n",
    "if recalculate:\n",
    "    %time crispr_corr = crispr_df.corr()\n",
    "    crispr_corr.to_hdf('%s.h5' % filepath, filename)\n",
    "else:\n",
    "    crispr_corr = pd.read_hdf('%s.h5' % filepath)    "
   ]
  },
  {
   "cell_type": "code",
   "execution_count": 31,
   "metadata": {},
   "outputs": [],
   "source": [
    "crispr_mean = crispr_corr.values.mean()\n",
    "crispr_sd = crispr_corr.values.std()\n",
    "crispr_z = (crispr_corr - crispr_mean) / crispr_sd"
   ]
  },
  {
   "cell_type": "code",
   "execution_count": 32,
   "metadata": {},
   "outputs": [
    {
     "data": {
      "text/html": [
       "<div>\n",
       "<style scoped>\n",
       "    .dataframe tbody tr th:only-of-type {\n",
       "        vertical-align: middle;\n",
       "    }\n",
       "\n",
       "    .dataframe tbody tr th {\n",
       "        vertical-align: top;\n",
       "    }\n",
       "\n",
       "    .dataframe thead th {\n",
       "        text-align: right;\n",
       "    }\n",
       "</style>\n",
       "<table border=\"1\" class=\"dataframe\">\n",
       "  <thead>\n",
       "    <tr style=\"text-align: right;\">\n",
       "      <th></th>\n",
       "      <th>A1BG</th>\n",
       "      <th>A1CF</th>\n",
       "      <th>A2M</th>\n",
       "      <th>A2ML1</th>\n",
       "      <th>A3GALT2</th>\n",
       "      <th>A4GALT</th>\n",
       "      <th>A4GNT</th>\n",
       "      <th>AAAS</th>\n",
       "      <th>AACS</th>\n",
       "      <th>AADAC</th>\n",
       "      <th>...</th>\n",
       "      <th>ZWILCH</th>\n",
       "      <th>ZWINT</th>\n",
       "      <th>ZXDA</th>\n",
       "      <th>ZXDB</th>\n",
       "      <th>ZXDC</th>\n",
       "      <th>ZYG11A</th>\n",
       "      <th>ZYG11B</th>\n",
       "      <th>ZYX</th>\n",
       "      <th>ZZEF1</th>\n",
       "      <th>ZZZ3</th>\n",
       "    </tr>\n",
       "  </thead>\n",
       "  <tbody>\n",
       "    <tr>\n",
       "      <th>A1BG</th>\n",
       "      <td>18.191784</td>\n",
       "      <td>-1.242018</td>\n",
       "      <td>1.360831</td>\n",
       "      <td>-1.011252</td>\n",
       "      <td>-0.002266</td>\n",
       "      <td>1.028501</td>\n",
       "      <td>-0.013928</td>\n",
       "      <td>0.189783</td>\n",
       "      <td>-0.111264</td>\n",
       "      <td>1.054949</td>\n",
       "      <td>...</td>\n",
       "      <td>0.266351</td>\n",
       "      <td>-0.163454</td>\n",
       "      <td>-0.612117</td>\n",
       "      <td>0.116316</td>\n",
       "      <td>-0.993662</td>\n",
       "      <td>0.847710</td>\n",
       "      <td>0.822466</td>\n",
       "      <td>0.866504</td>\n",
       "      <td>0.848916</td>\n",
       "      <td>0.824848</td>\n",
       "    </tr>\n",
       "    <tr>\n",
       "      <th>A1CF</th>\n",
       "      <td>-1.242018</td>\n",
       "      <td>18.191784</td>\n",
       "      <td>0.378603</td>\n",
       "      <td>-0.350676</td>\n",
       "      <td>-0.059957</td>\n",
       "      <td>-1.832413</td>\n",
       "      <td>-0.058989</td>\n",
       "      <td>0.879592</td>\n",
       "      <td>-1.663634</td>\n",
       "      <td>0.416674</td>\n",
       "      <td>...</td>\n",
       "      <td>-1.698830</td>\n",
       "      <td>-0.212665</td>\n",
       "      <td>1.627540</td>\n",
       "      <td>1.389030</td>\n",
       "      <td>-0.941134</td>\n",
       "      <td>0.047841</td>\n",
       "      <td>0.625232</td>\n",
       "      <td>-1.342363</td>\n",
       "      <td>-0.415734</td>\n",
       "      <td>0.622525</td>\n",
       "    </tr>\n",
       "    <tr>\n",
       "      <th>A2M</th>\n",
       "      <td>1.360831</td>\n",
       "      <td>0.378603</td>\n",
       "      <td>18.191784</td>\n",
       "      <td>1.671774</td>\n",
       "      <td>-0.456240</td>\n",
       "      <td>-1.044572</td>\n",
       "      <td>0.110470</td>\n",
       "      <td>-0.732363</td>\n",
       "      <td>0.035439</td>\n",
       "      <td>1.188912</td>\n",
       "      <td>...</td>\n",
       "      <td>-0.216869</td>\n",
       "      <td>-1.055333</td>\n",
       "      <td>-0.134216</td>\n",
       "      <td>-1.155436</td>\n",
       "      <td>0.038226</td>\n",
       "      <td>-0.533334</td>\n",
       "      <td>0.039291</td>\n",
       "      <td>-0.626993</td>\n",
       "      <td>1.098631</td>\n",
       "      <td>0.728893</td>\n",
       "    </tr>\n",
       "    <tr>\n",
       "      <th>A2ML1</th>\n",
       "      <td>-1.011252</td>\n",
       "      <td>-0.350676</td>\n",
       "      <td>1.671774</td>\n",
       "      <td>18.191784</td>\n",
       "      <td>-1.025899</td>\n",
       "      <td>-0.367071</td>\n",
       "      <td>-0.419824</td>\n",
       "      <td>-0.859755</td>\n",
       "      <td>-0.084455</td>\n",
       "      <td>-0.423822</td>\n",
       "      <td>...</td>\n",
       "      <td>-2.486677</td>\n",
       "      <td>-1.683715</td>\n",
       "      <td>-1.694156</td>\n",
       "      <td>-1.419016</td>\n",
       "      <td>0.350669</td>\n",
       "      <td>0.275146</td>\n",
       "      <td>0.245732</td>\n",
       "      <td>-0.222022</td>\n",
       "      <td>-0.919872</td>\n",
       "      <td>-0.640108</td>\n",
       "    </tr>\n",
       "    <tr>\n",
       "      <th>A3GALT2</th>\n",
       "      <td>-0.002266</td>\n",
       "      <td>-0.059957</td>\n",
       "      <td>-0.456240</td>\n",
       "      <td>-1.025899</td>\n",
       "      <td>18.191784</td>\n",
       "      <td>-0.243064</td>\n",
       "      <td>-0.702458</td>\n",
       "      <td>-1.097170</td>\n",
       "      <td>-0.273833</td>\n",
       "      <td>0.063425</td>\n",
       "      <td>...</td>\n",
       "      <td>-0.648885</td>\n",
       "      <td>-0.387377</td>\n",
       "      <td>0.292008</td>\n",
       "      <td>0.291964</td>\n",
       "      <td>-2.814227</td>\n",
       "      <td>0.775090</td>\n",
       "      <td>0.761896</td>\n",
       "      <td>-0.005202</td>\n",
       "      <td>-0.379809</td>\n",
       "      <td>1.055833</td>\n",
       "    </tr>\n",
       "  </tbody>\n",
       "</table>\n",
       "<p>5 rows × 18119 columns</p>\n",
       "</div>"
      ],
      "text/plain": [
       "              A1BG       A1CF        A2M      A2ML1    A3GALT2    A4GALT  \\\n",
       "A1BG     18.191784  -1.242018   1.360831  -1.011252  -0.002266  1.028501   \n",
       "A1CF     -1.242018  18.191784   0.378603  -0.350676  -0.059957 -1.832413   \n",
       "A2M       1.360831   0.378603  18.191784   1.671774  -0.456240 -1.044572   \n",
       "A2ML1    -1.011252  -0.350676   1.671774  18.191784  -1.025899 -0.367071   \n",
       "A3GALT2  -0.002266  -0.059957  -0.456240  -1.025899  18.191784 -0.243064   \n",
       "\n",
       "            A4GNT      AAAS      AACS     AADAC  ...    ZWILCH     ZWINT  \\\n",
       "A1BG    -0.013928  0.189783 -0.111264  1.054949  ...  0.266351 -0.163454   \n",
       "A1CF    -0.058989  0.879592 -1.663634  0.416674  ... -1.698830 -0.212665   \n",
       "A2M      0.110470 -0.732363  0.035439  1.188912  ... -0.216869 -1.055333   \n",
       "A2ML1   -0.419824 -0.859755 -0.084455 -0.423822  ... -2.486677 -1.683715   \n",
       "A3GALT2 -0.702458 -1.097170 -0.273833  0.063425  ... -0.648885 -0.387377   \n",
       "\n",
       "             ZXDA      ZXDB      ZXDC    ZYG11A    ZYG11B       ZYX     ZZEF1  \\\n",
       "A1BG    -0.612117  0.116316 -0.993662  0.847710  0.822466  0.866504  0.848916   \n",
       "A1CF     1.627540  1.389030 -0.941134  0.047841  0.625232 -1.342363 -0.415734   \n",
       "A2M     -0.134216 -1.155436  0.038226 -0.533334  0.039291 -0.626993  1.098631   \n",
       "A2ML1   -1.694156 -1.419016  0.350669  0.275146  0.245732 -0.222022 -0.919872   \n",
       "A3GALT2  0.292008  0.291964 -2.814227  0.775090  0.761896 -0.005202 -0.379809   \n",
       "\n",
       "             ZZZ3  \n",
       "A1BG     0.824848  \n",
       "A1CF     0.622525  \n",
       "A2M      0.728893  \n",
       "A2ML1   -0.640108  \n",
       "A3GALT2  1.055833  \n",
       "\n",
       "[5 rows x 18119 columns]"
      ]
     },
     "execution_count": 32,
     "metadata": {},
     "output_type": "execute_result"
    }
   ],
   "source": [
    "crispr_z.head()"
   ]
  },
  {
   "cell_type": "markdown",
   "metadata": {},
   "source": [
    "### Combine CRISPR and RNAi Z-scores\n",
    "\n",
    "Take the average of CRISPR and RNAi z-scores and drop missing values (that arise from a gene being knocked down/out in one dataset but not the other)."
   ]
  },
  {
   "cell_type": "code",
   "execution_count": 33,
   "metadata": {},
   "outputs": [],
   "source": [
    "dep_z = (crispr_z + rnai_z) / 2\n",
    "#dep_z = dep_z.dropna(axis=0, how='all').dropna(axis=1, how='all')"
   ]
  },
  {
   "cell_type": "code",
   "execution_count": 34,
   "metadata": {},
   "outputs": [
    {
     "data": {
      "text/html": [
       "<div>\n",
       "<style scoped>\n",
       "    .dataframe tbody tr th:only-of-type {\n",
       "        vertical-align: middle;\n",
       "    }\n",
       "\n",
       "    .dataframe tbody tr th {\n",
       "        vertical-align: top;\n",
       "    }\n",
       "\n",
       "    .dataframe thead th {\n",
       "        text-align: right;\n",
       "    }\n",
       "</style>\n",
       "<table border=\"1\" class=\"dataframe\">\n",
       "  <thead>\n",
       "    <tr style=\"text-align: right;\">\n",
       "      <th></th>\n",
       "      <th>A1BG</th>\n",
       "      <th>A1CF</th>\n",
       "      <th>A2M</th>\n",
       "      <th>A2ML1</th>\n",
       "      <th>A3GALT2</th>\n",
       "      <th>A4GALT</th>\n",
       "      <th>A4GNT</th>\n",
       "      <th>AAAS</th>\n",
       "      <th>AACS</th>\n",
       "      <th>AADAC</th>\n",
       "      <th>...</th>\n",
       "      <th>ZWILCH</th>\n",
       "      <th>ZWINT</th>\n",
       "      <th>ZXDA</th>\n",
       "      <th>ZXDB</th>\n",
       "      <th>ZXDC</th>\n",
       "      <th>ZYG11A</th>\n",
       "      <th>ZYG11B</th>\n",
       "      <th>ZYX</th>\n",
       "      <th>ZZEF1</th>\n",
       "      <th>ZZZ3</th>\n",
       "    </tr>\n",
       "  </thead>\n",
       "  <tbody>\n",
       "    <tr>\n",
       "      <th>A1BG</th>\n",
       "      <td>15.463673</td>\n",
       "      <td>-1.069459</td>\n",
       "      <td>0.501264</td>\n",
       "      <td>-0.749312</td>\n",
       "      <td>NaN</td>\n",
       "      <td>0.427838</td>\n",
       "      <td>0.065514</td>\n",
       "      <td>0.348175</td>\n",
       "      <td>-0.679073</td>\n",
       "      <td>0.676983</td>\n",
       "      <td>...</td>\n",
       "      <td>0.903604</td>\n",
       "      <td>-0.509278</td>\n",
       "      <td>-0.244109</td>\n",
       "      <td>-0.181828</td>\n",
       "      <td>-0.641325</td>\n",
       "      <td>0.599607</td>\n",
       "      <td>NaN</td>\n",
       "      <td>0.302438</td>\n",
       "      <td>0.309948</td>\n",
       "      <td>0.158036</td>\n",
       "    </tr>\n",
       "    <tr>\n",
       "      <th>A1CF</th>\n",
       "      <td>-1.069459</td>\n",
       "      <td>15.463673</td>\n",
       "      <td>0.027066</td>\n",
       "      <td>0.431180</td>\n",
       "      <td>NaN</td>\n",
       "      <td>-1.241620</td>\n",
       "      <td>0.206729</td>\n",
       "      <td>0.970342</td>\n",
       "      <td>-0.529760</td>\n",
       "      <td>0.750996</td>\n",
       "      <td>...</td>\n",
       "      <td>-1.508243</td>\n",
       "      <td>-0.364256</td>\n",
       "      <td>0.499767</td>\n",
       "      <td>0.859637</td>\n",
       "      <td>-0.201751</td>\n",
       "      <td>0.800503</td>\n",
       "      <td>NaN</td>\n",
       "      <td>-0.083901</td>\n",
       "      <td>-0.649245</td>\n",
       "      <td>-0.208967</td>\n",
       "    </tr>\n",
       "    <tr>\n",
       "      <th>A2M</th>\n",
       "      <td>0.501264</td>\n",
       "      <td>0.027066</td>\n",
       "      <td>15.463673</td>\n",
       "      <td>0.055449</td>\n",
       "      <td>NaN</td>\n",
       "      <td>-0.915802</td>\n",
       "      <td>0.556658</td>\n",
       "      <td>-0.563435</td>\n",
       "      <td>-0.720257</td>\n",
       "      <td>-0.085417</td>\n",
       "      <td>...</td>\n",
       "      <td>-0.678895</td>\n",
       "      <td>-0.290741</td>\n",
       "      <td>-0.682953</td>\n",
       "      <td>-0.218508</td>\n",
       "      <td>-0.934303</td>\n",
       "      <td>-0.288072</td>\n",
       "      <td>NaN</td>\n",
       "      <td>-0.325707</td>\n",
       "      <td>0.520424</td>\n",
       "      <td>-0.389817</td>\n",
       "    </tr>\n",
       "    <tr>\n",
       "      <th>A2ML1</th>\n",
       "      <td>-0.749312</td>\n",
       "      <td>0.431180</td>\n",
       "      <td>0.055449</td>\n",
       "      <td>15.463673</td>\n",
       "      <td>NaN</td>\n",
       "      <td>0.047235</td>\n",
       "      <td>-0.229197</td>\n",
       "      <td>0.066786</td>\n",
       "      <td>0.459282</td>\n",
       "      <td>0.434633</td>\n",
       "      <td>...</td>\n",
       "      <td>-1.249283</td>\n",
       "      <td>-0.802965</td>\n",
       "      <td>-0.141557</td>\n",
       "      <td>-1.105889</td>\n",
       "      <td>0.242465</td>\n",
       "      <td>0.050851</td>\n",
       "      <td>NaN</td>\n",
       "      <td>-0.477857</td>\n",
       "      <td>-0.843290</td>\n",
       "      <td>-0.846143</td>\n",
       "    </tr>\n",
       "    <tr>\n",
       "      <th>A3GALT2</th>\n",
       "      <td>NaN</td>\n",
       "      <td>NaN</td>\n",
       "      <td>NaN</td>\n",
       "      <td>NaN</td>\n",
       "      <td>NaN</td>\n",
       "      <td>NaN</td>\n",
       "      <td>NaN</td>\n",
       "      <td>NaN</td>\n",
       "      <td>NaN</td>\n",
       "      <td>NaN</td>\n",
       "      <td>...</td>\n",
       "      <td>NaN</td>\n",
       "      <td>NaN</td>\n",
       "      <td>NaN</td>\n",
       "      <td>NaN</td>\n",
       "      <td>NaN</td>\n",
       "      <td>NaN</td>\n",
       "      <td>NaN</td>\n",
       "      <td>NaN</td>\n",
       "      <td>NaN</td>\n",
       "      <td>NaN</td>\n",
       "    </tr>\n",
       "  </tbody>\n",
       "</table>\n",
       "<p>5 rows × 19761 columns</p>\n",
       "</div>"
      ],
      "text/plain": [
       "              A1BG       A1CF        A2M      A2ML1  A3GALT2    A4GALT  \\\n",
       "A1BG     15.463673  -1.069459   0.501264  -0.749312      NaN  0.427838   \n",
       "A1CF     -1.069459  15.463673   0.027066   0.431180      NaN -1.241620   \n",
       "A2M       0.501264   0.027066  15.463673   0.055449      NaN -0.915802   \n",
       "A2ML1    -0.749312   0.431180   0.055449  15.463673      NaN  0.047235   \n",
       "A3GALT2        NaN        NaN        NaN        NaN      NaN       NaN   \n",
       "\n",
       "            A4GNT      AAAS      AACS     AADAC  ...    ZWILCH     ZWINT  \\\n",
       "A1BG     0.065514  0.348175 -0.679073  0.676983  ...  0.903604 -0.509278   \n",
       "A1CF     0.206729  0.970342 -0.529760  0.750996  ... -1.508243 -0.364256   \n",
       "A2M      0.556658 -0.563435 -0.720257 -0.085417  ... -0.678895 -0.290741   \n",
       "A2ML1   -0.229197  0.066786  0.459282  0.434633  ... -1.249283 -0.802965   \n",
       "A3GALT2       NaN       NaN       NaN       NaN  ...       NaN       NaN   \n",
       "\n",
       "             ZXDA      ZXDB      ZXDC    ZYG11A  ZYG11B       ZYX     ZZEF1  \\\n",
       "A1BG    -0.244109 -0.181828 -0.641325  0.599607     NaN  0.302438  0.309948   \n",
       "A1CF     0.499767  0.859637 -0.201751  0.800503     NaN -0.083901 -0.649245   \n",
       "A2M     -0.682953 -0.218508 -0.934303 -0.288072     NaN -0.325707  0.520424   \n",
       "A2ML1   -0.141557 -1.105889  0.242465  0.050851     NaN -0.477857 -0.843290   \n",
       "A3GALT2       NaN       NaN       NaN       NaN     NaN       NaN       NaN   \n",
       "\n",
       "             ZZZ3  \n",
       "A1BG     0.158036  \n",
       "A1CF    -0.208967  \n",
       "A2M     -0.389817  \n",
       "A2ML1   -0.846143  \n",
       "A3GALT2       NaN  \n",
       "\n",
       "[5 rows x 19761 columns]"
      ]
     },
     "execution_count": 34,
     "metadata": {},
     "output_type": "execute_result"
    }
   ],
   "source": [
    "dep_z.head()"
   ]
  },
  {
   "cell_type": "code",
   "execution_count": 35,
   "metadata": {},
   "outputs": [],
   "source": [
    "filename = 'dep_z'\n",
    "filepath = join(basedir, filename)\n",
    "dep_z.to_hdf('%s.h5' % filepath, filename)"
   ]
  },
  {
   "cell_type": "markdown",
   "metadata": {},
   "source": [
    "### Expression Data\n",
    "\n",
    "Load the RNA-seq data (in transcripts per million, obtained from the DepMap website at https://depmap.org/portal/download/). Normalize column names (which include both gene names and Ensemble IDs) to only gene names, and then drop duplicate columns, keeping the first instance of the column for the gene name (there are 87 genes associated with more than one Ensemble ID, and these result in duplicate columns after normalizing to gene names)."
   ]
  },
  {
   "cell_type": "code",
   "execution_count": 36,
   "metadata": {},
   "outputs": [
    {
     "name": "stdout",
     "output_type": "stream",
     "text": [
      "CPU times: user 21.8 s, sys: 677 ms, total: 22.5 s\n",
      "Wall time: 22.8 s\n"
     ]
    }
   ],
   "source": [
    "%time ccle_df = pd.read_csv(join(basedir, 'CCLE_expression.csv'), index_col=0)"
   ]
  },
  {
   "cell_type": "code",
   "execution_count": 37,
   "metadata": {},
   "outputs": [],
   "source": [
    "gene_cols = ['%s' % col.split(' ')[0] for col in ccle_df.columns]\n",
    "ccle_df.columns = gene_cols\n",
    "# NOTE: This first way doesn't work! Probably because with duplicate column names a\n",
    "# separate integer index is created after transposition (?)\n",
    "#%time ccle_df_drop = ccle_df.T.drop_duplicates(keep='first').T\n",
    "# See: https://stackoverflow.com/questions/14984119/python-pandas-remove-duplicate-columns\n",
    "ccle_df_drop = ccle_df.loc[:,~ccle_df.columns.duplicated()]"
   ]
  },
  {
   "cell_type": "markdown",
   "metadata": {},
   "source": [
    "Calculate expression correlation matrix (takes about 11 min):"
   ]
  },
  {
   "cell_type": "code",
   "execution_count": 38,
   "metadata": {},
   "outputs": [],
   "source": [
    "recalculate = False\n",
    "filename = 'expr_correlations'\n",
    "filepath = join(basedir, filename)\n",
    "if recalculate:\n",
    "    %time expr_corr = ccle_df.corr()\n",
    "    expr_corr.to_hdf('%s.h5' % filepath, filename)\n",
    "else:\n",
    "    expr_corr = pd.read_hdf('%s.h5' % filepath)    "
   ]
  },
  {
   "cell_type": "markdown",
   "metadata": {},
   "source": [
    "Filter the expression data to contain only those columns also contained in the CRISPR dependency data (protein coding genes, for the most part)."
   ]
  },
  {
   "cell_type": "code",
   "execution_count": null,
   "metadata": {},
   "outputs": [],
   "source": [
    "crispr_cols = [c for c in crispr_df.columns]\n",
    "# Create a boolean mask to filter the CCLE expression data columns\n",
    "ccle_col_mask = np.array(ccle_df_drop.columns.map(lambda x: x in crispr_cols), dtype=bool)\n",
    "ccle_df_filt = ccle_df_drop[ccle_df_drop.columns[ccle_col_mask]]"
   ]
  },
  {
   "cell_type": "markdown",
   "metadata": {},
   "source": [
    "Join the two datasets on the cell line index:"
   ]
  },
  {
   "cell_type": "code",
   "execution_count": null,
   "metadata": {},
   "outputs": [],
   "source": [
    "crispr_expr_join_df = crispr_df.join(ccle_df_filt, how='left', lsuffix=' KO', rsuffix=' RNA')"
   ]
  },
  {
   "cell_type": "markdown",
   "metadata": {},
   "source": [
    "Calculate the correlations (slow) or reload from HDF5."
   ]
  },
  {
   "cell_type": "code",
   "execution_count": null,
   "metadata": {},
   "outputs": [],
   "source": [
    "recalculate = False\n",
    "filename = 'crispr_expr_corr'\n",
    "filepath = join(basedir, filename)\n",
    "if recalculate:\n",
    "    %time ce_corr = crispr_expr_join_df.corr()\n",
    "    ce_corr.to_hdf('%s.h5' % filepath, filename)\n",
    "else:\n",
    "    ce_corr = pd.read_hdf('%s.h5' % filepath)"
   ]
  },
  {
   "cell_type": "markdown",
   "metadata": {},
   "source": [
    "### Load Drug Data"
   ]
  },
  {
   "cell_type": "code",
   "execution_count": null,
   "metadata": {},
   "outputs": [],
   "source": [
    "#drug_resp_df = pd.read_csv(join(basedir, 'primary-screen-replicate-collapsed-logfold-change.csv'), index_col=0)\n",
    "#drug_info_df = pd.read_csv(join(basedir, 'primary-screen-replicate-collapsed-treatment-info.csv'), index_col=0)"
   ]
  },
  {
   "cell_type": "markdown",
   "metadata": {},
   "source": [
    "Join drug sensitivity to expression on the cell line index:"
   ]
  },
  {
   "cell_type": "code",
   "execution_count": null,
   "metadata": {},
   "outputs": [],
   "source": [
    "#drug_expr_df = drug_resp_df.join(ccle_df_filt, how='left')"
   ]
  },
  {
   "cell_type": "markdown",
   "metadata": {},
   "source": [
    "## Define functions for exploring and visualizing the data"
   ]
  },
  {
   "cell_type": "markdown",
   "metadata": {},
   "source": [
    "Get the sorted list of correlations for a given gene."
   ]
  },
  {
   "cell_type": "code",
   "execution_count": null,
   "metadata": {
    "code_folding": []
   },
   "outputs": [],
   "source": [
    "def sort_corrs(corrs, col_name):\n",
    "    s = corrs[col_name]\n",
    "    return sorted(list(zip(s.index, s)), key=lambda x: abs(float(x[1])), reverse=True)"
   ]
  },
  {
   "cell_type": "markdown",
   "metadata": {},
   "source": [
    "Define a function to get the top correlated genes for a given gene."
   ]
  },
  {
   "cell_type": "code",
   "execution_count": null,
   "metadata": {
    "code_folding": []
   },
   "outputs": [],
   "source": [
    "def get_expr_corrs(df, geneX):\n",
    "    mygene_arr = df[geneX].values\n",
    "    data = df.values\n",
    "    corrs = np.zeros(data.shape[1])\n",
    "    for i in range(data.shape[1]):\n",
    "        vect = data[:,i]\n",
    "        r = np.corrcoef(mygene_arr, vect)[0, 1]\n",
    "        corrs[i] = r\n",
    "    genes = [c for c in df.columns]\n",
    "    corr_genes = sorted(list(zip(genes, corrs)), reverse=True, key=lambda x: abs(x[1]))\n",
    "    corr_genes_dict = {k: v for k, v in corr_genes}\n",
    "    return corr_genes"
   ]
  },
  {
   "cell_type": "code",
   "execution_count": null,
   "metadata": {},
   "outputs": [],
   "source": [
    "def corrs_for_genes(genes, df=None, cutoff=3.0):\n",
    "    all_corrs = []\n",
    "    if df is None:\n",
    "        df = dep_z\n",
    "    for gene_a in genes:\n",
    "        try:\n",
    "            gene_corrs = sort_corrs(df, gene_a)[1:]\n",
    "        except KeyError:\n",
    "            continue\n",
    "        for gene_b, corr_z in gene_corrs:\n",
    "            if abs(corr_z > cutoff):\n",
    "                all_corrs.append((gene_a, gene_b, corr_z))\n",
    "    return all_corrs"
   ]
  },
  {
   "cell_type": "code",
   "execution_count": null,
   "metadata": {},
   "outputs": [],
   "source": [
    "sort_corrs(expr_corr, 'LATS1')"
   ]
  },
  {
   "cell_type": "markdown",
   "metadata": {},
   "source": [
    "Define a function to plot the relationship between the transcription of two genes, along with a linear regression and the residuals."
   ]
  },
  {
   "cell_type": "code",
   "execution_count": null,
   "metadata": {
    "code_folding": []
   },
   "outputs": [],
   "source": [
    "def scatter(df, geneX, y_arr, y_label, bins=30):\n",
    "    plt.figure(figsize=(12,3))\n",
    "    plt.subplot(1, 3, 1)\n",
    "    plt.plot(df[geneX], y_arr, linestyle='', marker='.')\n",
    "    plt.xlabel('%s TPM' % geneX)\n",
    "    plt.ylabel(y_label)\n",
    "    r = np.corrcoef(df[geneX], y_arr)[0][1]\n",
    "    plt.title('Corr: %.3f' % r)\n",
    "    slope, intercept, r_value, p_value, std_err = \\\n",
    "                    stats.linregress(df[geneX], y_arr)\n",
    "    yhat = slope * df[geneX] + intercept\n",
    "    plt.plot(df[geneX], yhat, color='k')\n",
    "    residuals = y_arr - yhat\n",
    "    plt.subplot(1, 3, 2)\n",
    "    plt.hist(residuals, bins=bins)\n",
    "    plt.title('Residuals')\n",
    "    plt.subplot(1, 3, 3)\n",
    "    stats.probplot(residuals, dist='norm', plot=plt)\n",
    "    plt.title('Quantile-quantile plot vs. normal')\n",
    "    return residuals"
   ]
  },
  {
   "cell_type": "code",
   "execution_count": null,
   "metadata": {},
   "outputs": [],
   "source": [
    "res1 = scatter(ccle_df, 'FOXO3', ccle_df['BAX'], 'AKT1 TPM', bins=20)"
   ]
  },
  {
   "cell_type": "code",
   "execution_count": null,
   "metadata": {},
   "outputs": [],
   "source": [
    "res2 = scatter(ccle_df, 'YAP1', res1, 'Res 1', bins=20)"
   ]
  },
  {
   "cell_type": "markdown",
   "metadata": {},
   "source": [
    "Next steps:\n",
    "1. load the INDRA SIF statement file\n",
    "2. tabulate explanations for correlations;\n",
    "3. predict correlations from graph structure, edge properties"
   ]
  },
  {
   "cell_type": "code",
   "execution_count": null,
   "metadata": {},
   "outputs": [],
   "source": [
    "sorted(corrs_for_genes(['KIRREL1'], df=expr_corr), \n",
    "       key=lambda x: x[2], reverse=True)"
   ]
  },
  {
   "cell_type": "markdown",
   "metadata": {},
   "source": [
    "## Load Solute Carrier Family genes"
   ]
  },
  {
   "cell_type": "code",
   "execution_count": null,
   "metadata": {},
   "outputs": [],
   "source": [
    "slc_df = pd.read_csv('data/slc_genes.csv')"
   ]
  },
  {
   "cell_type": "code",
   "execution_count": null,
   "metadata": {},
   "outputs": [],
   "source": [
    "slc_genes = list(slc_df['Approved symbol'].values)"
   ]
  },
  {
   "cell_type": "code",
   "execution_count": null,
   "metadata": {},
   "outputs": [],
   "source": [
    "inet_file = '/Users/johnbachman/Dropbox/1johndata/Knowledge File/Biology/Research' \\\n",
    "            '/Big Mechanism/datasets/depmap_analysis/graphs/2021-01-06/indranet_dir_graph.pkl'\n",
    "with open(inet_file, 'rb') as f:\n",
    "    inet = pickle.load(f)"
   ]
  },
  {
   "cell_type": "code",
   "execution_count": 5,
   "metadata": {},
   "outputs": [],
   "source": [
    "# Load reactome dict\n",
    "reactome_file = '/Users/johnbachman/Dropbox/1johndata/Knowledge File/Biology/Research/Big Mechanism/' \\\n",
    "                'datasets/depmap_analysis/reactome_pathways.pkl'\n",
    "\n",
    "apriori_mapping = get_mitocarta_info(mito_file)\n",
    "\n",
    "with open(reactome_file, 'rb') as f:\n",
    "    up2path, _, pathid2pathname = pickle.load(f)\n",
    "    \n",
    "reactome_dict = {'uniprot_mapping': up2path,\n",
    "                 'pathid_name_mapping': pathid2pathname}\n",
    "\n",
    "expl_funcs=['apriori_explained', 'expl_ab', 'expl_ba', 'expl_axb',\n",
    "            'expl_bxa', 'find_cp', 'get_st', 'common_reactome_paths']\n",
    "\n",
    "sd_range = (2, None)\n",
    "dme_file = 'slc_explainer.pkl'"
   ]
  },
  {
   "cell_type": "code",
   "execution_count": null,
   "metadata": {},
   "outputs": [],
   "source": [
    "run_depmap(inet, dme_file, 'unsigned', sd_range, subset_list=slc_genes,\n",
    "           z_score=dep_z, overwrite=True, reactome_dict=reactome_dict,\n",
    "           depmap_date='21q1', expl_funcs=expl_funcs, apriori_explained=apriori_mapping, n_chunks=4)"
   ]
  },
  {
   "cell_type": "code",
   "execution_count": null,
   "metadata": {},
   "outputs": [],
   "source": [
    "import mplayer\n",
    "p = mplayer.Player()\n",
    "success_file = '/Users/johnbachman/Downloads/success.m4a'\n",
    "p.loadfile(success_file)"
   ]
  },
  {
   "cell_type": "code",
   "execution_count": 6,
   "metadata": {},
   "outputs": [],
   "source": [
    "with open(dme_file, 'rb') as f:\n",
    "    dme = pickle.load(f)"
   ]
  },
  {
   "cell_type": "code",
   "execution_count": 7,
   "metadata": {},
   "outputs": [],
   "source": [
    "dme_pair = dme.stats_df.set_index('pair').drop(['agA', 'agB', 'z_score'], axis=1)\n",
    "dme_df = dme.expl_df.join(dme_pair, on='pair')"
   ]
  },
  {
   "cell_type": "code",
   "execution_count": 8,
   "metadata": {},
   "outputs": [],
   "source": [
    "slc_to_expl = dme_df[(dme_df['z_score'] > 3) &\n",
    "                     (dme_df['apriori_explained'] == False) &\n",
    "                     (dme_df['reactome_paths'] == False)]"
   ]
  },
  {
   "cell_type": "code",
   "execution_count": 17,
   "metadata": {},
   "outputs": [
    {
     "ename": "NameError",
     "evalue": "name 'dep_z' is not defined",
     "output_type": "error",
     "traceback": [
      "\u001b[0;31m---------------------------------------------------------------------------\u001b[0m",
      "\u001b[0;31mNameError\u001b[0m                                 Traceback (most recent call last)",
      "\u001b[0;32m<ipython-input-17-6e7e4d24e29a>\u001b[0m in \u001b[0;36m<module>\u001b[0;34m\u001b[0m\n\u001b[0;32m----> 1\u001b[0;31m \u001b[0mdme\u001b[0m\u001b[0;34m.\u001b[0m\u001b[0mplot_corr_stats\u001b[0m\u001b[0;34m(\u001b[0m\u001b[0;34m'slc_output'\u001b[0m\u001b[0;34m,\u001b[0m \u001b[0mz_corr\u001b[0m\u001b[0;34m=\u001b[0m\u001b[0mdep_z\u001b[0m\u001b[0;34m)\u001b[0m\u001b[0;34m\u001b[0m\u001b[0;34m\u001b[0m\u001b[0m\n\u001b[0m",
      "\u001b[0;31mNameError\u001b[0m: name 'dep_z' is not defined"
     ]
    }
   ],
   "source": [
    "dme.plot_corr_stats('slc_output', z_corr=dep_z)"
   ]
  },
  {
   "cell_type": "code",
   "execution_count": 13,
   "metadata": {
    "scrolled": true
   },
   "outputs": [],
   "source": [
    "gene = 'SLC4A7'\n",
    "gene_df = slc_to_expl[(slc_to_expl['agA'] == gene) | (slc_to_expl['agB'] == gene)]\n",
    "expl_set = []\n",
    "for row in gene_df.itertuples():\n",
    "    if row.expl_type == 'shared_regulator':\n",
    "        continue\n",
    "    elif row.expl_type == 'shared_target':\n",
    "        expl_data = row.expl_data[2]\n",
    "    else:\n",
    "        expl_data = row.expl_data\n",
    "    for expl in expl_data:\n",
    "        expl_set.append(expl)\n",
    "expl_ctr = Counter(expl_set)\n",
    "expl_ctr = sorted([(k, v) for k, v in expl_ctr.items()], key=lambda x: x[1], reverse=True)"
   ]
  },
  {
   "cell_type": "code",
   "execution_count": 14,
   "metadata": {},
   "outputs": [
    {
     "data": {
      "text/plain": [
       "[('NTRK1', 43),\n",
       " ('TRIM25', 30),\n",
       " ('cell population proliferation', 24),\n",
       " ('apoptotic process', 22),\n",
       " ('sodium atom', 19),\n",
       " ('TMEM17', 18),\n",
       " ('Hydrogen-Ion Concentration', 15),\n",
       " ('Neoplasm Invasiveness', 14),\n",
       " ('cell differentiation', 14),\n",
       " ('magnesium atom', 13),\n",
       " ('LGALS3', 12),\n",
       " ('calcium(2+)', 12),\n",
       " ('cell cycle', 10),\n",
       " ('transport', 10),\n",
       " ('reactive oxygen species', 9),\n",
       " ('CDH1', 9),\n",
       " ('ERK', 9),\n",
       " ('TMEM216', 9),\n",
       " ('PI3K', 8),\n",
       " ('TGFB1', 8),\n",
       " ('ELAVL1', 8),\n",
       " ('ESR1', 8),\n",
       " ('localization', 8),\n",
       " ('SRC', 8),\n",
       " ('sodium chloride', 7),\n",
       " (\"3',5'-cyclic AMP\", 7),\n",
       " ('EGFR', 7),\n",
       " ('PRKAA1', 7),\n",
       " ('ERBB2', 7),\n",
       " ('CXCL8', 6),\n",
       " ('AR', 6),\n",
       " ('homeostatic process', 6),\n",
       " ('CSF2', 6),\n",
       " ('GPI', 6),\n",
       " ('RACK1', 6),\n",
       " ('hydrogen chloride', 6),\n",
       " ('BCAT1', 6),\n",
       " ('KLF4', 5),\n",
       " ('AKT1', 5),\n",
       " ('SLC9A1', 5),\n",
       " ('CA2', 4),\n",
       " ('SNX21', 3),\n",
       " ('PKA', 3),\n",
       " ('progesterone', 3),\n",
       " ('pyraclofos', 3),\n",
       " ('PPP3', 3),\n",
       " ('UNK', 3),\n",
       " ('CSF1', 3),\n",
       " ('GNAS', 3),\n",
       " ('RAS', 3),\n",
       " ('YWHAB', 3),\n",
       " ('bisphenol A', 3),\n",
       " ('cooH', 3),\n",
       " ('UL20', 3),\n",
       " ('hydrogencarbonate', 2),\n",
       " ('Endothelial Cells', 2),\n",
       " ('MAC', 2),\n",
       " ('doxycycline', 2),\n",
       " ('PPP2', 2),\n",
       " ('DLG4', 2),\n",
       " ('benzo[a]pyrene', 2),\n",
       " ('EPHA3', 2),\n",
       " ('valproic acid', 2),\n",
       " ('ethanol', 2),\n",
       " ('GDE1', 1),\n",
       " ('PITX2', 1),\n",
       " ('RORA', 1),\n",
       " ('quercetin', 1),\n",
       " ('pH reduction', 1),\n",
       " ('cisplatin', 1),\n",
       " ('perfluorooctanoic acid', 1),\n",
       " ('phorbol 13-acetate 12-myristate', 1),\n",
       " ('dexamethasone', 1),\n",
       " ('co-2', 1),\n",
       " ('DHPS', 1),\n",
       " ('5alpha-cholestane-3beta,5,6beta-triol', 1),\n",
       " ('CPE', 1),\n",
       " ('selenium atom', 1),\n",
       " ('NTS', 1),\n",
       " ('D-glucopyranose', 1),\n",
       " ('N-methyl-D-aspartic acid', 1)]"
      ]
     },
     "execution_count": 14,
     "metadata": {},
     "output_type": "execute_result"
    }
   ],
   "source": [
    "expl_ctr"
   ]
  },
  {
   "cell_type": "markdown",
   "metadata": {},
   "source": [
    "## Other"
   ]
  },
  {
   "cell_type": "code",
   "execution_count": null,
   "metadata": {},
   "outputs": [],
   "source": [
    "from indra.util import batch_iter"
   ]
  },
  {
   "cell_type": "code",
   "execution_count": null,
   "metadata": {},
   "outputs": [],
   "source": [
    "goi = 'MDM2'\n",
    "res = sort_corrs(dep_z, goi)\n",
    "#for r in res[0:20]:\n",
    "#    print(r)\n",
    "expl_pct = []\n",
    "batch_size = 1000\n",
    "for batch in batch_iter(res, batch_size):\n",
    "    counter = 0\n",
    "    for gene, corr in batch:\n",
    "        if gene in indra_dg[goi]:\n",
    "            counter += 1\n",
    "    pct = 100 * (counter / batch_size)\n",
    "    expl_pct.append(pct)"
   ]
  },
  {
   "cell_type": "code",
   "execution_count": null,
   "metadata": {},
   "outputs": [],
   "source": [
    "plt.figure()\n",
    "plt.bar(range(len(expl_pct)), expl_pct)"
   ]
  },
  {
   "cell_type": "markdown",
   "metadata": {},
   "source": [
    "# Drug-Drug Correlations"
   ]
  },
  {
   "cell_type": "code",
   "execution_count": null,
   "metadata": {},
   "outputs": [],
   "source": [
    "drug2_corrs = drug_resp_df.corr()"
   ]
  },
  {
   "cell_type": "code",
   "execution_count": null,
   "metadata": {},
   "outputs": [],
   "source": [
    "from indra.sources import tas\n",
    "tp = tas.process_from_web()"
   ]
  },
  {
   "cell_type": "code",
   "execution_count": null,
   "metadata": {},
   "outputs": [],
   "source": [
    "tas_stmts = tp.statements"
   ]
  },
  {
   "cell_type": "code",
   "execution_count": null,
   "metadata": {},
   "outputs": [],
   "source": [
    "# Build up a dictionary of mappings from CHEBI to SMILES and INCHIKEY\n",
    "import pyobo\n",
    "chebi_inchikey_property = 'http://purl.obolibrary.org/obo/chebi/inchikey'\n",
    "chebi_smiles_property = 'http://purl.obolibrary.org/obo/chebi/smiles'\n",
    "chebi_id_to_smiles = pyobo.get_filtered_properties_mapping('chebi', chebi_smiles_property)\n",
    "chebi_id_to_inchikey = pyobo.get_filtered_properties_mapping('chebi', chebi_inchikey_property)"
   ]
  },
  {
   "cell_type": "code",
   "execution_count": null,
   "metadata": {},
   "outputs": [],
   "source": [
    "foo = [stmt for stmt in tas_stmts if stmt.agent_list()[0].name == 'vemurafenib']"
   ]
  },
  {
   "cell_type": "code",
   "execution_count": null,
   "metadata": {},
   "outputs": [],
   "source": [
    "foo[0]"
   ]
  },
  {
   "cell_type": "code",
   "execution_count": null,
   "metadata": {
    "scrolled": true
   },
   "outputs": [],
   "source": [
    "foo[0].subj.db_refs"
   ]
  },
  {
   "cell_type": "code",
   "execution_count": null,
   "metadata": {},
   "outputs": [],
   "source": [
    "chembl_ids = [stmt.agent_list()[0].db_refs.get('CHEMBL') for stmt in tas_stmts]\n",
    "chembl_ids = list(set([i for i in chembl_ids if i]))"
   ]
  },
  {
   "cell_type": "code",
   "execution_count": null,
   "metadata": {},
   "outputs": [],
   "source": [
    "len(chembl_ids)"
   ]
  },
  {
   "cell_type": "code",
   "execution_count": null,
   "metadata": {},
   "outputs": [],
   "source": [
    "chembl_ids_str = ';'.join(chembl_ids[0:200])"
   ]
  },
  {
   "cell_type": "code",
   "execution_count": null,
   "metadata": {},
   "outputs": [],
   "source": []
  },
  {
   "cell_type": "code",
   "execution_count": null,
   "metadata": {},
   "outputs": [],
   "source": [
    "j = res.json()"
   ]
  },
  {
   "cell_type": "code",
   "execution_count": null,
   "metadata": {},
   "outputs": [],
   "source": [
    "j['molecules'][0]['molecule_chembl_id']"
   ]
  },
  {
   "cell_type": "code",
   "execution_count": null,
   "metadata": {},
   "outputs": [],
   "source": [
    "import requests\n",
    "from indra.util import batch_iter\n",
    "batch_size = 200\n",
    "chembl_url = 'https://www.ebi.ac.uk/chembl/api/data/molecule/set/'\n",
    "inchi_keys = []\n",
    "for ix, batch in enumerate(batch_iter(chembl_ids, batch_size)):\n",
    "    chembl_ids_str = ';'.join(list(batch))\n",
    "    print(ix)\n",
    "    res = requests.get(chembl_url + chembl_ids_str, headers={'Accept': 'application/json'})\n",
    "    if res.status_code != 200:\n",
    "        print(\"Error occurred\")\n",
    "        break\n",
    "    for mol in j['molecules']:\n",
    "        cid = mol['molecule_chembl_id']\n",
    "        ik = mol['molecule_structures']['standard_inchi_key']\n",
    "        inchi_keys.append((cid, ik))"
   ]
  },
  {
   "cell_type": "code",
   "execution_count": null,
   "metadata": {},
   "outputs": [],
   "source": [
    "j = res.json()"
   ]
  },
  {
   "cell_type": "code",
   "execution_count": null,
   "metadata": {},
   "outputs": [],
   "source": [
    "inchi_to_chembl = {t[1]: t[0] for t in inchi_keys}\n",
    "chembl_to_inchi = {t[0]: t[1] for t in inchi_keys}"
   ]
  },
  {
   "cell_type": "code",
   "execution_count": null,
   "metadata": {},
   "outputs": [],
   "source": [
    "def get_drug_id(name):\n",
    "    drug_rec = drug_info_df[drug_info_df.name == name]\n",
    "    return drug_rec.index.to_list()[0]\n",
    "\n",
    "def get_drug_name(drug_id):\n",
    "    drug_rec = drug_info_df.loc[drug_id]\n",
    "    return drug_rec['name']\n",
    "\n",
    "def get_drug_targets(drug_id):\n",
    "    drug_rec = drug_info_df.loc[drug_id]\n",
    "    targets = drug_rec['target']\n",
    "    if pd.isna(targets):\n",
    "        return []\n",
    "    else:\n",
    "        return [t.strip() for t in targets.split(',')]"
   ]
  },
  {
   "cell_type": "code",
   "execution_count": null,
   "metadata": {},
   "outputs": [],
   "source": [
    "# Dump all smiles strings from the DepMap data\n",
    "depmap_smiles = set()\n",
    "for _, smiles_str in drug_info_df.smiles.items():\n",
    "    if pd.isna(smiles_str):\n",
    "        continue\n",
    "    for sm in smiles_str.split(','):\n",
    "        sm = sm.strip()\n",
    "        if sm:\n",
    "            depmap_smiles.add(sm.strip())\n",
    "            \n",
    "depmap_smiles = list(demap_smiles)\n",
    "\n",
    "with open('depmap_smiles.txt', 'wt') as f:\n",
    "    for sm in depmap_smiles:\n",
    "        f.write('%s\\n' % sm)"
   ]
  },
  {
   "cell_type": "code",
   "execution_count": null,
   "metadata": {},
   "outputs": [],
   "source": [
    "# Convert from SMILES to INCHIKEY using obabel:\n",
    "# $ obabel -ismi depmap_smiles.txt -oinchikey > depmap_inchikey.txt"
   ]
  },
  {
   "cell_type": "code",
   "execution_count": null,
   "metadata": {},
   "outputs": [],
   "source": [
    "# Now, read the INCHIKEY databack in and build up a mapping dictionary\n",
    "depmap_inchikey = []\n",
    "with open('depmap_inchikey.txt', 'rt') as f:\n",
    "    depmap_inchikey = [l.strip() for l in f.readlines()]\n",
    "depmap_smiles_to_ik = dict(zip(depmap_smiles, depmap_inchikey))"
   ]
  },
  {
   "cell_type": "code",
   "execution_count": null,
   "metadata": {},
   "outputs": [],
   "source": [
    "import requests\n",
    "from indra.util import batch_iter\n",
    "chembl_url = 'https://www.ebi.ac.uk/chembl/api/data/substructure/'\n",
    "dmik_to_chembl = {}\n",
    "for ix, ik in enumerate(depmap_smiles_to_ik.values()):\n",
    "    if ix > 10:\n",
    "        break\n",
    "    res = requests.get(chembl_url + ik, headers={'Accept': 'application/json'})\n",
    "    if res.status_code != 200:\n",
    "        print(\"Error occurred\")\n",
    "        break\n",
    "    if res.json()['molecules']:\n",
    "        for mol in res.json()['molecules']:\n",
    "            cid = mol['molecule_chembl_id']\n",
    "            if ik not in dmik_to_chembl:\n",
    "                dmik_to_chembl[ik] = [cid]\n",
    "            else:\n",
    "                dmik_to_chembl[ik].append(cid)"
   ]
  },
  {
   "cell_type": "code",
   "execution_count": null,
   "metadata": {
    "scrolled": true
   },
   "outputs": [],
   "source": [
    "dmik_to_chembl"
   ]
  },
  {
   "cell_type": "code",
   "execution_count": null,
   "metadata": {},
   "outputs": [],
   "source": [
    "drug_name = 'vemurafenib'"
   ]
  },
  {
   "cell_type": "code",
   "execution_count": null,
   "metadata": {
    "scrolled": true
   },
   "outputs": [],
   "source": [
    "drug_info_df[drug_info_df['name'] == 'vemurafenib']"
   ]
  },
  {
   "cell_type": "code",
   "execution_count": null,
   "metadata": {},
   "outputs": [],
   "source": [
    "sm = [s.strip() for s in drug_info_df[drug_info_df['name'] == 'vemurafenib']['smiles'].values[0].split(',')]"
   ]
  },
  {
   "cell_type": "code",
   "execution_count": null,
   "metadata": {},
   "outputs": [],
   "source": [
    "sm"
   ]
  },
  {
   "cell_type": "code",
   "execution_count": null,
   "metadata": {},
   "outputs": [],
   "source": [
    "for s in sm:\n",
    "    ik = depmap_smiles_to_ik[s]\n",
    "    print(ik)"
   ]
  },
  {
   "cell_type": "code",
   "execution_count": null,
   "metadata": {},
   "outputs": [],
   "source": [
    "chembl_to_inchi['CHEMBL1229517']"
   ]
  },
  {
   "cell_type": "code",
   "execution_count": null,
   "metadata": {},
   "outputs": [],
   "source": [
    "drug_name = 'abemaciclib'\n",
    "corrs = sort_corrs(drug2_corrs, get_drug_id(drug_name))\n",
    "results = []\n",
    "corr_k = 20\n",
    "for i, (corr_drug_id, corr_val) in enumerate(corrs):\n",
    "    if corr_val == 1.0:\n",
    "        continue\n",
    "    if i >= corr_k:\n",
    "        break\n",
    "    corr_drug_name = get_drug_name(corr_drug_id)\n",
    "    corr_targets = get_drug_targets(corr_drug_id)\n",
    "    for t in corr_targets:\n",
    "        results.append((corr_drug_name, corr_drug_id, corr_val, t))\n",
    "tgt_df = pd.DataFrame.from_records(results, columns=('drug_name', 'drug_id', 'corr', 'target'))"
   ]
  },
  {
   "cell_type": "code",
   "execution_count": null,
   "metadata": {},
   "outputs": [],
   "source": [
    "tgt_df"
   ]
  },
  {
   "cell_type": "code",
   "execution_count": null,
   "metadata": {},
   "outputs": [],
   "source": [
    "tgt_df"
   ]
  },
  {
   "cell_type": "code",
   "execution_count": null,
   "metadata": {},
   "outputs": [],
   "source": [
    "tgt_corrs = tgt_df.groupby('target')['corr'].sum()\n",
    "tgt_counts = tgt_df.groupby('target')['drug_id'].count()\n",
    "tgt_corrs.sort_values(ascending=False, inplace=True)\n",
    "tgt_counts.sort_values(ascending=False, inplace=True)"
   ]
  },
  {
   "cell_type": "code",
   "execution_count": null,
   "metadata": {},
   "outputs": [],
   "source": [
    "num_tgts = 20\n",
    "top_corrs = tgt_corrs[0:num_tgts]\n",
    "labels = top_corrs.index.to_list()\n",
    "corrs = top_corrs.values"
   ]
  },
  {
   "cell_type": "code",
   "execution_count": null,
   "metadata": {},
   "outputs": [],
   "source": [
    "plt.figure()\n",
    "plt.bar(range(len(corrs)), corrs, align='center', tick_label=labels)\n",
    "plt.xticks(rotation='vertical')\n",
    "plt.subplots_adjust(bottom=0.2)\n",
    "plt.xlabel('Nominal targets of top %d correlates' % corr_k)\n",
    "plt.ylabel('Count')\n",
    "plt.title('Targets of drugs correlated with %s' % drug_name)\n",
    "plt.show()"
   ]
  },
  {
   "cell_type": "markdown",
   "metadata": {},
   "source": [
    "# Depmap Paper Figures"
   ]
  },
  {
   "cell_type": "markdown",
   "metadata": {},
   "source": [
    "## Figure 1: Example correlation"
   ]
  },
  {
   "cell_type": "code",
   "execution_count": null,
   "metadata": {},
   "outputs": [],
   "source": [
    "from indra.util import plot_formatting as pf\n",
    "from scipy.stats import linregress\n",
    "\n",
    "pf.set_fig_params()\n",
    "geneA = 'CDKN1A'\n",
    "geneB = 'CHEK2'\n",
    "lw = 0.5\n",
    "ms = 1\n",
    "fig = plt.figure(figsize=(4, 2))\n",
    "# CRISPR plot\n",
    "plt.subplot(1, 2, 1)\n",
    "ax = plt.gca()\n",
    "ax.axhline(y=0, color='k', linewidth=lw)\n",
    "ax.axvline(x=0, color='k', linewidth=lw)\n",
    "plt.plot(crispr_df[geneA].values, crispr_df[geneB].values, marker='.', markersize=ms, linestyle='')\n",
    "# Plot linear regression\n",
    "crispr_lr = linregress(crispr_df[geneA].values, crispr_df[geneB].values)\n",
    "plt.plot(crispr_df[geneA].values, crispr_df[geneA].values * crispr_lr.slope + crispr_lr.intercept,\n",
    "         linestyle='-', linewidth=lw, color='black')\n",
    "plt.xlabel(f'{geneA} Gene Effect (CERES)')\n",
    "plt.ylabel(f'{geneB} Gene Effect (CERES)')\n",
    "ax.text(1.4, 1.5, 'rho = %0.3f' % crispr_lr.rvalue, fontsize=pf.fontsize)\n",
    "ax.text(1.4, 1.35, 'z = %0.2f' % crispr_z[geneA][geneB], fontsize=pf.fontsize)\n",
    "pf.format_axis(ax)\n",
    "# RNAi plot\n",
    "plt.subplot(1, 2, 2)\n",
    "rnai_df_filt = rnai_df[~pd.isnull(rnai_df[geneA]) & ~pd.isnull(rnai_df[geneB])]\n",
    "ax = plt.gca()\n",
    "ax.axhline(y=0, color='k', linewidth=lw)\n",
    "ax.axvline(x=0, color='k', linewidth=lw)\n",
    "plt.plot(rnai_df_filt[geneA].values, rnai_df_filt[geneB].values, marker='.', markersize=ms, linestyle='')\n",
    "# Plot linear regression\n",
    "rnai_lr = linregress(rnai_df_filt[geneA].values, rnai_df_filt[geneB].values)\n",
    "plt.plot(rnai_df_filt[geneA].values, rnai_df_filt[geneA].values * rnai_lr.slope + rnai_lr.intercept,\n",
    "         linestyle='-', linewidth=lw, color='black')\n",
    "plt.xlabel(f'{geneA} Gene Effect (DEMETER2)')\n",
    "plt.ylabel(f'{geneB} Gene Effect (DEMETER2)')\n",
    "ax.text(0.7, 0.69, 'rho = %0.3f' % rnai_lr.rvalue, fontsize=pf.fontsize)\n",
    "ax.text(0.7, 0.57, 'z = %0.2f' % rnai_z[geneA][geneB], fontsize=pf.fontsize)\n",
    "\n",
    "pf.format_axis(ax)\n",
    "fig.tight_layout()\n",
    "plt.savefig(join(figdir, f'{geneA}_{geneB}_corr_plot.pdf'))\n",
    "dep_z[geneA][geneB]"
   ]
  },
  {
   "cell_type": "markdown",
   "metadata": {},
   "source": [
    "## Figure 2: Stronger Effects -> Stronger Correlations, Mito genes"
   ]
  },
  {
   "cell_type": "code",
   "execution_count": null,
   "metadata": {},
   "outputs": [],
   "source": [
    "mitocarta = pd.read_excel('data/Human.MitoCarta2.0.xls', sheet_name=1)\n",
    "mitogenes = list(mitocarta.Symbol.values)"
   ]
  },
  {
   "cell_type": "code",
   "execution_count": null,
   "metadata": {},
   "outputs": [],
   "source": [
    "len(mitogenes)"
   ]
  },
  {
   "cell_type": "code",
   "execution_count": null,
   "metadata": {},
   "outputs": [],
   "source": [
    "'SSBP1' in mitogenes"
   ]
  },
  {
   "cell_type": "code",
   "execution_count": null,
   "metadata": {},
   "outputs": [],
   "source": [
    "crispr_mean = crispr_df.abs().mean(axis=0).sort_values()"
   ]
  },
  {
   "cell_type": "code",
   "execution_count": null,
   "metadata": {},
   "outputs": [],
   "source": [
    "crispr_z_mean = crispr_z.abs().mean(axis=0)"
   ]
  },
  {
   "cell_type": "code",
   "execution_count": null,
   "metadata": {},
   "outputs": [],
   "source": [
    "n_corrs = 100\n",
    "np.mean(sorted(crispr_z['CHEK2'].abs(), reverse=True)[1:n_corrs+1])"
   ]
  },
  {
   "cell_type": "code",
   "execution_count": null,
   "metadata": {},
   "outputs": [],
   "source": [
    "#crispr_z_mean = crispr_z.apply(lambda x: np.mean(sorted(x.abs(), reverse=True)[1:101]), axis=1)"
   ]
  },
  {
   "cell_type": "code",
   "execution_count": null,
   "metadata": {},
   "outputs": [],
   "source": [
    "crispr_z_mean.CHEK2"
   ]
  },
  {
   "cell_type": "code",
   "execution_count": null,
   "metadata": {},
   "outputs": [],
   "source": [
    "effect_corr = pd.concat([crispr_mean, crispr_z_mean], axis=1, sort=False)"
   ]
  },
  {
   "cell_type": "code",
   "execution_count": null,
   "metadata": {},
   "outputs": [],
   "source": [
    "mito_effect = effect_corr[effect_corr.index.isin(mitogenes)]\n",
    "nonmito_effect = effect_corr[~effect_corr.index.isin(mitogenes)]"
   ]
  },
  {
   "cell_type": "code",
   "execution_count": null,
   "metadata": {},
   "outputs": [],
   "source": [
    "res = nonmito_effect.groupby(pd.qcut(nonmito_effect[0].values, 400)).mean()"
   ]
  },
  {
   "cell_type": "code",
   "execution_count": null,
   "metadata": {},
   "outputs": [],
   "source": [
    "plt.plot(nonmito_effect[0], nonmito_effect[1], linestyle='', marker='.', color='b', alpha=0.5, label='Not in MitoCarta')\n",
    "plt.plot(mito_effect[0], mito_effect[1], linestyle='', marker='.', color='r', alpha=0.5, label='In MitoCarta')\n",
    "plt.plot(res[0].values, res[1].values, linewidth=3, color='black')\n",
    "plt.xlabel('Average CRISPR Gene Effect')\n",
    "plt.ylabel(f'Avg of top {n_corrs} CRISPR Corrs (z-scores)')\n",
    "plt.legend()"
   ]
  },
  {
   "cell_type": "markdown",
   "metadata": {},
   "source": [
    "## Clustering Correlation Data"
   ]
  },
  {
   "cell_type": "code",
   "execution_count": null,
   "metadata": {},
   "outputs": [],
   "source": [
    "dep_z.columns"
   ]
  },
  {
   "cell_type": "markdown",
   "metadata": {},
   "source": [
    "# Deprecated/Old"
   ]
  },
  {
   "cell_type": "markdown",
   "metadata": {},
   "source": [
    "## Load Cosmic Data"
   ]
  },
  {
   "cell_type": "code",
   "execution_count": null,
   "metadata": {},
   "outputs": [],
   "source": [
    "cos_df = pd.read_csv('data/Census_allThu Jun 13 20_37_30 2019.csv')"
   ]
  },
  {
   "cell_type": "code",
   "execution_count": null,
   "metadata": {},
   "outputs": [],
   "source": [
    "cos_df.head()"
   ]
  },
  {
   "cell_type": "code",
   "execution_count": null,
   "metadata": {},
   "outputs": [],
   "source": [
    "cos_corrs = corrs_for_genes(cos_df['Gene Symbol'])"
   ]
  },
  {
   "cell_type": "code",
   "execution_count": null,
   "metadata": {},
   "outputs": [],
   "source": [
    "dme"
   ]
  },
  {
   "cell_type": "code",
   "execution_count": null,
   "metadata": {},
   "outputs": [],
   "source": [
    "5+5"
   ]
  },
  {
   "cell_type": "code",
   "execution_count": null,
   "metadata": {},
   "outputs": [],
   "source": [
    "slc_df.head()\n",
    "slc_corrs = corrs_for_genes(slc_df['Approved symbol'])"
   ]
  },
  {
   "cell_type": "code",
   "execution_count": null,
   "metadata": {},
   "outputs": [],
   "source": [
    "slc_df"
   ]
  },
  {
   "cell_type": "code",
   "execution_count": null,
   "metadata": {},
   "outputs": [],
   "source": []
  },
  {
   "cell_type": "code",
   "execution_count": null,
   "metadata": {},
   "outputs": [],
   "source": [
    "mitocarta = pd.read_excel('data/Human.MitoCarta2.0.xls', sheet_name=1)\n",
    "mitogenes = list(mitocarta.Symbol.values)"
   ]
  },
  {
   "cell_type": "code",
   "execution_count": null,
   "metadata": {},
   "outputs": [],
   "source": [
    "'PNPT1' in mitogenes"
   ]
  },
  {
   "cell_type": "code",
   "execution_count": null,
   "metadata": {},
   "outputs": [],
   "source": [
    "slc_corrs"
   ]
  },
  {
   "cell_type": "code",
   "execution_count": null,
   "metadata": {},
   "outputs": [],
   "source": [
    "slc_corrs_filt = []\n",
    "slc_corrs_seen = set()\n",
    "for corr in slc_corrs:\n",
    "    # Filter out correlations we've already seen\n",
    "    corr_set = frozenset(corr)\n",
    "    if corr_set in slc_corrs_seen:\n",
    "        continue\n",
    "    else:\n",
    "        slc_corrs_seen.add(corr_set)\n",
    "    # Filter out self-correlations\n",
    "    if corr[0] == corr[1]:\n",
    "        continue\n",
    "    # Filter out mitochondrial gene correlations\n",
    "    elif corr[0] in mitogenes or corr[1] in mitogenes:\n",
    "        continue\n",
    "    else:\n",
    "        slc_corrs_filt.append(corr)"
   ]
  },
  {
   "cell_type": "code",
   "execution_count": null,
   "metadata": {},
   "outputs": [],
   "source": [
    "slc_corrs_filt.sort(key=lambda x: x[2], reverse=True)"
   ]
  },
  {
   "cell_type": "code",
   "execution_count": null,
   "metadata": {},
   "outputs": [],
   "source": [
    "slc_corrs_filt"
   ]
  },
  {
   "cell_type": "code",
   "execution_count": null,
   "metadata": {},
   "outputs": [],
   "source": [
    "len(slc_corrs_filt)"
   ]
  },
  {
   "cell_type": "code",
   "execution_count": null,
   "metadata": {},
   "outputs": [],
   "source": [
    "import csv\n",
    "with open('slc_corrs_no_mito.csv', 'wt') as f:\n",
    "    csv_writer = csv.writer(f, delimiter=',')\n",
    "    csv_writer.writerows(slc_corrs_filt)"
   ]
  },
  {
   "cell_type": "code",
   "execution_count": null,
   "metadata": {},
   "outputs": [],
   "source": [
    "import requests"
   ]
  },
  {
   "cell_type": "code",
   "execution_count": null,
   "metadata": {},
   "outputs": [],
   "source": [
    "query = {'source': None,\n",
    "         'target': None,\n",
    "         'stmt_filter': ['conversion', 'fplx'],\n",
    "         'node_filter': ['hgnc', 'fplx', 'chebi', 'pubchem', 'go', 'mesh'],\n",
    "         'node_blacklist': [],\n",
    "         'edge_hash_blacklist': [],\n",
    "         'path_length': 1,\n",
    "         'sign': 'no_sign',\n",
    "         'weighted': False,\n",
    "         'bsco': 0.,\n",
    "         'direct_only': False,\n",
    "         'curated_db_only': False,         \n",
    "         'fplx_expand': False,\n",
    "         'simple': False,\n",
    "         'k_shortest': False}\n",
    "\n",
    "def get_expl_corrs(gene_pairs):\n",
    "    no_path = []\n",
    "    has_2path = []\n",
    "    has_3path = []\n",
    "    for ix, (gene_a, gene_b, z_score) in enumerate(gene_pairs):\n",
    "        for source, target in ((gene_a, gene_b), (gene_b, gene_a)):\n",
    "            print(\"%d getting paths for %s, %s\" % (ix, source, target))\n",
    "            query['source'] = source\n",
    "            query['target'] = target\n",
    "            query['path_length'] = 1\n",
    "            res = requests.post('http://127.0.0.1:5000/query/submit', json=query).json()\n",
    "            if '2' in res['result']['paths_by_node_count']:\n",
    "                has_2path.append((source, target, z_score))\n",
    "            else:\n",
    "                query['path_length'] = 2\n",
    "                res = requests.post('http://127.0.0.1:5000/query/submit', json=query).json()\n",
    "                if '3' in res['result']['paths_by_node_count']:\n",
    "                    has_3path.append((source, target, z_score))                \n",
    "                else:\n",
    "                    no_path.append((source, target, z_score))\n",
    "    return {'no_path': no_path, 'has_2path': has_2path, 'has_3path': has_3path}"
   ]
  },
  {
   "cell_type": "code",
   "execution_count": null,
   "metadata": {},
   "outputs": [],
   "source": [
    "paths = get_expl_corrs(sorted(slc_corrs, key=lambda x: x[2], reverse=True))"
   ]
  },
  {
   "cell_type": "code",
   "execution_count": null,
   "metadata": {},
   "outputs": [],
   "source": [
    "paths['has_2path']"
   ]
  },
  {
   "cell_type": "code",
   "execution_count": null,
   "metadata": {},
   "outputs": [],
   "source": [
    "paths['has_3path']"
   ]
  },
  {
   "cell_type": "code",
   "execution_count": null,
   "metadata": {},
   "outputs": [],
   "source": [
    "paths['no_path']"
   ]
  },
  {
   "cell_type": "code",
   "execution_count": null,
   "metadata": {},
   "outputs": [],
   "source": [
    "query['source'] = 'GRSF1'\n",
    "query['target'] = 'SLC30A9'\n",
    "query['path_length'] = 2\n",
    "res = requests.post('http://127.0.0.1:5000/query/submit', json=query).json()"
   ]
  },
  {
   "cell_type": "code",
   "execution_count": null,
   "metadata": {},
   "outputs": [],
   "source": [
    "res"
   ]
  },
  {
   "cell_type": "markdown",
   "metadata": {
    "heading_collapsed": true
   },
   "source": [
    "## Load INDRA SIF DB"
   ]
  },
  {
   "cell_type": "code",
   "execution_count": null,
   "metadata": {
    "hidden": true
   },
   "outputs": [],
   "source": [
    "stmts_df = pd.read_csv('data/stmts_by_pair_type.csv')\n",
    "# Filter to HGNC only\n",
    "stmts_df = stmts_df[(stmts_df['agA_ns'] == 'HGNC') & (stmts_df['agB_ns'] == 'HGNC')]\n",
    "# Remove namespace and identifier columns, leaving only name\n",
    "stmts_df = stmts_df[['agA_name', 'agB_name', 'stmt_type', 'evidence_count']]\n",
    "# Remove self-edges\n",
    "stmts_df = stmts_df[stmts_df['agA_name'] != stmts_df['agB_name']]\n",
    "# Useful bits of Pandas to know, ultimately not used here:\n",
    "# pd.crosstab([foo['agA_name'], foo['agB_name']], foo['stmt_type'], foo['evidence_count'],\n",
    "#             aggfunc='sum', dropna=False).fillna(0)\n",
    "# baz = bar[bar.apply(lambda x: x.name[0] != x.name[1], axis=1)]"
   ]
  },
  {
   "cell_type": "code",
   "execution_count": null,
   "metadata": {
    "hidden": true
   },
   "outputs": [],
   "source": [
    "x_dict = {}\n",
    "for row in stmts_df.values:\n",
    "    try:\n",
    "        raw_corr = dep_z[row[0]][row[1]]\n",
    "        \"\"\"\n",
    "        if int(raw_corr) == 0:\n",
    "            corr = 0\n",
    "        elif int(raw_corr) < 0:\n",
    "            corr = -1\n",
    "        elif int(raw_corr) > 0:\n",
    "            corr = 1\n",
    "        \"\"\"\n",
    "        corr = raw_corr\n",
    "    except KeyError:\n",
    "        continue\n",
    "    stmt_type = row[2]\n",
    "    gene_pair = (row[0], row[1])\n",
    "    if gene_pair not in x_dict:\n",
    "        x_dict[gene_pair] = {'Corr': corr}\n",
    "    x_dict[gene_pair][stmt_type] = row[3]\n",
    "features = ['Activation', 'Inhibition', 'Corr']\n",
    "all_data = np.zeros((len(x_dict), len(features)))\n",
    "for row_ix, feat_dict in enumerate(x_dict.values()):\n",
    "    for feat_name, feat_val in feat_dict.items():\n",
    "        if feat_name not in features:\n",
    "            continue\n",
    "        feat_ix = features.index(feat_name)\n",
    "        all_data[row_ix, feat_ix] = feat_val"
   ]
  },
  {
   "cell_type": "code",
   "execution_count": null,
   "metadata": {
    "hidden": true
   },
   "outputs": [],
   "source": [
    "\"\"\"\n",
    "# Shuffle the matrix in place\n",
    "np.random.shuffle(all_data)\n",
    "# Balance the data\n",
    "ctr = Counter(all_data[:, -1])\n",
    "classes = sorted([(k, v) for k,  v in ctr.items()], key=lambda x: x[0])\n",
    "# Get the class with the fewest members\n",
    "min_class_count = min([t[1] for t in classes])\n",
    "min_class_count\n",
    "data_bal = np.zeros((min_class_count * len(classes), len(features)))\n",
    "row_ix = 0\n",
    "for one_class, count in classes:\n",
    "    num_class_rows = 0\n",
    "    for ix in range(all_data.shape[0]):\n",
    "        if all_data[ix, -1] == one_class:\n",
    "            data_bal[row_ix] = all_data[ix,:]\n",
    "            row_ix += 1\n",
    "            num_class_rows += 1\n",
    "        if num_class_rows >= min_class_count:\n",
    "            print(\"Finished class %s, at rows %s\" % (one_class, row_ix))\n",
    "            break\n",
    "\n",
    "\"\"\""
   ]
  },
  {
   "cell_type": "code",
   "execution_count": null,
   "metadata": {
    "hidden": true
   },
   "outputs": [],
   "source": [
    "# Divide training and test\n",
    "np.random.shuffle(all_data)\n",
    "partition_ix = int(len(all_data) * 0.8)\n",
    "train_data = all_data[0:partition_ix, :]\n",
    "test_data = all_data[partition_ix:, :]\n",
    "x_train = train_data[:,:-1]\n",
    "y_train = train_data[:, -1]\n",
    "x_test = test_data[:, :-1]\n",
    "y_test = test_data[:, -1]"
   ]
  },
  {
   "cell_type": "markdown",
   "metadata": {
    "heading_collapsed": true
   },
   "source": [
    "## Multinomial Naive Bayes"
   ]
  },
  {
   "cell_type": "code",
   "execution_count": null,
   "metadata": {
    "hidden": true,
    "scrolled": true
   },
   "outputs": [],
   "source": [
    "from sklearn.naive_bayes import MultinomialNB\n",
    "nb = MultinomialNB()\n",
    "nb.fit(x_train, y_train)\n",
    "nb.score(x_test, y_test)"
   ]
  },
  {
   "cell_type": "code",
   "execution_count": null,
   "metadata": {
    "hidden": true
   },
   "outputs": [],
   "source": [
    "yctr = Counter(y_train)\n",
    "yclasses = sorted([(k, v) for k,  v in yctr.items()], key=lambda x: x[0])"
   ]
  },
  {
   "cell_type": "code",
   "execution_count": null,
   "metadata": {
    "hidden": true
   },
   "outputs": [],
   "source": [
    "[features + ['Count']] + list(zip(nb.coef_, classes))"
   ]
  },
  {
   "cell_type": "markdown",
   "metadata": {
    "heading_collapsed": true
   },
   "source": [
    "## Linear Regression"
   ]
  },
  {
   "cell_type": "code",
   "execution_count": null,
   "metadata": {
    "hidden": true
   },
   "outputs": [],
   "source": [
    "from sklearn.linear_model import LinearRegression\n",
    "from sklearn.metrics import explained_variance_score\n",
    "from sklearn.kernel_ridge import KernelRidge\n",
    "lr = LinearRegression()"
   ]
  },
  {
   "cell_type": "code",
   "execution_count": null,
   "metadata": {
    "hidden": true
   },
   "outputs": [],
   "source": [
    "lr.fit(x_train, y_train)\n",
    "lr.coef_"
   ]
  },
  {
   "cell_type": "code",
   "execution_count": null,
   "metadata": {
    "hidden": true
   },
   "outputs": [],
   "source": [
    "y_pred = lr.predict(x_train)\n",
    "explained_variance_score(y_train, y_pred)"
   ]
  },
  {
   "cell_type": "code",
   "execution_count": null,
   "metadata": {
    "hidden": true
   },
   "outputs": [],
   "source": [
    "y_mean = np.full(y_train.shape, y_train.mean())\n",
    "explained_variance_score(y_train, y_mean)"
   ]
  },
  {
   "cell_type": "code",
   "execution_count": null,
   "metadata": {
    "hidden": true
   },
   "outputs": [],
   "source": [
    "y_pred_test = lr.predict(x_test)\n",
    "explained_variance_score(y_test, y_pred_test)"
   ]
  },
  {
   "cell_type": "markdown",
   "metadata": {
    "heading_collapsed": true
   },
   "source": [
    "## Load INDRA Statements (deprecated)"
   ]
  },
  {
   "cell_type": "code",
   "execution_count": null,
   "metadata": {
    "hidden": true
   },
   "outputs": [],
   "source": [
    "reload = False\n",
    "if reload:\n",
    "    inc_stmts = ac.load_statements('increase_amt.pkl')\n",
    "    dec_stmts = ac.load_statements('decrease_amt.pkl')\n",
    "    stmts = inc_stmts + dec_stmts\n",
    "    stmts = ac.map_grounding(stmts)\n",
    "    stmts = [s for s in stmts if s.subj and s.subj.db_refs.get('HGNC')\n",
    "                             and s.obj and s.obj.db_refs.get('HGNC')]\n",
    "    stmts = ac.run_preassembly(stmts)\n",
    "    ac.dump_statements(stmts, 'assembled_stmts.pkl')\n",
    "else:\n",
    "    stmts = ac.load_statements('assembled_stmts.pkl')"
   ]
  },
  {
   "cell_type": "code",
   "execution_count": null,
   "metadata": {
    "hidden": true
   },
   "outputs": [],
   "source": [
    "stmts_by_obj = defaultdict(list)\n",
    "for s in stmts:\n",
    "    gene_id = s.obj.db_refs['HGNC']\n",
    "    gene_name = hgnc_client.get_hgnc_name(gene_id)\n",
    "    stmts_by_obj[gene_name].append(s)"
   ]
  },
  {
   "cell_type": "code",
   "execution_count": null,
   "metadata": {
    "hidden": true
   },
   "outputs": [],
   "source": [
    "stmt_counts = []\n",
    "for obj, stmts in stmts_by_obj.items():\n",
    "    stmt_counts.append((obj, len(stmts)))\n",
    "stmt_counts.sort(key=lambda x: x[1], reverse=True)"
   ]
  },
  {
   "cell_type": "code",
   "execution_count": null,
   "metadata": {
    "hidden": true
   },
   "outputs": [],
   "source": [
    "stmt_counts[0:10]"
   ]
  },
  {
   "cell_type": "code",
   "execution_count": null,
   "metadata": {
    "hidden": true
   },
   "outputs": [],
   "source": [
    "gene = 'BCL2'\n",
    "rank = 0\n",
    "stmts_by_obj[gene].sort(key=lambda s: s.belief, reverse=True)\n",
    "print(stmts_by_obj[gene][rank], '\\n')\n",
    "print('\\n'.join(['%d: %s\\n' % (i, str((e.source_api, e.text)))\n",
    "                 for i, e in enumerate(stmts_by_obj[gene][rank].evidence)]))"
   ]
  }
 ],
 "metadata": {
  "hide_input": false,
  "kernelspec": {
   "display_name": "Python 3",
   "language": "python",
   "name": "python3"
  },
  "language_info": {
   "codemirror_mode": {
    "name": "ipython",
    "version": 3
   },
   "file_extension": ".py",
   "mimetype": "text/x-python",
   "name": "python",
   "nbconvert_exporter": "python",
   "pygments_lexer": "ipython3",
   "version": "3.7.4"
  }
 },
 "nbformat": 4,
 "nbformat_minor": 2
}
